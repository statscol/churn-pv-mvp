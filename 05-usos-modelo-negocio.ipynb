{
 "cells": [
  {
   "cell_type": "markdown",
   "metadata": {},
   "source": [
    "## 05- Usos del Modelo\n",
    "\n",
    "Existen diversas aplicaciones de negocio con el resultado u output de la herramienta analítica de churn. Debido a que esta arroja una probabilidad (0 a 1) de que un cliente no renueve su póliza. Este valor puede asumirse como una medición del grado de satisfacción del cliente con el servicio u producto obtenido. En ese orden de ideas, diversas iniciativas pueden proponerse usando como fuente la probabilidad de churn de los clientes, algunas pueden ser:\n",
    "\n",
    "- Caracterización de clientes de mayor riesgo de churn\n",
    "- Estimación del customer value en términos de su probabilidad de churn\n",
    "- Campañas de fidelización de los clientes con mayor riesgo de churn\n",
    "- Estrategias de renovación o venta cruzada para los clientes de menor riesgo de churn\n",
    "\n",
    "A continuación se realiza una pequeña caracterización de la probabilidad de churn de los clientes que tomaron pólizas en Febrero de 2022."
   ]
  },
  {
   "cell_type": "code",
   "execution_count": 1,
   "metadata": {},
   "outputs": [],
   "source": [
    "from model_parameters import *\n",
    "import pickle\n",
    "import pandas as pd\n",
    "import numpy as np\n",
    "from sklearn import set_config\n",
    "set_config(display='diagram')\n",
    "\n",
    "#cargue del modelo\n",
    "with open(\"models/xgbmodel.pickle\", 'rb') as f:\n",
    "    xgb = pickle.load(f)\n"
   ]
  },
  {
   "cell_type": "markdown",
   "metadata": {},
   "source": [
    "### Cargue de data feb 2022 generada en notebook 01"
   ]
  },
  {
   "cell_type": "code",
   "execution_count": 4,
   "metadata": {},
   "outputs": [],
   "source": [
    "data=pd.read_csv(\"polizas_feb22.csv\",sep=\";\",dtype={'Asegurado__c':str,'NumeroPoliza__c':str,'CodigoTipoAsegurado__c':str,'churn':int,'ClaseVehiculo__c':str,'TipoVehiculo__c':str,'PuntoVenta__c':str,'MarcaVehiculo__c':str},na_values=\"nan\")"
   ]
  },
  {
   "cell_type": "code",
   "execution_count": 16,
   "metadata": {},
   "outputs": [],
   "source": [
    "##calcular probabilidad de churn\n",
    "proba_churn=xgb.predict_proba(data)[:,1]\n",
    "data['proba_churn']=proba_churn\n"
   ]
  },
  {
   "cell_type": "markdown",
   "metadata": {},
   "source": [
    "### Regla de decisión\n",
    "Al tener la probabilidad de churn, es necesario establecer el valor a partir del cual un cliente es considerado con alto riesgo de churn. Una alternativa es usar los quantiles de la distribución."
   ]
  },
  {
   "cell_type": "code",
   "execution_count": 30,
   "metadata": {},
   "outputs": [
    {
     "name": "stdout",
     "output_type": "stream",
     "text": [
      "Percentil 25: 0.461 y 75: 0.519 \n"
     ]
    },
    {
     "data": {
      "image/png": "[encoded data removed]",
      "text/plain": [
       "<Figure size 432x288 with 1 Axes>"
      ]
     },
     "metadata": {
      "needs_background": "light"
     },
     "output_type": "display_data"
    }
   ],
   "source": [
    "data.proba_churn.plot(kind=\"hist\",title=\"Distribución de la Probabilidad de Churn\", color=\"darkgreen\");\n",
    "print(\"Percentil 25: {:.3f} y 75: {:.3f} \".format(*np.quantile(proba_churn,[0.25,0.75])))"
   ]
  },
  {
   "cell_type": "markdown",
   "metadata": {},
   "source": [
    "\n",
    "Podría decirse que, basado en la distribución de probabilidades de churn de febrero de 2022, el 25% de las probabilidades más altas empiezan a partir de `0.519`. Por tanto asumimos este valor como el punto de corte para clasificar un cliente con alta probabilidad de churn."
   ]
  },
  {
   "cell_type": "code",
   "execution_count": 39,
   "metadata": {},
   "outputs": [
    {
     "name": "stdout",
     "output_type": "stream",
     "text": [
      "Total Clientes con alto riesgo de churn: 2588\n"
     ]
    }
   ],
   "source": [
    "clientes_riesgo=data.query(\"proba_churn>0.519\")\n",
    "print(\"Total Clientes con alto riesgo de churn: {}\".format(clientes_riesgo.shape[0]))"
   ]
  },
  {
   "cell_type": "markdown",
   "metadata": {},
   "source": [
    "### Analicemos estos clientes"
   ]
  },
  {
   "cell_type": "code",
   "execution_count": 51,
   "metadata": {},
   "outputs": [
    {
     "data": {
      "text/plain": [
       "<AxesSubplot:ylabel='Frequency'>"
      ]
     },
     "execution_count": 51,
     "metadata": {},
     "output_type": "execute_result"
    },
    {
     "data": {
      "image/png": "[encoded data removed]",
      "text/plain": [
       "<Figure size 432x288 with 1 Axes>"
      ]
     },
     "metadata": {
      "needs_background": "light"
     },
     "output_type": "display_data"
    }
   ],
   "source": [
    "clientes_riesgo.edad.plot(kind=\"hist\")"
   ]
  },
  {
   "cell_type": "code",
   "execution_count": 66,
   "metadata": {},
   "outputs": [
    {
     "name": "stdout",
     "output_type": "stream",
     "text": [
      "===Caracterización Clientes con Mayor Riesgo de Churn===\n",
      "\n",
      " \t *Características Cualitativas*\n",
      "\n",
      " \tVariable: ciudad_name \t\n",
      "\n",
      "otras            1266\n",
      "BOGOTÁ D.C.        40\n",
      "MEDELLIN           15\n",
      "CALI                8\n",
      "ARMENIA             7\n",
      "NEIVA               7\n",
      "CÚCUTA              6\n",
      "BUCARAMANGA         5\n",
      "TULUÁ               4\n",
      "FLORENCIA           4\n",
      "PEREIRA             4\n",
      "MANIZALES           3\n",
      "PASTO               3\n",
      "POPAYÁN             3\n",
      "VILLAVICENCIO       3\n",
      "IBAGUÉ              1\n",
      "AGUA DE DIOS        1\n",
      "BARRANQUILLA        1\n",
      "Name: ciudad_name, dtype: int64\n",
      "\n",
      " \tVariable: tipo_prod_desc \t\n",
      "\n",
      "extracontractual         1290\n",
      "automoviles               994\n",
      "profesionales medicos     242\n",
      "operadores portuarios      46\n",
      "otras                      16\n",
      "Name: tipo_prod_desc, dtype: int64\n",
      "\n",
      " \tVariable: EstadoCivil__pc \t\n",
      "\n",
      "SOLTERO       875\n",
      "CASADO        330\n",
      "OTRO          128\n",
      "N A            23\n",
      "UNIDO          21\n",
      "DIVORCIADO      4\n",
      "Name: EstadoCivil__pc, dtype: int64\n",
      "\n",
      " \tVariable: Genero__pc \t\n",
      "\n",
      "MASCULINO    1032\n",
      "FEMENINO      328\n",
      "N A            21\n",
      "Name: Genero__pc, dtype: int64\n",
      "\n",
      "\t *Características Numéricas*\n",
      "\n",
      " Variable: total_siniestros Valor Mediano: 1.00 \t\n",
      "\n",
      "\n",
      " Variable: edad Valor Mediano: 37.66 \t\n",
      "\n",
      "\n",
      " Variable: AnnualRevenue Valor Mediano: 3.31 \t\n",
      "\n"
     ]
    }
   ],
   "source": [
    "print(\"===Caracterización Clientes con Mayor Riesgo de Churn===\\n\\n \\t *Características Cualitativas*\")\n",
    "\n",
    "for col in ['ciudad_name','tipo_prod_desc','EstadoCivil__pc','Genero__pc']:\n",
    "    print(f\"\\n \\tVariable: {col} \\t\\n\")\n",
    "    print(clientes_riesgo[col].value_counts(sort=True))\n",
    "\n",
    "print(\"\\n\\t *Características Numéricas*\")\n",
    "for col in ['total_siniestros','edad','AnnualRevenue']:\n",
    "    value=clientes_riesgo[col].median() if col !=\"AnnualRevenue\" else clientes_riesgo[col].median()/(12*1000000)\n",
    "    print(f\"\\n Variable: {col} Valor Mediano: {value:.2f} \\t\\n\")"
   ]
  },
  {
   "cell_type": "markdown",
   "metadata": {},
   "source": [
    "## Conclusiones\n",
    "\n",
    "Una posible caracterización de los clientes con mayor riesgo de churn, son los `hombres solteros que contratan pólizas tipo extracontractual`, que no viven en ciudades principales cercanos a los `38 años` con ingresos medios de `3.3 SMMLV` y que han tenido al menos `un siniestro previamente`."
   ]
  },
  {
   "cell_type": "code",
   "execution_count": 67,
   "metadata": {},
   "outputs": [],
   "source": [
    "##exportar data de clientes\n",
    "\n",
    "clientes_riesgo.to_csv(\"clientes_riesgofeb22.csv\",sep=\";\",index=False)"
   ]
  }
 ],
 "metadata": {
  "interpreter": {
   "hash": "4402f69885ff11948fe85d7f8668a89a5910c01defcebfa1c11d69defb9c6ee5"
  },
  "kernelspec": {
   "display_name": "Python 3.9.7 ('base')",
   "language": "python",
   "name": "python3"
  },
  "language_info": {
   "codemirror_mode": {
    "name": "ipython",
    "version": 3
   },
   "file_extension": ".py",
   "mimetype": "text/x-python",
   "name": "python",
   "nbconvert_exporter": "python",
   "pygments_lexer": "ipython3",
   "version": "3.9.7"
  },
  "orig_nbformat": 4
 },
 "nbformat": 4,
 "nbformat_minor": 2
}
