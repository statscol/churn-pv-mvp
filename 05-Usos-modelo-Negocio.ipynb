{
 "cells": [
  {
   "cell_type": "markdown",
   "metadata": {},
   "source": [
    "## 05- Usos del Modelo\n",
    "\n",
    "Existen diversas aplicaciones de negocio con el resultado u output de la herramienta analítica de churn. Debido a que esta arroja una probabilidad (0 a 1) de que un cliente no renueve su póliza. Este valor puede asumirse como una medición del grado de satisfacción del cliente con el servicio u producto obtenido. En ese orden de ideas, diversas iniciativas pueden proponerse usando como fuente la probabilidad de churn de los clientes, algunas pueden ser:\n",
    "\n",
    "- Caracterización de clientes de mayor riesgo de churn\n",
    "- Estimación del customer value en términos de su probabilidad de churn\n",
    "- Campañas de fidelización de los clientes con mayor riesgo de churn\n",
    "- Estrategias de renovación o venta cruzada para los clientes de menor riesgo de churn\n",
    "\n",
    "A continuación se realiza una pequeña caracterización de los clientes con mayor probabilidad de churn que tomaron pólizas en Febrero de 2022."
   ]
  },
  {
   "cell_type": "code",
   "execution_count": 1,
   "metadata": {},
   "outputs": [],
   "source": [
    "from model_parameters import *\n",
    "import pickle\n",
    "import pandas as pd\n",
    "import numpy as np\n",
    "from sklearn import set_config\n",
    "\n",
    "set_config(display='diagram')\n",
    "\n",
    "#cargue del modelo\n",
    "with open(\"models/lightgbm.pickle\", 'rb') as f:\n",
    "    lightgbm = pickle.load(f)\n",
    "\n",
    "with open(\"models/logistic.pickle\", 'rb') as f:\n",
    "    logistic = pickle.load(f)\n"
   ]
  },
  {
   "cell_type": "markdown",
   "metadata": {},
   "source": [
    "### Cargue de data feb 2022 generada en notebook 01"
   ]
  },
  {
   "cell_type": "code",
   "execution_count": 2,
   "metadata": {},
   "outputs": [],
   "source": [
    "data=pd.read_csv(\"polizas_feb22.csv\",sep=\";\",dtype={'Asegurado__c':str,'CodigoTipoAsegurado__c':str,'churn':int,'ClaseVehiculo__c':str,'TipoVehiculo__c':str,'PuntoVenta__c':str,'MarcaVehiculo__c':str},na_values=\"nan\")"
   ]
  },
  {
   "cell_type": "code",
   "execution_count": 3,
   "metadata": {},
   "outputs": [],
   "source": [
    "def pred_stack(data,proba=True,thresh=0.56):\n",
    "    proba_lgb=lightgbm.predict_proba(data)[:,1]\n",
    "    predict_log=logistic.predict_proba(data)[:,1]\n",
    "    if proba:\n",
    "        return np.stack((proba_lgb,predict_log),axis=1).mean(axis=1)\n",
    "    else:\n",
    "        return (np.stack((proba_lgb,predict_log),axis=1).mean(axis=1)>thresh).astype(int)"
   ]
  },
  {
   "cell_type": "code",
   "execution_count": 4,
   "metadata": {},
   "outputs": [],
   "source": [
    "##calcular probabilidad de churn\n",
    "proba_churn=pred_stack(data)\n",
    "data['proba_churn']=proba_churn\n"
   ]
  },
  {
   "cell_type": "markdown",
   "metadata": {},
   "source": [
    "### Regla de decisión\n",
    "Al tener la probabilidad de churn, es necesario establecer el valor a partir del cual un cliente es considerado con alto riesgo de churn. Una alternativa es usar los quantiles de la distribución."
   ]
  },
  {
   "cell_type": "code",
   "execution_count": 5,
   "metadata": {},
   "outputs": [
    {
     "name": "stdout",
     "output_type": "stream",
     "text": [
      "Percentil 25: 0.467 50: 0.542 y 75: 0.619 \n"
     ]
    },
    {
     "data": {
      "image/png": "[encoded data removed]",
      "text/plain": [
       "<Figure size 432x288 with 1 Axes>"
      ]
     },
     "metadata": {
      "needs_background": "light"
     },
     "output_type": "display_data"
    }
   ],
   "source": [
    "data.proba_churn.plot(kind=\"hist\",title=\"Distribución de la Probabilidad de Churn\", color=\"darkgreen\");\n",
    "print(\"Percentil 25: {:.3f} 50: {:.3f} y 75: {:.3f} \".format(*np.quantile(proba_churn,[0.25,0.5,0.75])))"
   ]
  },
  {
   "cell_type": "markdown",
   "metadata": {},
   "source": [
    "\n",
    "Podría decirse que, basado en la distribución de probabilidades de churn de febrero de 2022, el 50% de las probabilidades más altas empiezan a partir de `0.544`. Por tanto asumimos este valor como el punto de corte para clasificar un cliente con alta probabilidad de churn."
   ]
  },
  {
   "cell_type": "code",
   "execution_count": 6,
   "metadata": {},
   "outputs": [
    {
     "name": "stdout",
     "output_type": "stream",
     "text": [
      "Total Clientes con alto riesgo de churn: 1953\n"
     ]
    }
   ],
   "source": [
    "clientes_riesgo=data.query(\"proba_churn>0.594\")\n",
    "print(\"Total Clientes con alto riesgo de churn: {}\".format(clientes_riesgo.shape[0]))"
   ]
  },
  {
   "cell_type": "markdown",
   "metadata": {},
   "source": [
    "### Analicemos estos clientes"
   ]
  },
  {
   "cell_type": "code",
   "execution_count": 7,
   "metadata": {},
   "outputs": [
    {
     "data": {
      "text/plain": [
       "<AxesSubplot:ylabel='Frequency'>"
      ]
     },
     "execution_count": 7,
     "metadata": {},
     "output_type": "execute_result"
    },
    {
     "data": {
      "image/png": "[encoded data removed]",
      "text/plain": [
       "<Figure size 432x288 with 1 Axes>"
      ]
     },
     "metadata": {
      "needs_background": "light"
     },
     "output_type": "display_data"
    }
   ],
   "source": [
    "clientes_riesgo.edad.plot(kind=\"hist\")"
   ]
  },
  {
   "cell_type": "code",
   "execution_count": 11,
   "metadata": {},
   "outputs": [
    {
     "name": "stdout",
     "output_type": "stream",
     "text": [
      "===Caracterización Clientes con Mayor Riesgo de Churn===\n",
      "\n",
      "\t\t===== Ramo: automoviles ===== \n",
      "\n",
      "\n",
      " \t *Características Cualitativas* \n",
      "\n",
      " \tVariable: ciudad_name \t\n",
      "\n",
      "otras          1199\n",
      "BOGOTÁ D.C.      45\n",
      "MEDELLIN         26\n",
      "CÚCUTA           21\n",
      "ARMENIA          18\n",
      "Name: ciudad_name, dtype: int64\n",
      "\n",
      " \tVariable: tipo_prod_desc \t\n",
      "\n",
      "automoviles    1437\n",
      "Name: tipo_prod_desc, dtype: int64\n",
      "\n",
      " \tVariable: EstadoCivil__pc \t\n",
      "\n",
      "SOLTERO    758\n",
      "CASADO     387\n",
      "OTRO       210\n",
      "N A         52\n",
      "UNIDO       21\n",
      "Name: EstadoCivil__pc, dtype: int64\n",
      "\n",
      " \tVariable: Genero__pc \t\n",
      "\n",
      "MASCULINO    1088\n",
      "FEMENINO      297\n",
      "N A            49\n",
      "Name: Genero__pc, dtype: int64\n",
      "\n",
      "\t *Características Numéricas*\n",
      "\n",
      " Variable: total_siniestros Valor Mediano: 1.00 \t\n",
      "\n",
      "\n",
      " Variable: edad Valor Mediano: 42.83 \t\n",
      "\n",
      "\n",
      " Variable: AnnualRevenue Valor Mediano: 3.05 \t\n",
      "\n",
      "\n",
      " Variable: total_pagado_smmlv Valor Mediano: 1.17 \t\n",
      "\n",
      "\n",
      " Variable: n_prod_prev Valor Mediano: 1.00 \t\n",
      "\n",
      "\n",
      " Nivel de Riesgo de Fuga: 65.68% \t\n",
      "\n",
      "\n",
      "\t\t===== Ramo: responsabilidad civil ===== \n",
      "\n",
      "\n",
      " \t *Características Cualitativas* \n",
      "\n",
      " \tVariable: ciudad_name \t\n",
      "\n",
      "otras          451\n",
      "MEDELLIN        19\n",
      "BOGOTÁ D.C.     14\n",
      "CALI             5\n",
      "CARTAGENA        4\n",
      "Name: ciudad_name, dtype: int64\n",
      "\n",
      " \tVariable: tipo_prod_desc \t\n",
      "\n",
      "profesionales medicos    504\n",
      "Name: tipo_prod_desc, dtype: int64\n",
      "\n",
      " \tVariable: EstadoCivil__pc \t\n",
      "\n",
      "SOLTERO       346\n",
      "CASADO         86\n",
      "OTRO           61\n",
      "UNIDO           3\n",
      "DIVORCIADO      3\n",
      "Name: EstadoCivil__pc, dtype: int64\n",
      "\n",
      " \tVariable: Genero__pc \t\n",
      "\n",
      "MASCULINO    253\n",
      "FEMENINO     251\n",
      "Name: Genero__pc, dtype: int64\n",
      "\n",
      "\t *Características Numéricas*\n",
      "\n",
      " Variable: total_siniestros Valor Mediano: 1.00 \t\n",
      "\n",
      "\n",
      " Variable: edad Valor Mediano: 35.67 \t\n",
      "\n",
      "\n",
      " Variable: AnnualRevenue Valor Mediano: 3.05 \t\n",
      "\n",
      "\n",
      " Variable: total_pagado_smmlv Valor Mediano: 0.40 \t\n",
      "\n",
      "\n",
      " Variable: n_prod_prev Valor Mediano: 1.00 \t\n",
      "\n",
      "\n",
      " Nivel de Riesgo de Fuga: 64.70% \t\n",
      "\n",
      "\n",
      "\t\t===== Ramo: previhogar ===== \n",
      "\n",
      "\n",
      " \t *Características Cualitativas* \n",
      "\n",
      " \tVariable: ciudad_name \t\n",
      "\n",
      "otras    12\n",
      "Name: ciudad_name, dtype: int64\n",
      "\n",
      " \tVariable: tipo_prod_desc \t\n",
      "\n",
      "previhogar    12\n",
      "Name: tipo_prod_desc, dtype: int64\n",
      "\n",
      " \tVariable: EstadoCivil__pc \t\n",
      "\n",
      "SOLTERO    10\n",
      "CASADO      2\n",
      "Name: EstadoCivil__pc, dtype: int64\n",
      "\n",
      " \tVariable: Genero__pc \t\n",
      "\n",
      "FEMENINO     10\n",
      "MASCULINO     2\n",
      "Name: Genero__pc, dtype: int64\n",
      "\n",
      "\t *Características Numéricas*\n",
      "\n",
      " Variable: total_siniestros Valor Mediano: nan \t\n",
      "\n",
      "\n",
      " Variable: edad Valor Mediano: 73.81 \t\n",
      "\n",
      "\n",
      " Variable: AnnualRevenue Valor Mediano: 3.05 \t\n",
      "\n",
      "\n",
      " Variable: total_pagado_smmlv Valor Mediano: nan \t\n",
      "\n",
      "\n",
      " Variable: n_prod_prev Valor Mediano: 2.00 \t\n",
      "\n",
      "\n",
      " Nivel de Riesgo de Fuga: 60.24% \t\n",
      "\n"
     ]
    },
    {
     "name": "stderr",
     "output_type": "stream",
     "text": [
      "c:\\Users\\jhonp\\miniconda3\\lib\\site-packages\\numpy\\lib\\nanfunctions.py:1117: RuntimeWarning: Mean of empty slice\n",
      "  return np.nanmean(a, axis, out=out, keepdims=keepdims)\n",
      "c:\\Users\\jhonp\\miniconda3\\lib\\site-packages\\numpy\\lib\\nanfunctions.py:1117: RuntimeWarning: Mean of empty slice\n",
      "  return np.nanmean(a, axis, out=out, keepdims=keepdims)\n"
     ]
    }
   ],
   "source": [
    "print(\"===Caracterización Clientes con Mayor Riesgo de Churn===\")\n",
    "\n",
    "for ramo in clientes_riesgo.tipo_ramo_name.value_counts().index.tolist():\n",
    "    print(f\"\\n\\t\\t===== Ramo: {ramo} ===== \\n\\n\\n \\t *Características Cualitativas* \")\n",
    "\n",
    "    for col in ['ciudad_name','tipo_prod_desc','EstadoCivil__pc','Genero__pc']:\n",
    "        print(f\"\\n \\tVariable: {col} \\t\\n\")\n",
    "        print(clientes_riesgo.query(f'tipo_ramo_name==\"{ramo}\"')[col].value_counts(sort=True).head(5))\n",
    "\n",
    "    print(\"\\n\\t *Características Numéricas*\")\n",
    "    for col in ['total_siniestros','edad','AnnualRevenue','total_pagado_smmlv','n_prod_prev']:\n",
    "        value=clientes_riesgo.query(f\"tipo_ramo_name=='{ramo}'\")[col].median() if col !=\"AnnualRevenue\" else clientes_riesgo[col].median()/(12*1000000)\n",
    "        print(f\"\\n Variable: {col} Valor Mediano: {value:.2f} \\t\\n\")\n",
    "    value=clientes_riesgo.query(f\"tipo_ramo_name=='{ramo}'\")['proba_churn'].mean()\n",
    "    print(f\"\\n Nivel de Riesgo de Fuga: {value:.2%} \\t\\n\") "
   ]
  },
  {
   "cell_type": "markdown",
   "metadata": {},
   "source": [
    "## Conclusiones\n",
    "\n",
    "\n",
    "Una posible caracterización de los clientes con mayor riesgo de churn por tipo de ramo de producto es:\n",
    "\n",
    "- Automoviles:\n",
    "\n",
    "    - Principalmente `hombres solteros` de alrededor de `44 años` con ingresos de `3.05 SMMLV`, cuya `probabilidad de fuga promedio es del 65%`.\n",
    "\n",
    "- Resp civil:\n",
    "\n",
    "    - Principalmente `hombres solteros` que toman el producto de `profesionales médicos`, tienen `35 años en promedio` e ingresos alrededor de `3.05 SMMLV`. Su `probabilidad de fuga es de 62%` en promedio\n",
    "\n",
    "- Previhogar:\n",
    "\n",
    "    - principalmente `mujeres solteras` cuya edad ronda los `73 años`.\n"
   ]
  },
  {
   "cell_type": "code",
   "execution_count": 9,
   "metadata": {},
   "outputs": [],
   "source": [
    "##exportar data de clientes\n",
    "\n",
    "clientes_riesgo.to_csv(\"clientes_riesgofeb22.csv\",sep=\";\",index=False)"
   ]
  }
 ],
 "metadata": {
  "interpreter": {
   "hash": "4402f69885ff11948fe85d7f8668a89a5910c01defcebfa1c11d69defb9c6ee5"
  },
  "kernelspec": {
   "display_name": "Python 3.9.7 ('base')",
   "language": "python",
   "name": "python3"
  },
  "language_info": {
   "codemirror_mode": {
    "name": "ipython",
    "version": 3
   },
   "file_extension": ".py",
   "mimetype": "text/x-python",
   "name": "python",
   "nbconvert_exporter": "python",
   "pygments_lexer": "ipython3",
   "version": "3.9.7"
  },
  "orig_nbformat": 4
 },
 "nbformat": 4,
 "nbformat_minor": 2
}
