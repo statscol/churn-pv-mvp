{
 "cells": [
  {
   "cell_type": "markdown",
   "metadata": {},
   "source": [
    "## 04- Explicabilidad y Despliegue de la Solución\n",
    "\n",
    "En este notebook evaluaremos una parte importante del desarrollo de herramientas analíticas como lo es la explicabilidad del mejor modelo hallado en el notebook anterior. A su vez, introduciremos el procedimiento para desplegarlo a través de un docker container."
   ]
  },
  {
   "cell_type": "code",
   "execution_count": 2,
   "metadata": {},
   "outputs": [
    {
     "data": {
      "text/html": [
       "<style>#sk-29fa0ba3-ab15-46b5-acd2-7a1703fcb60a {color: black;background-color: white;}#sk-29fa0ba3-ab15-46b5-acd2-7a1703fcb60a pre{padding: 0;}#sk-29fa0ba3-ab15-46b5-acd2-7a1703fcb60a div.sk-toggleable {background-color: white;}#sk-29fa0ba3-ab15-46b5-acd2-7a1703fcb60a label.sk-toggleable__label {cursor: pointer;display: block;width: 100%;margin-bottom: 0;padding: 0.3em;box-sizing: border-box;text-align: center;}#sk-29fa0ba3-ab15-46b5-acd2-7a1703fcb60a label.sk-toggleable__label-arrow:before {content: \"▸\";float: left;margin-right: 0.25em;color: #696969;}#sk-29fa0ba3-ab15-46b5-acd2-7a1703fcb60a label.sk-toggleable__label-arrow:hover:before {color: black;}#sk-29fa0ba3-ab15-46b5-acd2-7a1703fcb60a div.sk-estimator:hover label.sk-toggleable__label-arrow:before {color: black;}#sk-29fa0ba3-ab15-46b5-acd2-7a1703fcb60a div.sk-toggleable__content {max-height: 0;max-width: 0;overflow: hidden;text-align: left;background-color: #f0f8ff;}#sk-29fa0ba3-ab15-46b5-acd2-7a1703fcb60a div.sk-toggleable__content pre {margin: 0.2em;color: black;border-radius: 0.25em;background-color: #f0f8ff;}#sk-29fa0ba3-ab15-46b5-acd2-7a1703fcb60a input.sk-toggleable__control:checked~div.sk-toggleable__content {max-height: 200px;max-width: 100%;overflow: auto;}#sk-29fa0ba3-ab15-46b5-acd2-7a1703fcb60a input.sk-toggleable__control:checked~label.sk-toggleable__label-arrow:before {content: \"▾\";}#sk-29fa0ba3-ab15-46b5-acd2-7a1703fcb60a div.sk-estimator input.sk-toggleable__control:checked~label.sk-toggleable__label {background-color: #d4ebff;}#sk-29fa0ba3-ab15-46b5-acd2-7a1703fcb60a div.sk-label input.sk-toggleable__control:checked~label.sk-toggleable__label {background-color: #d4ebff;}#sk-29fa0ba3-ab15-46b5-acd2-7a1703fcb60a input.sk-hidden--visually {border: 0;clip: rect(1px 1px 1px 1px);clip: rect(1px, 1px, 1px, 1px);height: 1px;margin: -1px;overflow: hidden;padding: 0;position: absolute;width: 1px;}#sk-29fa0ba3-ab15-46b5-acd2-7a1703fcb60a div.sk-estimator {font-family: monospace;background-color: #f0f8ff;border: 1px dotted black;border-radius: 0.25em;box-sizing: border-box;margin-bottom: 0.5em;}#sk-29fa0ba3-ab15-46b5-acd2-7a1703fcb60a div.sk-estimator:hover {background-color: #d4ebff;}#sk-29fa0ba3-ab15-46b5-acd2-7a1703fcb60a div.sk-parallel-item::after {content: \"\";width: 100%;border-bottom: 1px solid gray;flex-grow: 1;}#sk-29fa0ba3-ab15-46b5-acd2-7a1703fcb60a div.sk-label:hover label.sk-toggleable__label {background-color: #d4ebff;}#sk-29fa0ba3-ab15-46b5-acd2-7a1703fcb60a div.sk-serial::before {content: \"\";position: absolute;border-left: 1px solid gray;box-sizing: border-box;top: 2em;bottom: 0;left: 50%;}#sk-29fa0ba3-ab15-46b5-acd2-7a1703fcb60a div.sk-serial {display: flex;flex-direction: column;align-items: center;background-color: white;padding-right: 0.2em;padding-left: 0.2em;}#sk-29fa0ba3-ab15-46b5-acd2-7a1703fcb60a div.sk-item {z-index: 1;}#sk-29fa0ba3-ab15-46b5-acd2-7a1703fcb60a div.sk-parallel {display: flex;align-items: stretch;justify-content: center;background-color: white;}#sk-29fa0ba3-ab15-46b5-acd2-7a1703fcb60a div.sk-parallel::before {content: \"\";position: absolute;border-left: 1px solid gray;box-sizing: border-box;top: 2em;bottom: 0;left: 50%;}#sk-29fa0ba3-ab15-46b5-acd2-7a1703fcb60a div.sk-parallel-item {display: flex;flex-direction: column;position: relative;background-color: white;}#sk-29fa0ba3-ab15-46b5-acd2-7a1703fcb60a div.sk-parallel-item:first-child::after {align-self: flex-end;width: 50%;}#sk-29fa0ba3-ab15-46b5-acd2-7a1703fcb60a div.sk-parallel-item:last-child::after {align-self: flex-start;width: 50%;}#sk-29fa0ba3-ab15-46b5-acd2-7a1703fcb60a div.sk-parallel-item:only-child::after {width: 0;}#sk-29fa0ba3-ab15-46b5-acd2-7a1703fcb60a div.sk-dashed-wrapped {border: 1px dashed gray;margin: 0 0.4em 0.5em 0.4em;box-sizing: border-box;padding-bottom: 0.4em;background-color: white;position: relative;}#sk-29fa0ba3-ab15-46b5-acd2-7a1703fcb60a div.sk-label label {font-family: monospace;font-weight: bold;background-color: white;display: inline-block;line-height: 1.2em;}#sk-29fa0ba3-ab15-46b5-acd2-7a1703fcb60a div.sk-label-container {position: relative;z-index: 2;text-align: center;}#sk-29fa0ba3-ab15-46b5-acd2-7a1703fcb60a div.sk-container {/* jupyter's `normalize.less` sets `[hidden] { display: none; }` but bootstrap.min.css set `[hidden] { display: none !important; }` so we also need the `!important` here to be able to override the default hidden behavior on the sphinx rendered scikit-learn.org. See: https://github.com/scikit-learn/scikit-learn/issues/21755 */display: inline-block !important;position: relative;}#sk-29fa0ba3-ab15-46b5-acd2-7a1703fcb60a div.sk-text-repr-fallback {display: none;}</style><div id=\"sk-29fa0ba3-ab15-46b5-acd2-7a1703fcb60a\" class=\"sk-top-container\"><div class=\"sk-text-repr-fallback\"><pre>GridSearchCV(cv=5,\n",
       "             estimator=Pipeline(steps=[(&#x27;cleaner&#x27;,\n",
       "                                        ColumnTransformer(sparse_threshold=0,\n",
       "                                                          transformers=[(&#x27;num&#x27;,\n",
       "                                                                         Pipeline(steps=[(&#x27;imputer&#x27;,\n",
       "                                                                                          SimpleImputer(fill_value=0,\n",
       "                                                                                                        strategy=&#x27;constant&#x27;)),\n",
       "                                                                                         (&#x27;scaler&#x27;,\n",
       "                                                                                          StandardScaler())]),\n",
       "                                                                         [&#x27;n_prod_prev&#x27;,\n",
       "                                                                          &#x27;total_siniestros&#x27;,\n",
       "                                                                          &#x27;total_pagado_smmlv&#x27;,\n",
       "                                                                          &#x27;anios_ultimo_siniestro&#x27;,\n",
       "                                                                          &#x27;Activos__c&#x27;,\n",
       "                                                                          &#x27;AnnualRevenue&#x27;,\n",
       "                                                                          &#x27;MontoAnual__c&#x27;,\n",
       "                                                                          &#x27;Otros...\n",
       "                                                                          &#x27;tipo_prod_desc&#x27;,\n",
       "                                                                          &#x27;ClaseVehiculo__c&#x27;,\n",
       "                                                                          &#x27;TipoVehiculo__c&#x27;,\n",
       "                                                                          &#x27;EstadoCivil__pc&#x27;,\n",
       "                                                                          &#x27;Genero__pc&#x27;,\n",
       "                                                                          &#x27;ciudad_name&#x27;])])),\n",
       "                                       (&#x27;model&#x27;, GradientBoostingClassifier())],\n",
       "                                verbose=True),\n",
       "             n_jobs=-1,\n",
       "             param_grid={&#x27;model__learning_rate&#x27;: [0.01],\n",
       "                         &#x27;model__max_depth&#x27;: [5, 10, 20],\n",
       "                         &#x27;model__min_samples_split&#x27;: [2, 5],\n",
       "                         &#x27;model__n_estimators&#x27;: [50, 100, 250],\n",
       "                         &#x27;model__subsample&#x27;: [0.9, 1]},\n",
       "             scoring=&#x27;f1&#x27;, verbose=True)</pre><b>Please rerun this cell to show the HTML repr or trust the notebook.</b></div><div class=\"sk-container\" hidden><div class=\"sk-item sk-dashed-wrapped\"><div class=\"sk-label-container\"><div class=\"sk-label sk-toggleable\"><input class=\"sk-toggleable__control sk-hidden--visually\" id=\"0beb5437-4b3b-4de1-814a-0de370cb6558\" type=\"checkbox\" ><label for=\"0beb5437-4b3b-4de1-814a-0de370cb6558\" class=\"sk-toggleable__label sk-toggleable__label-arrow\">GridSearchCV</label><div class=\"sk-toggleable__content\"><pre>GridSearchCV(cv=5,\n",
       "             estimator=Pipeline(steps=[(&#x27;cleaner&#x27;,\n",
       "                                        ColumnTransformer(sparse_threshold=0,\n",
       "                                                          transformers=[(&#x27;num&#x27;,\n",
       "                                                                         Pipeline(steps=[(&#x27;imputer&#x27;,\n",
       "                                                                                          SimpleImputer(fill_value=0,\n",
       "                                                                                                        strategy=&#x27;constant&#x27;)),\n",
       "                                                                                         (&#x27;scaler&#x27;,\n",
       "                                                                                          StandardScaler())]),\n",
       "                                                                         [&#x27;n_prod_prev&#x27;,\n",
       "                                                                          &#x27;total_siniestros&#x27;,\n",
       "                                                                          &#x27;total_pagado_smmlv&#x27;,\n",
       "                                                                          &#x27;anios_ultimo_siniestro&#x27;,\n",
       "                                                                          &#x27;Activos__c&#x27;,\n",
       "                                                                          &#x27;AnnualRevenue&#x27;,\n",
       "                                                                          &#x27;MontoAnual__c&#x27;,\n",
       "                                                                          &#x27;Otros...\n",
       "                                                                          &#x27;tipo_prod_desc&#x27;,\n",
       "                                                                          &#x27;ClaseVehiculo__c&#x27;,\n",
       "                                                                          &#x27;TipoVehiculo__c&#x27;,\n",
       "                                                                          &#x27;EstadoCivil__pc&#x27;,\n",
       "                                                                          &#x27;Genero__pc&#x27;,\n",
       "                                                                          &#x27;ciudad_name&#x27;])])),\n",
       "                                       (&#x27;model&#x27;, GradientBoostingClassifier())],\n",
       "                                verbose=True),\n",
       "             n_jobs=-1,\n",
       "             param_grid={&#x27;model__learning_rate&#x27;: [0.01],\n",
       "                         &#x27;model__max_depth&#x27;: [5, 10, 20],\n",
       "                         &#x27;model__min_samples_split&#x27;: [2, 5],\n",
       "                         &#x27;model__n_estimators&#x27;: [50, 100, 250],\n",
       "                         &#x27;model__subsample&#x27;: [0.9, 1]},\n",
       "             scoring=&#x27;f1&#x27;, verbose=True)</pre></div></div></div><div class=\"sk-parallel\"><div class=\"sk-parallel-item\"><div class=\"sk-item\"><div class=\"sk-serial\"><div class=\"sk-item\"><div class=\"sk-serial\"><div class=\"sk-item sk-dashed-wrapped\"><div class=\"sk-label-container\"><div class=\"sk-label sk-toggleable\"><input class=\"sk-toggleable__control sk-hidden--visually\" id=\"1e03f295-db80-4e20-aaf3-01f4cfdb793d\" type=\"checkbox\" ><label for=\"1e03f295-db80-4e20-aaf3-01f4cfdb793d\" class=\"sk-toggleable__label sk-toggleable__label-arrow\">cleaner: ColumnTransformer</label><div class=\"sk-toggleable__content\"><pre>ColumnTransformer(sparse_threshold=0,\n",
       "                  transformers=[(&#x27;num&#x27;,\n",
       "                                 Pipeline(steps=[(&#x27;imputer&#x27;,\n",
       "                                                  SimpleImputer(fill_value=0,\n",
       "                                                                strategy=&#x27;constant&#x27;)),\n",
       "                                                 (&#x27;scaler&#x27;, StandardScaler())]),\n",
       "                                 [&#x27;n_prod_prev&#x27;, &#x27;total_siniestros&#x27;,\n",
       "                                  &#x27;total_pagado_smmlv&#x27;,\n",
       "                                  &#x27;anios_ultimo_siniestro&#x27;, &#x27;Activos__c&#x27;,\n",
       "                                  &#x27;AnnualRevenue&#x27;, &#x27;MontoAnual__c&#x27;,\n",
       "                                  &#x27;OtrosIngresos__c&#x27;, &#x27;EgresosAnuales__c&#x27;,\n",
       "                                  &#x27;edad&#x27;]),\n",
       "                                (&#x27;cat&#x27;, OneHotEncoder(handle_unknown=&#x27;ignore&#x27;),\n",
       "                                 [&#x27;tipo_poliza_name&#x27;, &#x27;tipo_prod_desc&#x27;,\n",
       "                                  &#x27;ClaseVehiculo__c&#x27;, &#x27;TipoVehiculo__c&#x27;,\n",
       "                                  &#x27;EstadoCivil__pc&#x27;, &#x27;Genero__pc&#x27;,\n",
       "                                  &#x27;ciudad_name&#x27;])])</pre></div></div></div><div class=\"sk-parallel\"><div class=\"sk-parallel-item\"><div class=\"sk-item\"><div class=\"sk-label-container\"><div class=\"sk-label sk-toggleable\"><input class=\"sk-toggleable__control sk-hidden--visually\" id=\"fca8a54f-a7aa-47a5-8c0d-ee2392ddc9c2\" type=\"checkbox\" ><label for=\"fca8a54f-a7aa-47a5-8c0d-ee2392ddc9c2\" class=\"sk-toggleable__label sk-toggleable__label-arrow\">num</label><div class=\"sk-toggleable__content\"><pre>[&#x27;n_prod_prev&#x27;, &#x27;total_siniestros&#x27;, &#x27;total_pagado_smmlv&#x27;, &#x27;anios_ultimo_siniestro&#x27;, &#x27;Activos__c&#x27;, &#x27;AnnualRevenue&#x27;, &#x27;MontoAnual__c&#x27;, &#x27;OtrosIngresos__c&#x27;, &#x27;EgresosAnuales__c&#x27;, &#x27;edad&#x27;]</pre></div></div></div><div class=\"sk-serial\"><div class=\"sk-item\"><div class=\"sk-serial\"><div class=\"sk-item\"><div class=\"sk-estimator sk-toggleable\"><input class=\"sk-toggleable__control sk-hidden--visually\" id=\"226c1f36-e9d8-404f-818d-eb9e36a352ca\" type=\"checkbox\" ><label for=\"226c1f36-e9d8-404f-818d-eb9e36a352ca\" class=\"sk-toggleable__label sk-toggleable__label-arrow\">SimpleImputer</label><div class=\"sk-toggleable__content\"><pre>SimpleImputer(fill_value=0, strategy=&#x27;constant&#x27;)</pre></div></div></div><div class=\"sk-item\"><div class=\"sk-estimator sk-toggleable\"><input class=\"sk-toggleable__control sk-hidden--visually\" id=\"faaaa901-e548-4f85-b535-359b30f43676\" type=\"checkbox\" ><label for=\"faaaa901-e548-4f85-b535-359b30f43676\" class=\"sk-toggleable__label sk-toggleable__label-arrow\">StandardScaler</label><div class=\"sk-toggleable__content\"><pre>StandardScaler()</pre></div></div></div></div></div></div></div></div><div class=\"sk-parallel-item\"><div class=\"sk-item\"><div class=\"sk-label-container\"><div class=\"sk-label sk-toggleable\"><input class=\"sk-toggleable__control sk-hidden--visually\" id=\"af854d7d-8ef4-4c77-940d-585b946db932\" type=\"checkbox\" ><label for=\"af854d7d-8ef4-4c77-940d-585b946db932\" class=\"sk-toggleable__label sk-toggleable__label-arrow\">cat</label><div class=\"sk-toggleable__content\"><pre>[&#x27;tipo_poliza_name&#x27;, &#x27;tipo_prod_desc&#x27;, &#x27;ClaseVehiculo__c&#x27;, &#x27;TipoVehiculo__c&#x27;, &#x27;EstadoCivil__pc&#x27;, &#x27;Genero__pc&#x27;, &#x27;ciudad_name&#x27;]</pre></div></div></div><div class=\"sk-serial\"><div class=\"sk-item\"><div class=\"sk-estimator sk-toggleable\"><input class=\"sk-toggleable__control sk-hidden--visually\" id=\"8e62a345-bb4f-4d94-a9af-59adfd5dfd0e\" type=\"checkbox\" ><label for=\"8e62a345-bb4f-4d94-a9af-59adfd5dfd0e\" class=\"sk-toggleable__label sk-toggleable__label-arrow\">OneHotEncoder</label><div class=\"sk-toggleable__content\"><pre>OneHotEncoder(handle_unknown=&#x27;ignore&#x27;)</pre></div></div></div></div></div></div></div></div><div class=\"sk-item\"><div class=\"sk-estimator sk-toggleable\"><input class=\"sk-toggleable__control sk-hidden--visually\" id=\"6a7f98ba-07e8-4b2b-b888-b9b5bd091ad0\" type=\"checkbox\" ><label for=\"6a7f98ba-07e8-4b2b-b888-b9b5bd091ad0\" class=\"sk-toggleable__label sk-toggleable__label-arrow\">GradientBoostingClassifier</label><div class=\"sk-toggleable__content\"><pre>GradientBoostingClassifier()</pre></div></div></div></div></div></div></div></div></div></div></div></div>"
      ],
      "text/plain": [
       "GridSearchCV(cv=5,\n",
       "             estimator=Pipeline(steps=[('cleaner',\n",
       "                                        ColumnTransformer(sparse_threshold=0,\n",
       "                                                          transformers=[('num',\n",
       "                                                                         Pipeline(steps=[('imputer',\n",
       "                                                                                          SimpleImputer(fill_value=0,\n",
       "                                                                                                        strategy='constant')),\n",
       "                                                                                         ('scaler',\n",
       "                                                                                          StandardScaler())]),\n",
       "                                                                         ['n_prod_prev',\n",
       "                                                                          'total_siniestros',\n",
       "                                                                          'total_pagado_smmlv',\n",
       "                                                                          'anios_ultimo_siniestro',\n",
       "                                                                          'Activos__c',\n",
       "                                                                          'AnnualRevenue',\n",
       "                                                                          'MontoAnual__c',\n",
       "                                                                          'Otros...\n",
       "                                                                          'tipo_prod_desc',\n",
       "                                                                          'ClaseVehiculo__c',\n",
       "                                                                          'TipoVehiculo__c',\n",
       "                                                                          'EstadoCivil__pc',\n",
       "                                                                          'Genero__pc',\n",
       "                                                                          'ciudad_name'])])),\n",
       "                                       ('model', GradientBoostingClassifier())],\n",
       "                                verbose=True),\n",
       "             n_jobs=-1,\n",
       "             param_grid={'model__learning_rate': [0.01],\n",
       "                         'model__max_depth': [5, 10, 20],\n",
       "                         'model__min_samples_split': [2, 5],\n",
       "                         'model__n_estimators': [50, 100, 250],\n",
       "                         'model__subsample': [0.9, 1]},\n",
       "             scoring='f1', verbose=True)"
      ]
     },
     "execution_count": 2,
     "metadata": {},
     "output_type": "execute_result"
    }
   ],
   "source": [
    "## cargar modelo anterior\n",
    "from model_parameters import *\n",
    "import pickle\n",
    "import pandas as pd\n",
    "import numpy as np\n",
    "from sklearn import set_config\n",
    "set_config(display='diagram')\n",
    "\n",
    "with open(\"models/xgbmodel_nopca.pickle\", 'rb') as f:\n",
    "    xgb = pickle.load(f)\n",
    "xgb"
   ]
  },
  {
   "cell_type": "code",
   "execution_count": 3,
   "metadata": {},
   "outputs": [],
   "source": [
    "# cargar data de test\n",
    "train=pd.read_csv(\"train.csv\",sep=\";\",dtype={'Asegurado__c':str,'NumeroPoliza__c':str,'CodigoTipoAsegurado__c':str,'churn':int,'ClaseVehiculo__c':str,'TipoVehiculo__c':str,'PuntoVenta__c':str,'MarcaVehiculo__c':str}).drop(columns='Asegurado__c')\n",
    "test=pd.read_csv(\"test.csv\",sep=\";\",dtype={'Asegurado__c':str,'NumeroPoliza__c':str,'CodigoTipoAsegurado__c':str,'churn':int,'ClaseVehiculo__c':str,'TipoVehiculo__c':str,'PuntoVenta__c':str,'MarcaVehiculo__c':str}).drop(columns='Asegurado__c')\n"
   ]
  },
  {
   "cell_type": "markdown",
   "metadata": {},
   "source": [
    "## Shap Values\n"
   ]
  },
  {
   "cell_type": "code",
   "execution_count": 3,
   "metadata": {},
   "outputs": [],
   "source": [
    "import shap\n",
    "explainer = shap.Explainer(xgb.best_estimator_[2])"
   ]
  },
  {
   "cell_type": "code",
   "execution_count": 4,
   "metadata": {},
   "outputs": [],
   "source": [
    "data_exp=xgb.best_estimator_[0:2].transform(train)"
   ]
  },
  {
   "cell_type": "code",
   "execution_count": 5,
   "metadata": {},
   "outputs": [],
   "source": [
    "shap_values = explainer(data_exp)\n",
    "\n",
    "# visualize the first prediction's explanation\n",
    "#shap.plots.waterfall(shap_values[0])"
   ]
  },
  {
   "cell_type": "markdown",
   "metadata": {},
   "source": [
    "## Despliegue de la solución\n",
    "\n",
    "Una de las formas más comunes de disponibilizar las soluciones de analítica avanzada es a través de un servicio web. Con Fast API este proceso se facilita. Una posible app del servicio de detección de churn se muestra a continuación."
   ]
  }
 ],
 "metadata": {
  "interpreter": {
   "hash": "4402f69885ff11948fe85d7f8668a89a5910c01defcebfa1c11d69defb9c6ee5"
  },
  "kernelspec": {
   "display_name": "Python 3.9.7 ('base')",
   "language": "python",
   "name": "python3"
  },
  "language_info": {
   "codemirror_mode": {
    "name": "ipython",
    "version": 3
   },
   "file_extension": ".py",
   "mimetype": "text/x-python",
   "name": "python",
   "nbconvert_exporter": "python",
   "pygments_lexer": "ipython3",
   "version": "3.9.7"
  },
  "orig_nbformat": 4
 },
 "nbformat": 4,
 "nbformat_minor": 2
}
