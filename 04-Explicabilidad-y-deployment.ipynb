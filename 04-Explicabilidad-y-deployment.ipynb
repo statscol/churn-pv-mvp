{
 "cells": [
  {
   "cell_type": "markdown",
   "metadata": {},
   "source": [
    "## 04- Explicabilidad y Despliegue de la Solución\n",
    "\n",
    "En este notebook evaluaremos una parte importante del desarrollo de herramientas analíticas como lo es la explicabilidad del mejor modelo hallado en el notebook anterior. A su vez, introduciremos el procedimiento para desplegarlo a través de un docker container."
   ]
  },
  {
   "cell_type": "code",
   "execution_count": 1,
   "metadata": {},
   "outputs": [
    {
     "data": {
      "text/html": [
       "<style>#sk-304b2c67-c522-4f62-ab2a-e787eeba1472 {color: black;background-color: white;}#sk-304b2c67-c522-4f62-ab2a-e787eeba1472 pre{padding: 0;}#sk-304b2c67-c522-4f62-ab2a-e787eeba1472 div.sk-toggleable {background-color: white;}#sk-304b2c67-c522-4f62-ab2a-e787eeba1472 label.sk-toggleable__label {cursor: pointer;display: block;width: 100%;margin-bottom: 0;padding: 0.3em;box-sizing: border-box;text-align: center;}#sk-304b2c67-c522-4f62-ab2a-e787eeba1472 label.sk-toggleable__label-arrow:before {content: \"▸\";float: left;margin-right: 0.25em;color: #696969;}#sk-304b2c67-c522-4f62-ab2a-e787eeba1472 label.sk-toggleable__label-arrow:hover:before {color: black;}#sk-304b2c67-c522-4f62-ab2a-e787eeba1472 div.sk-estimator:hover label.sk-toggleable__label-arrow:before {color: black;}#sk-304b2c67-c522-4f62-ab2a-e787eeba1472 div.sk-toggleable__content {max-height: 0;max-width: 0;overflow: hidden;text-align: left;background-color: #f0f8ff;}#sk-304b2c67-c522-4f62-ab2a-e787eeba1472 div.sk-toggleable__content pre {margin: 0.2em;color: black;border-radius: 0.25em;background-color: #f0f8ff;}#sk-304b2c67-c522-4f62-ab2a-e787eeba1472 input.sk-toggleable__control:checked~div.sk-toggleable__content {max-height: 200px;max-width: 100%;overflow: auto;}#sk-304b2c67-c522-4f62-ab2a-e787eeba1472 input.sk-toggleable__control:checked~label.sk-toggleable__label-arrow:before {content: \"▾\";}#sk-304b2c67-c522-4f62-ab2a-e787eeba1472 div.sk-estimator input.sk-toggleable__control:checked~label.sk-toggleable__label {background-color: #d4ebff;}#sk-304b2c67-c522-4f62-ab2a-e787eeba1472 div.sk-label input.sk-toggleable__control:checked~label.sk-toggleable__label {background-color: #d4ebff;}#sk-304b2c67-c522-4f62-ab2a-e787eeba1472 input.sk-hidden--visually {border: 0;clip: rect(1px 1px 1px 1px);clip: rect(1px, 1px, 1px, 1px);height: 1px;margin: -1px;overflow: hidden;padding: 0;position: absolute;width: 1px;}#sk-304b2c67-c522-4f62-ab2a-e787eeba1472 div.sk-estimator {font-family: monospace;background-color: #f0f8ff;border: 1px dotted black;border-radius: 0.25em;box-sizing: border-box;margin-bottom: 0.5em;}#sk-304b2c67-c522-4f62-ab2a-e787eeba1472 div.sk-estimator:hover {background-color: #d4ebff;}#sk-304b2c67-c522-4f62-ab2a-e787eeba1472 div.sk-parallel-item::after {content: \"\";width: 100%;border-bottom: 1px solid gray;flex-grow: 1;}#sk-304b2c67-c522-4f62-ab2a-e787eeba1472 div.sk-label:hover label.sk-toggleable__label {background-color: #d4ebff;}#sk-304b2c67-c522-4f62-ab2a-e787eeba1472 div.sk-serial::before {content: \"\";position: absolute;border-left: 1px solid gray;box-sizing: border-box;top: 2em;bottom: 0;left: 50%;}#sk-304b2c67-c522-4f62-ab2a-e787eeba1472 div.sk-serial {display: flex;flex-direction: column;align-items: center;background-color: white;padding-right: 0.2em;padding-left: 0.2em;}#sk-304b2c67-c522-4f62-ab2a-e787eeba1472 div.sk-item {z-index: 1;}#sk-304b2c67-c522-4f62-ab2a-e787eeba1472 div.sk-parallel {display: flex;align-items: stretch;justify-content: center;background-color: white;}#sk-304b2c67-c522-4f62-ab2a-e787eeba1472 div.sk-parallel::before {content: \"\";position: absolute;border-left: 1px solid gray;box-sizing: border-box;top: 2em;bottom: 0;left: 50%;}#sk-304b2c67-c522-4f62-ab2a-e787eeba1472 div.sk-parallel-item {display: flex;flex-direction: column;position: relative;background-color: white;}#sk-304b2c67-c522-4f62-ab2a-e787eeba1472 div.sk-parallel-item:first-child::after {align-self: flex-end;width: 50%;}#sk-304b2c67-c522-4f62-ab2a-e787eeba1472 div.sk-parallel-item:last-child::after {align-self: flex-start;width: 50%;}#sk-304b2c67-c522-4f62-ab2a-e787eeba1472 div.sk-parallel-item:only-child::after {width: 0;}#sk-304b2c67-c522-4f62-ab2a-e787eeba1472 div.sk-dashed-wrapped {border: 1px dashed gray;margin: 0 0.4em 0.5em 0.4em;box-sizing: border-box;padding-bottom: 0.4em;background-color: white;position: relative;}#sk-304b2c67-c522-4f62-ab2a-e787eeba1472 div.sk-label label {font-family: monospace;font-weight: bold;background-color: white;display: inline-block;line-height: 1.2em;}#sk-304b2c67-c522-4f62-ab2a-e787eeba1472 div.sk-label-container {position: relative;z-index: 2;text-align: center;}#sk-304b2c67-c522-4f62-ab2a-e787eeba1472 div.sk-container {/* jupyter's `normalize.less` sets `[hidden] { display: none; }` but bootstrap.min.css set `[hidden] { display: none !important; }` so we also need the `!important` here to be able to override the default hidden behavior on the sphinx rendered scikit-learn.org. See: https://github.com/scikit-learn/scikit-learn/issues/21755 */display: inline-block !important;position: relative;}#sk-304b2c67-c522-4f62-ab2a-e787eeba1472 div.sk-text-repr-fallback {display: none;}</style><div id=\"sk-304b2c67-c522-4f62-ab2a-e787eeba1472\" class=\"sk-top-container\"><div class=\"sk-text-repr-fallback\"><pre>GridSearchCV(cv=5,\n",
       "             estimator=Pipeline(steps=[(&#x27;cleaner&#x27;,\n",
       "                                        ColumnTransformer(sparse_threshold=0,\n",
       "                                                          transformers=[(&#x27;num&#x27;,\n",
       "                                                                         Pipeline(steps=[(&#x27;imputer&#x27;,\n",
       "                                                                                          SimpleImputer(fill_value=0,\n",
       "                                                                                                        strategy=&#x27;constant&#x27;)),\n",
       "                                                                                         (&#x27;scaler&#x27;,\n",
       "                                                                                          StandardScaler())]),\n",
       "                                                                         [&#x27;n_prod_prev&#x27;,\n",
       "                                                                          &#x27;total_siniestros&#x27;,\n",
       "                                                                          &#x27;total_pagado_smmlv&#x27;,\n",
       "                                                                          &#x27;anios_ultimo_siniestro&#x27;,\n",
       "                                                                          &#x27;Activos__c&#x27;,\n",
       "                                                                          &#x27;AnnualRevenue&#x27;,\n",
       "                                                                          &#x27;MontoAnual__c&#x27;,\n",
       "                                                                          &#x27;Otros...\n",
       "                                                                          &#x27;TipoVehiculo__c&#x27;,\n",
       "                                                                          &#x27;EstadoCivil__pc&#x27;,\n",
       "                                                                          &#x27;Genero__pc&#x27;,\n",
       "                                                                          &#x27;ciudad_name&#x27;])])),\n",
       "                                       (&#x27;pca&#x27;, PCA()),\n",
       "                                       (&#x27;model&#x27;, GradientBoostingClassifier())],\n",
       "                                verbose=True),\n",
       "             n_jobs=-1,\n",
       "             param_grid={&#x27;model__learning_rate&#x27;: [0.01],\n",
       "                         &#x27;model__max_depth&#x27;: [5, 10, 20],\n",
       "                         &#x27;model__min_samples_split&#x27;: [2, 5],\n",
       "                         &#x27;model__n_estimators&#x27;: [50, 100, 250],\n",
       "                         &#x27;model__subsample&#x27;: [0.9, 1],\n",
       "                         &#x27;pca__n_components&#x27;: [10, 20]},\n",
       "             scoring=&#x27;f1&#x27;, verbose=True)</pre><b>Please rerun this cell to show the HTML repr or trust the notebook.</b></div><div class=\"sk-container\" hidden><div class=\"sk-item sk-dashed-wrapped\"><div class=\"sk-label-container\"><div class=\"sk-label sk-toggleable\"><input class=\"sk-toggleable__control sk-hidden--visually\" id=\"a793940b-11c3-499b-b16b-83838efa52d9\" type=\"checkbox\" ><label for=\"a793940b-11c3-499b-b16b-83838efa52d9\" class=\"sk-toggleable__label sk-toggleable__label-arrow\">GridSearchCV</label><div class=\"sk-toggleable__content\"><pre>GridSearchCV(cv=5,\n",
       "             estimator=Pipeline(steps=[(&#x27;cleaner&#x27;,\n",
       "                                        ColumnTransformer(sparse_threshold=0,\n",
       "                                                          transformers=[(&#x27;num&#x27;,\n",
       "                                                                         Pipeline(steps=[(&#x27;imputer&#x27;,\n",
       "                                                                                          SimpleImputer(fill_value=0,\n",
       "                                                                                                        strategy=&#x27;constant&#x27;)),\n",
       "                                                                                         (&#x27;scaler&#x27;,\n",
       "                                                                                          StandardScaler())]),\n",
       "                                                                         [&#x27;n_prod_prev&#x27;,\n",
       "                                                                          &#x27;total_siniestros&#x27;,\n",
       "                                                                          &#x27;total_pagado_smmlv&#x27;,\n",
       "                                                                          &#x27;anios_ultimo_siniestro&#x27;,\n",
       "                                                                          &#x27;Activos__c&#x27;,\n",
       "                                                                          &#x27;AnnualRevenue&#x27;,\n",
       "                                                                          &#x27;MontoAnual__c&#x27;,\n",
       "                                                                          &#x27;Otros...\n",
       "                                                                          &#x27;TipoVehiculo__c&#x27;,\n",
       "                                                                          &#x27;EstadoCivil__pc&#x27;,\n",
       "                                                                          &#x27;Genero__pc&#x27;,\n",
       "                                                                          &#x27;ciudad_name&#x27;])])),\n",
       "                                       (&#x27;pca&#x27;, PCA()),\n",
       "                                       (&#x27;model&#x27;, GradientBoostingClassifier())],\n",
       "                                verbose=True),\n",
       "             n_jobs=-1,\n",
       "             param_grid={&#x27;model__learning_rate&#x27;: [0.01],\n",
       "                         &#x27;model__max_depth&#x27;: [5, 10, 20],\n",
       "                         &#x27;model__min_samples_split&#x27;: [2, 5],\n",
       "                         &#x27;model__n_estimators&#x27;: [50, 100, 250],\n",
       "                         &#x27;model__subsample&#x27;: [0.9, 1],\n",
       "                         &#x27;pca__n_components&#x27;: [10, 20]},\n",
       "             scoring=&#x27;f1&#x27;, verbose=True)</pre></div></div></div><div class=\"sk-parallel\"><div class=\"sk-parallel-item\"><div class=\"sk-item\"><div class=\"sk-serial\"><div class=\"sk-item\"><div class=\"sk-serial\"><div class=\"sk-item sk-dashed-wrapped\"><div class=\"sk-label-container\"><div class=\"sk-label sk-toggleable\"><input class=\"sk-toggleable__control sk-hidden--visually\" id=\"f61710f4-0e26-48ec-829f-6305c05ce8e3\" type=\"checkbox\" ><label for=\"f61710f4-0e26-48ec-829f-6305c05ce8e3\" class=\"sk-toggleable__label sk-toggleable__label-arrow\">cleaner: ColumnTransformer</label><div class=\"sk-toggleable__content\"><pre>ColumnTransformer(sparse_threshold=0,\n",
       "                  transformers=[(&#x27;num&#x27;,\n",
       "                                 Pipeline(steps=[(&#x27;imputer&#x27;,\n",
       "                                                  SimpleImputer(fill_value=0,\n",
       "                                                                strategy=&#x27;constant&#x27;)),\n",
       "                                                 (&#x27;scaler&#x27;, StandardScaler())]),\n",
       "                                 [&#x27;n_prod_prev&#x27;, &#x27;total_siniestros&#x27;,\n",
       "                                  &#x27;total_pagado_smmlv&#x27;,\n",
       "                                  &#x27;anios_ultimo_siniestro&#x27;, &#x27;Activos__c&#x27;,\n",
       "                                  &#x27;AnnualRevenue&#x27;, &#x27;MontoAnual__c&#x27;,\n",
       "                                  &#x27;OtrosIngresos__c&#x27;, &#x27;EgresosAnuales__c&#x27;,\n",
       "                                  &#x27;edad&#x27;]),\n",
       "                                (&#x27;cat&#x27;, OneHotEncoder(),\n",
       "                                 [&#x27;tipo_poliza_name&#x27;, &#x27;tipo_prod_desc&#x27;,\n",
       "                                  &#x27;ClaseVehiculo__c&#x27;, &#x27;TipoVehiculo__c&#x27;,\n",
       "                                  &#x27;EstadoCivil__pc&#x27;, &#x27;Genero__pc&#x27;,\n",
       "                                  &#x27;ciudad_name&#x27;])])</pre></div></div></div><div class=\"sk-parallel\"><div class=\"sk-parallel-item\"><div class=\"sk-item\"><div class=\"sk-label-container\"><div class=\"sk-label sk-toggleable\"><input class=\"sk-toggleable__control sk-hidden--visually\" id=\"b2d2d05c-005e-47bf-9657-0827fe0b4316\" type=\"checkbox\" ><label for=\"b2d2d05c-005e-47bf-9657-0827fe0b4316\" class=\"sk-toggleable__label sk-toggleable__label-arrow\">num</label><div class=\"sk-toggleable__content\"><pre>[&#x27;n_prod_prev&#x27;, &#x27;total_siniestros&#x27;, &#x27;total_pagado_smmlv&#x27;, &#x27;anios_ultimo_siniestro&#x27;, &#x27;Activos__c&#x27;, &#x27;AnnualRevenue&#x27;, &#x27;MontoAnual__c&#x27;, &#x27;OtrosIngresos__c&#x27;, &#x27;EgresosAnuales__c&#x27;, &#x27;edad&#x27;]</pre></div></div></div><div class=\"sk-serial\"><div class=\"sk-item\"><div class=\"sk-serial\"><div class=\"sk-item\"><div class=\"sk-estimator sk-toggleable\"><input class=\"sk-toggleable__control sk-hidden--visually\" id=\"5c9277e4-3050-4576-8a69-ea3bfea87163\" type=\"checkbox\" ><label for=\"5c9277e4-3050-4576-8a69-ea3bfea87163\" class=\"sk-toggleable__label sk-toggleable__label-arrow\">SimpleImputer</label><div class=\"sk-toggleable__content\"><pre>SimpleImputer(fill_value=0, strategy=&#x27;constant&#x27;)</pre></div></div></div><div class=\"sk-item\"><div class=\"sk-estimator sk-toggleable\"><input class=\"sk-toggleable__control sk-hidden--visually\" id=\"26e55ac9-1a15-43cc-a17b-e80d0f352703\" type=\"checkbox\" ><label for=\"26e55ac9-1a15-43cc-a17b-e80d0f352703\" class=\"sk-toggleable__label sk-toggleable__label-arrow\">StandardScaler</label><div class=\"sk-toggleable__content\"><pre>StandardScaler()</pre></div></div></div></div></div></div></div></div><div class=\"sk-parallel-item\"><div class=\"sk-item\"><div class=\"sk-label-container\"><div class=\"sk-label sk-toggleable\"><input class=\"sk-toggleable__control sk-hidden--visually\" id=\"ac38bb4e-b1c6-4601-b498-7af19e7cd346\" type=\"checkbox\" ><label for=\"ac38bb4e-b1c6-4601-b498-7af19e7cd346\" class=\"sk-toggleable__label sk-toggleable__label-arrow\">cat</label><div class=\"sk-toggleable__content\"><pre>[&#x27;tipo_poliza_name&#x27;, &#x27;tipo_prod_desc&#x27;, &#x27;ClaseVehiculo__c&#x27;, &#x27;TipoVehiculo__c&#x27;, &#x27;EstadoCivil__pc&#x27;, &#x27;Genero__pc&#x27;, &#x27;ciudad_name&#x27;]</pre></div></div></div><div class=\"sk-serial\"><div class=\"sk-item\"><div class=\"sk-estimator sk-toggleable\"><input class=\"sk-toggleable__control sk-hidden--visually\" id=\"4d78e35d-0da5-49f6-adb3-ba843bda3a92\" type=\"checkbox\" ><label for=\"4d78e35d-0da5-49f6-adb3-ba843bda3a92\" class=\"sk-toggleable__label sk-toggleable__label-arrow\">OneHotEncoder</label><div class=\"sk-toggleable__content\"><pre>OneHotEncoder()</pre></div></div></div></div></div></div></div></div><div class=\"sk-item\"><div class=\"sk-estimator sk-toggleable\"><input class=\"sk-toggleable__control sk-hidden--visually\" id=\"4dbd72e5-ad2c-4dbe-9fdc-c9df36dd0027\" type=\"checkbox\" ><label for=\"4dbd72e5-ad2c-4dbe-9fdc-c9df36dd0027\" class=\"sk-toggleable__label sk-toggleable__label-arrow\">PCA</label><div class=\"sk-toggleable__content\"><pre>PCA()</pre></div></div></div><div class=\"sk-item\"><div class=\"sk-estimator sk-toggleable\"><input class=\"sk-toggleable__control sk-hidden--visually\" id=\"43aed821-1907-46fe-8ae0-23b8d81e16a7\" type=\"checkbox\" ><label for=\"43aed821-1907-46fe-8ae0-23b8d81e16a7\" class=\"sk-toggleable__label sk-toggleable__label-arrow\">GradientBoostingClassifier</label><div class=\"sk-toggleable__content\"><pre>GradientBoostingClassifier()</pre></div></div></div></div></div></div></div></div></div></div></div></div>"
      ],
      "text/plain": [
       "GridSearchCV(cv=5,\n",
       "             estimator=Pipeline(steps=[('cleaner',\n",
       "                                        ColumnTransformer(sparse_threshold=0,\n",
       "                                                          transformers=[('num',\n",
       "                                                                         Pipeline(steps=[('imputer',\n",
       "                                                                                          SimpleImputer(fill_value=0,\n",
       "                                                                                                        strategy='constant')),\n",
       "                                                                                         ('scaler',\n",
       "                                                                                          StandardScaler())]),\n",
       "                                                                         ['n_prod_prev',\n",
       "                                                                          'total_siniestros',\n",
       "                                                                          'total_pagado_smmlv',\n",
       "                                                                          'anios_ultimo_siniestro',\n",
       "                                                                          'Activos__c',\n",
       "                                                                          'AnnualRevenue',\n",
       "                                                                          'MontoAnual__c',\n",
       "                                                                          'Otros...\n",
       "                                                                          'TipoVehiculo__c',\n",
       "                                                                          'EstadoCivil__pc',\n",
       "                                                                          'Genero__pc',\n",
       "                                                                          'ciudad_name'])])),\n",
       "                                       ('pca', PCA()),\n",
       "                                       ('model', GradientBoostingClassifier())],\n",
       "                                verbose=True),\n",
       "             n_jobs=-1,\n",
       "             param_grid={'model__learning_rate': [0.01],\n",
       "                         'model__max_depth': [5, 10, 20],\n",
       "                         'model__min_samples_split': [2, 5],\n",
       "                         'model__n_estimators': [50, 100, 250],\n",
       "                         'model__subsample': [0.9, 1],\n",
       "                         'pca__n_components': [10, 20]},\n",
       "             scoring='f1', verbose=True)"
      ]
     },
     "execution_count": 1,
     "metadata": {},
     "output_type": "execute_result"
    }
   ],
   "source": [
    "## cargar modelo anterior\n",
    "from model_parameters import *\n",
    "import pickle\n",
    "import pandas as pd\n",
    "import numpy as np\n",
    "from sklearn import set_config\n",
    "set_config(display='diagram')\n",
    "\n",
    "with open(\"models/xgbmodel.pickle\", 'rb') as f:\n",
    "    xgb = pickle.load(f)\n",
    "xgb"
   ]
  },
  {
   "cell_type": "code",
   "execution_count": 2,
   "metadata": {},
   "outputs": [],
   "source": [
    "# cargar data de test\n",
    "train=pd.read_csv(\"train.csv\",sep=\";\",dtype={'Asegurado__c':str,'NumeroPoliza__c':str,'CodigoTipoAsegurado__c':str,'churn':int,'ClaseVehiculo__c':str,'TipoVehiculo__c':str,'PuntoVenta__c':str,'MarcaVehiculo__c':str}).drop(columns='Asegurado__c')\n",
    "test=pd.read_csv(\"test.csv\",sep=\";\",dtype={'Asegurado__c':str,'NumeroPoliza__c':str,'CodigoTipoAsegurado__c':str,'churn':int,'ClaseVehiculo__c':str,'TipoVehiculo__c':str,'PuntoVenta__c':str,'MarcaVehiculo__c':str}).drop(columns='Asegurado__c')\n"
   ]
  },
  {
   "cell_type": "markdown",
   "metadata": {},
   "source": [
    "## Shap Values\n"
   ]
  },
  {
   "cell_type": "code",
   "execution_count": 3,
   "metadata": {},
   "outputs": [],
   "source": [
    "import shap\n",
    "explainer = shap.Explainer(xgb.best_estimator_[2])"
   ]
  },
  {
   "cell_type": "code",
   "execution_count": 4,
   "metadata": {},
   "outputs": [],
   "source": [
    "data_exp=xgb.best_estimator_[0:2].transform(train)"
   ]
  },
  {
   "cell_type": "code",
   "execution_count": 5,
   "metadata": {},
   "outputs": [],
   "source": [
    "shap_values = explainer(data_exp)\n",
    "\n",
    "# visualize the first prediction's explanation\n",
    "#shap.plots.waterfall(shap_values[0])"
   ]
  },
  {
   "cell_type": "markdown",
   "metadata": {},
   "source": [
    "## Despliegue de la solución\n",
    "\n",
    "Una de las formas más comunes de disponibilizar las soluciones de analítica avanzada es a través de un servicio web. Con Fast API este proceso se facilita. Una posible app del servicio de detección de churn se muestra a continuación."
   ]
  }
 ],
 "metadata": {
  "interpreter": {
   "hash": "94f342b5774f3b0269f7de90f71f08146fbd0694077eadaf6e909336ed9c3d31"
  },
  "kernelspec": {
   "display_name": "Python 3.9.7 ('base')",
   "language": "python",
   "name": "python3"
  },
  "language_info": {
   "codemirror_mode": {
    "name": "ipython",
    "version": 3
   },
   "file_extension": ".py",
   "mimetype": "text/x-python",
   "name": "python",
   "nbconvert_exporter": "python",
   "pygments_lexer": "ipython3",
   "version": "3.9.7"
  },
  "orig_nbformat": 4
 },
 "nbformat": 4,
 "nbformat_minor": 2
}
