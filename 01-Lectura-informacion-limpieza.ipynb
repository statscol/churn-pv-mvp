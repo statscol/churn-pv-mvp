{
 "cells": [
  {
   "cell_type": "markdown",
   "metadata": {},
   "source": [
    "# Lectura de la Información\n",
    "En este notebook nos enfocaremos en extraer la data de los archivos comprimidos y unificar las fuentes de datos. Muchas de los métodos/funciones utilizadas, serán cargadas de un archivo utils.py previamente generado para evitar sobrecarga de código en este notebook. Adicionalmente, se proponen nuevas variables a partir del uso de procesos de agrupación por cliente y/o información externa de acceso público."
   ]
  },
  {
   "cell_type": "markdown",
   "metadata": {},
   "source": [
    "### Cargar librerías necesarias"
   ]
  },
  {
   "cell_type": "code",
   "execution_count": 1,
   "metadata": {},
   "outputs": [],
   "source": [
    "from utils import *\n",
    "import shutil\n",
    "import warnings\n",
    "import seaborn as sns\n",
    "import matplotlib.pyplot as plt\n",
    "import numpy as np\n",
    "warnings.filterwarnings('ignore')\n",
    "warnings.simplefilter('ignore')"
   ]
  },
  {
   "cell_type": "markdown",
   "metadata": {},
   "source": [
    "### Listar archivos comprimidos y extraer archivos"
   ]
  },
  {
   "cell_type": "code",
   "execution_count": 2,
   "metadata": {},
   "outputs": [],
   "source": [
    "files=[i for i in os.listdir(\"../\") if i.endswith(\".zip\")] ## ../ hace referencia a un nivel atrás al actual, en donde se encuentran los archivos .zip\n",
    "_=[shutil.unpack_archive(f'../{i}', f'../data/') for i in files]"
   ]
  },
  {
   "cell_type": "code",
   "execution_count": 3,
   "metadata": {},
   "outputs": [],
   "source": [
    "##extraer paths de cada archivo csv\n",
    "filepaths=get_csv_filepaths([i.replace(\".zip\",\"\") for i in files])"
   ]
  },
  {
   "cell_type": "markdown",
   "metadata": {},
   "source": [
    "### Para leer las fuentes de datos se definirán grupos de archivos denotados por la variable filegroups"
   ]
  },
  {
   "cell_type": "code",
   "execution_count": 6,
   "metadata": {},
   "outputs": [],
   "source": [
    "##NOTA: NO EJECUTAR SI PREVIAMENTE SE HAN GENERADO LOS ARCHIVOS .pickle por filegroup\n",
    "filegroups=['personajuridica','personanatural','produccion','recaudo','siniestro']     \n",
    "data={}\n",
    "for filegp in filegroups:\n",
    "    data[filegp]=read_by_filegroup(filegp,filepaths,save_output=True)"
   ]
  },
  {
   "cell_type": "code",
   "execution_count": 4,
   "metadata": {},
   "outputs": [],
   "source": [
    "##leer archivos pickle (Checkpoint), ejecutar solo si se ejecutó la celda anterior en algún momento\n",
    "filegroups=['personajuridica','personanatural','produccion','recaudo','siniestro']\n",
    "data={}\n",
    "for filegp in filegroups:\n",
    "    data[filegp]=pd.read_pickle(f\"{filegp}.pickle\",compression=\"gzip\")"
   ]
  },
  {
   "cell_type": "markdown",
   "metadata": {},
   "source": [
    "### Lectura información tipo de Polizas"
   ]
  },
  {
   "cell_type": "code",
   "execution_count": 5,
   "metadata": {},
   "outputs": [
    {
     "data": {
      "text/html": [
       "<div>\n",
       "<style scoped>\n",
       "    .dataframe tbody tr th:only-of-type {\n",
       "        vertical-align: middle;\n",
       "    }\n",
       "\n",
       "    .dataframe tbody tr th {\n",
       "        vertical-align: top;\n",
       "    }\n",
       "\n",
       "    .dataframe thead th {\n",
       "        text-align: right;\n",
       "    }\n",
       "</style>\n",
       "<table border=\"1\" class=\"dataframe\">\n",
       "  <thead>\n",
       "    <tr style=\"text-align: right;\">\n",
       "      <th></th>\n",
       "      <th>cod_ramo</th>\n",
       "      <th>cod_tipo_poliza</th>\n",
       "      <th>txt_desc</th>\n",
       "    </tr>\n",
       "  </thead>\n",
       "  <tbody>\n",
       "    <tr>\n",
       "      <th>0</th>\n",
       "      <td>1</td>\n",
       "      <td>1</td>\n",
       "      <td>SECTOR OFICIAL</td>\n",
       "    </tr>\n",
       "    <tr>\n",
       "      <th>1</th>\n",
       "      <td>1</td>\n",
       "      <td>2</td>\n",
       "      <td>SECTOR PRIVADO</td>\n",
       "    </tr>\n",
       "    <tr>\n",
       "      <th>2</th>\n",
       "      <td>1</td>\n",
       "      <td>3</td>\n",
       "      <td>GLOBAL SECTOR OFICIAL</td>\n",
       "    </tr>\n",
       "    <tr>\n",
       "      <th>3</th>\n",
       "      <td>1</td>\n",
       "      <td>4</td>\n",
       "      <td>GLOBAL SECTOR PRIVADO</td>\n",
       "    </tr>\n",
       "    <tr>\n",
       "      <th>4</th>\n",
       "      <td>1</td>\n",
       "      <td>5</td>\n",
       "      <td>POLICIA NACIONAL</td>\n",
       "    </tr>\n",
       "  </tbody>\n",
       "</table>\n",
       "</div>"
      ],
      "text/plain": [
       "   cod_ramo  cod_tipo_poliza               txt_desc\n",
       "0         1                1         SECTOR OFICIAL\n",
       "1         1                2         SECTOR PRIVADO\n",
       "2         1                3  GLOBAL SECTOR OFICIAL\n",
       "3         1                4  GLOBAL SECTOR PRIVADO\n",
       "4         1                5       POLICIA NACIONAL"
      ]
     },
     "execution_count": 5,
     "metadata": {},
     "output_type": "execute_result"
    }
   ],
   "source": [
    "FILENAME_POLIZAS=\"../CODIGOS PRODUCTOS SISE.xls\"\n",
    "tipo_poliza,tipo_subramo,tipo_prod=pd.read_excel(FILENAME_POLIZAS,sheet_name=\"tipo poliza\",dtype={'cod_ramo': int, 'cod_tipo_poliza': int,'txt_desc':str}),\\\n",
    "                                    pd.read_excel(FILENAME_POLIZAS,sheet_name=\"productos rc subramo\",dtype={'cod_ramo': int, 'cod_subramo': int,'txt_desc':str}),\\\n",
    "                                    pd.read_excel(FILENAME_POLIZAS,sheet_name=\"productos 3g\",dtype={'ramo': int, 'codigo': str})\n",
    "tipo_poliza.head()"
   ]
  },
  {
   "cell_type": "markdown",
   "metadata": {},
   "source": [
    "## Esquema de generación de la variable objetivo: churn\n",
    "\n",
    "- Se deben explorar los campos que permiten unir las diversas fuentes de información, para ello deberá explorarse el código de asegurado o el número de la póliza\n",
    "- Debido a que solo se tiene un año de historia, debemos tomar un periodo base y observar 12 meses después el comportamiento de los asegurados, para encontrar si renovaron o no (churn) su poliza. A través de este análisis generaremos la variable objetivo. Esto puede observarse en el siguiente gráfico. \n",
    "\n",
    "![img](images/caso_uso.jpg)\n",
    "\n",
    "\n",
    "- Sólo serán tenidas en cuenta las pólizas de 12 meses de duración\n",
    "\n",
    "\n"
   ]
  },
  {
   "cell_type": "code",
   "execution_count": 6,
   "metadata": {},
   "outputs": [
    {
     "name": "stdout",
     "output_type": "stream",
     "text": [
      "Total filas antes de remover duplicados:  1054290\n",
      "Total filas después de remover duplicados:  1003437\n"
     ]
    }
   ],
   "source": [
    "##detectar columnas tipo fecha y convertirlas a tipo datetime\n",
    "\n",
    "date_cols=[i for i in data['produccion'].columns.values if \"fecha\" in i.lower()]\n",
    "\n",
    "## crear una copia del dataframe para generar reproducibilidad\n",
    "data_prod=data['produccion'].drop_duplicates().copy()\n",
    "\n",
    "def col_to_dateutc(column,trim=False):\n",
    "    if trim:\n",
    "        return pd.to_datetime(column,errors=\"coerce\").dt.strftime('%m-%Y')\n",
    "    else:\n",
    "        return pd.to_datetime(column,errors=\"coerce\")\n",
    "\n",
    "for col in date_cols:\n",
    "    data_prod.loc[:,col]=col_to_dateutc(data_prod[col])\n",
    "    data_prod.loc[:,col+\"trim\"]=col_to_dateutc(data_prod[col],trim=True)\n",
    "\n",
    "\n",
    "print(\"Total filas antes de remover duplicados: \",data['produccion'].shape[0])\n",
    "print(\"Total filas después de remover duplicados: \",data_prod.shape[0])"
   ]
  },
  {
   "cell_type": "code",
   "execution_count": 7,
   "metadata": {},
   "outputs": [],
   "source": [
    "##obtener descripción tipo de poliza y de producto\n",
    "#tipo_poliza,tipo_subramo,tipo_prod\n",
    "data_prod=data_prod.merge(tipo_poliza.rename(columns={'txt_desc':'tipo_poliza_name'}),how=\"left\",left_on=['RamoTecnico__c','Tipo_poliza_c'],right_on=['cod_ramo','cod_tipo_poliza'])"
   ]
  },
  {
   "cell_type": "code",
   "execution_count": 8,
   "metadata": {},
   "outputs": [],
   "source": [
    "##Añadir descripción tipo producto\n",
    "       \n",
    "data_prod.loc[:,'Producto__c']=data_prod.Producto__c.apply(lambda d: try_convert(d)) ## se debe realizar un paso previo ya que el Producto__c está con valores decimales\n",
    "\n",
    "data_prod=data_prod.merge(tipo_prod.rename(columns={'descripcion reducida':'tipo_prod_desc'}).drop(columns=\"producto\"),how=\"left\",left_on=['RamoTecnico__c','Producto__c'],right_on=['ramo','codigo'])"
   ]
  },
  {
   "cell_type": "code",
   "execution_count": 9,
   "metadata": {},
   "outputs": [],
   "source": [
    "## existen columnas que pueden diferir en valor pero cuyo contenido puede ser unificado al usar procesos de limpieza, (ej. 4.0 vs 4, \" DAÑOS\" vs \"DAÑOS\")\n",
    "## Por tanto se procede a limpiar estas columnas\n",
    "\n",
    "data_prod.loc[:,'ClaseVehiculo__c']=data_prod.ClaseVehiculo__c.apply(lambda d: try_convert(d))\n",
    "data_prod.loc[:,'TipoVehiculo__c']=data_prod.TipoVehiculo__c.apply(lambda d: try_convert(d))\n",
    "data_prod.loc[:,'tipo_poliza_name']=data_prod.tipo_poliza_name.apply(lambda d: str(d).strip().lower())\n",
    "data_prod.loc[:,'tipo_prod_desc']=data_prod.tipo_prod_desc.apply(lambda d: str(d).strip().lower())\n"
   ]
  },
  {
   "cell_type": "markdown",
   "metadata": {},
   "source": [
    "### Agrupación de categorías en variables\n",
    "Existen categorias dentro de algunas variables que deben ser agrupadas, es el caso de tipo_prod_desc y tipo_poliza_name, en las cuales definiremos una categoría adicional llamada \"otros\" si el total de registros de la categoría evaluada, no supera el 0.5% de los registros."
   ]
  },
  {
   "cell_type": "code",
   "execution_count": 10,
   "metadata": {},
   "outputs": [],
   "source": [
    "tipo_poliza_name_values=data_prod.tipo_poliza_name.value_counts(normalize=True).to_dict()\n",
    "tipo_prod_desc_values=data_prod.tipo_prod_desc.value_counts(normalize=True).to_dict()\n",
    "data_prod.loc[:,'tipo_poliza_name']=data_prod.tipo_poliza_name.apply(lambda d: \"otras\" if (d in tipo_poliza_name_values.keys() and tipo_poliza_name_values[d]<0.005 or d==\"nan\") else d)\n",
    "data_prod.loc[:,'tipo_prod_desc']=data_prod.tipo_prod_desc.apply(lambda d: \"otras\" if (d in tipo_prod_desc_values.keys() and tipo_prod_desc_values[d]<0.005 or d==\"nan\") else d)"
   ]
  },
  {
   "cell_type": "code",
   "execution_count": 14,
   "metadata": {},
   "outputs": [
    {
     "data": {
      "image/png": "[encoded data removed]",
      "text/plain": [
       "<Figure size 800x500 with 1 Axes>"
      ]
     },
     "metadata": {
      "needs_background": "light"
     },
     "output_type": "display_data"
    }
   ],
   "source": [
    "data_tipo_prod=data_prod.tipo_prod_desc.value_counts(normalize=True).head(10).reset_index()[1:]\n",
    "\n",
    "f,ax=plt.subplots(figsize=(8,5),dpi=100)\n",
    "sns.barplot(x=data_tipo_prod['index'],y=data_tipo_prod['tipo_prod_desc']*100,data=data_tipo_prod,ax=ax,color=\"darkgreen\");\n",
    "ax.set_title(\"Top 10 tipos de productos en archivos Producción, Previsora S.A (2021-01 a 2022-02)\",size=14)\n",
    "ax.set_xlabel(\"Tipo Producto\")\n",
    "ax.set_ylabel(\"% Registros\")\n",
    "plt.xticks(rotation=90);"
   ]
  },
  {
   "cell_type": "code",
   "execution_count": 29,
   "metadata": {},
   "outputs": [
    {
     "data": {
      "image/png": "[encoded data removed]",
      "text/plain": [
       "<Figure size 880x550 with 1 Axes>"
      ]
     },
     "metadata": {
      "needs_background": "light"
     },
     "output_type": "display_data"
    }
   ],
   "source": [
    "data_tipo_poliza=data_prod.tipo_poliza_name.value_counts(normalize=True).head(10).reset_index()\n",
    "\n",
    "f,ax=plt.subplots(figsize=(8,5),dpi=110)\n",
    "sns.barplot(x=data_tipo_poliza['index'],y=data_tipo_poliza['tipo_poliza_name']*100,data=data_tipo_poliza,ax=ax,color=\"darkgreen\");\n",
    "ax.set_title(\"Top 10 tipos de Poliza en archivos Producción, Previsora S.A (2021-01 a 2022-02)\",size=14)\n",
    "ax.set_xlabel(\"Tipo Poliza\")\n",
    "ax.set_ylabel(\"% Registros\")\n",
    "plt.xticks(rotation=90);"
   ]
  },
  {
   "cell_type": "code",
   "execution_count": 11,
   "metadata": {},
   "outputs": [],
   "source": [
    "## eliminar columnas innecesarias generadas en los merge\n",
    "data_prod.drop(columns=['cod_ramo','cod_tipo_poliza','ramo','codigo'],inplace=True)"
   ]
  },
  {
   "cell_type": "code",
   "execution_count": 12,
   "metadata": {},
   "outputs": [],
   "source": [
    "#calcular vigencia en días de la poliza, para el MVP asumiremos solo polizas de 365 días.\n",
    "data_prod.loc[:,'vigencia_dias']=data_prod.apply(lambda d: (d['FechaFinVigencia__c']-d['FechaInicioVigencia__c']).days,axis=1)\n",
    "data_prod_365=data_prod.query(\"\"\"vigencia_dias==365\"\"\").copy()"
   ]
  },
  {
   "cell_type": "markdown",
   "metadata": {},
   "source": [
    "### Cálculo de variable objetivo: churn\n",
    "\n",
    "Para este MVP usaremos las polizas cuya vigencia empieza en enero o febrero de 2021 y observaremos si en el mes de su vencimiento, se observan o no nuevas polizas para el mismo código de asegurado (Asegurado__c) tipo ramo y tipo poliza (RamoTecnico__c,Tipo_poliza_c)."
   ]
  },
  {
   "cell_type": "code",
   "execution_count": 45,
   "metadata": {},
   "outputs": [
    {
     "name": "stdout",
     "output_type": "stream",
     "text": [
      "Total emisiones en ['01-2021', '02-2021'] : 60441 polizas\n",
      "Total emisiones al finalizar el monitoreo en ['01-2022', '02-2022'] : 85847 polizas\n"
     ]
    }
   ],
   "source": [
    "fecha_inicio=[\"01-2021\",\"02-2021\"] ##fecha para iniciar el monitoreo de polizas un año después\n",
    "fecha_fin=[\"01-2022\",\"02-2022\"]  ##fecha para finalizar el monitoreo de las pólizas\n",
    "emisiones_inicio=data_prod_365.query('FechaInicioVigencia__ctrim==\"{}\" or FechaInicioVigencia__ctrim==\"{}\" '.format(fecha_inicio[0],fecha_inicio[1]))\n",
    "emisiones_final=data_prod_365.query('FechaInicioVigencia__ctrim==\"{}\" or FechaInicioVigencia__ctrim==\"{}\"'.format(fecha_fin[0],fecha_fin[1]))\n",
    "print(f\"Total emisiones en {fecha_inicio} : {len(set(emisiones_inicio.NumeroPoliza__c.values))} polizas\")\n",
    "print(f\"Total emisiones al finalizar el monitoreo en {fecha_fin} : {len(set(emisiones_final.NumeroPoliza__c.values))} polizas\")"
   ]
  },
  {
   "cell_type": "code",
   "execution_count": 46,
   "metadata": {},
   "outputs": [
    {
     "name": "stdout",
     "output_type": "stream",
     "text": [
      "Total Registros:  67190\n"
     ]
    }
   ],
   "source": [
    "churn_data=emisiones_inicio[['Asegurado__c','CodigoTipoAsegurado__c','PuntoVenta__c','Producto__c','tipo_poliza_name','tipo_prod_desc','ClaseVehiculo__c','MarcaVehiculo__c','MdeloVehiculo__c','TipoVehiculo__c','NumeroPoliza__c','FechaInicioVigencia__ctrim','vigencia_dias','RamoTecnico__c','Tipo_poliza_c']].drop_duplicates().\\\n",
    "        merge(emisiones_final[['Asegurado__c','CodigoTipoAsegurado__c','Producto__c','FechaInicioVigencia__ctrim','vigencia_dias','RamoTecnico__c','Tipo_poliza_c']].drop_duplicates().\\\n",
    "        rename(columns={'vigencia_dias':'end_vig','FechaInicioVigencia__ctrim':'FechaInicio_ctrl'}),how=\"left\",on=['Asegurado__c','CodigoTipoAsegurado__c','Producto__c','RamoTecnico__c','Tipo_poliza_c'])\n",
    "churn_data.loc[:,'churn']=~churn_data.end_vig.isnull()\n",
    "print(\"Total Registros: \",churn_data.shape[0])"
   ]
  },
  {
   "cell_type": "code",
   "execution_count": 47,
   "metadata": {},
   "outputs": [
    {
     "data": {
      "image/png": "[encoded data removed]",
      "text/plain": [
       "<Figure size 432x288 with 1 Axes>"
      ]
     },
     "metadata": {
      "needs_background": "light"
     },
     "output_type": "display_data"
    }
   ],
   "source": [
    "churn_data.churn.value_counts(normalize=True).plot(kind=\"bar\",title=\"Comportamiento de Churn en 2021-01 y 2021-02\");"
   ]
  },
  {
   "cell_type": "markdown",
   "metadata": {},
   "source": [
    "## Extraer Variables de Dimensiones Adicionales\n",
    "### Datos de persona natural"
   ]
  },
  {
   "cell_type": "code",
   "execution_count": 31,
   "metadata": {},
   "outputs": [],
   "source": [
    "#obtener nombre de ciudad usando datos del Dane\n",
    "ciudades=pd.read_excel(\"public_data\\Codigos Dane municipios.xlsx\",header=1,dtype={'CÓDIGO':int})\n",
    "persona_natural=data['personanatural'].merge(ciudades[['MUNICIPIO','CÓDIGO']].rename(columns={'CÓDIGO':'Ciudad__c','MUNICIPIO':'ciudad_name'}),how=\"left\",on=\"Ciudad__c\").copy()"
   ]
  },
  {
   "cell_type": "code",
   "execution_count": 32,
   "metadata": {},
   "outputs": [],
   "source": [
    "#seleccionar variables y remover duplicadas\n",
    "persona_natural=persona_natural[['CodigoAsegurado__c','Activos__c','AnnualRevenue','MontoAnual__c','OtrosIngresos__c','Profesion__pc','EgresosAnuales__c','EstadoCivil__pc','PersonBirthDate','Genero__pc','NumeroIdentificacion__c','ciudad_name']].drop_duplicates()"
   ]
  },
  {
   "cell_type": "code",
   "execution_count": 33,
   "metadata": {},
   "outputs": [],
   "source": [
    "#calcular edad\n",
    "from datetime import datetime\n",
    "persona_natural.loc[:,'PersonBirthDate']=pd.to_datetime(persona_natural.PersonBirthDate,errors=\"coerce\")\n",
    "persona_natural.loc[:,'edad']=persona_natural.PersonBirthDate.apply(lambda d: (pd.to_datetime(datetime.now())-d).days/365.0 if not pd.isnull(d) else np.nan)"
   ]
  },
  {
   "cell_type": "code",
   "execution_count": 43,
   "metadata": {},
   "outputs": [],
   "source": [
    "#ciudades con pocos registros se agrupan en una misma categoría\n",
    "ciudad_name_values=persona_natural.ciudad_name.value_counts(normalize=True).to_dict()\n",
    "persona_natural.loc[:,'ciudad_name']=persona_natural.ciudad_name.apply(lambda d: \"otras\" if ((d in ciudad_name_values.keys() and ciudad_name_values[d]<0.01) or pd.isnull(d)) else d)"
   ]
  },
  {
   "cell_type": "markdown",
   "metadata": {},
   "source": [
    "En el caso de personas naturales, existe información duplicada pero no se tiene una marca de la fecha de actualización de los registros, por tanto, se dejará un único registro por persona basado en la menor cantidad de valores nulos que se tenga. También se renombra la variable `CodigoAsegurado__c` para posteriores transformaciones de unión con otras fuentes de datos. "
   ]
  },
  {
   "cell_type": "code",
   "execution_count": 44,
   "metadata": {},
   "outputs": [
    {
     "name": "stdout",
     "output_type": "stream",
     "text": [
      "Total Registros:  633208\n"
     ]
    }
   ],
   "source": [
    "persona_natural=persona_natural.rename(columns={'CodigoAsegurado__c':'Asegurado__c'}).drop(columns=['NumeroIdentificacion__c','PersonBirthDate']).drop_duplicates()\n",
    "persona_natural.loc[:,'n_null']=persona_natural.isnull().sum(axis=1)\n",
    "persona_natural.sort_values(by=[\"Asegurado__c\",\"n_null\"],ascending=True,inplace=True)\n",
    "persona_natural=persona_natural[~persona_natural.duplicated(subset=\"Asegurado__c\",keep='first')]\n",
    "print(\"Total Registros: \",persona_natural.shape[0])"
   ]
  },
  {
   "cell_type": "markdown",
   "metadata": {},
   "source": [
    "### Datos de Recaudo\n"
   ]
  },
  {
   "cell_type": "code",
   "execution_count": 21,
   "metadata": {},
   "outputs": [
    {
     "name": "stdout",
     "output_type": "stream",
     "text": [
      "Total Registros:  1012598\n"
     ]
    }
   ],
   "source": [
    "# Recaudo data\n",
    "recaudo=data['recaudo'][['CodigoAsegurado__c','RamoTecnico__c','NumeroPoliza__c','Tipo_poliza_c','Producto__c','FechaProduccion__c','CodigoPlanPagos__c','EstadoPagos']].drop_duplicates()\n",
    "recaudo.loc[:,'Producto__c']=recaudo.Producto__c.apply(lambda d: try_convert(d))\n",
    "print(\"Total Registros: \",recaudo.shape[0])"
   ]
  },
  {
   "cell_type": "markdown",
   "metadata": {},
   "source": [
    "### Datos de Siniestro\n",
    "\n",
    "Para algunos calculos necesitaremos los valores en SMMLV del año de referencia, por tanto obtenemos el histórico de salarios de BANREP\n"
   ]
  },
  {
   "cell_type": "code",
   "execution_count": 22,
   "metadata": {},
   "outputs": [],
   "source": [
    "salarios_min=pd.read_excel(\"public_data\\salarios_minimos_brep.xlsx\",skiprows=5,skipfooter=12,dtype={'Año (aaaa)':int}).\\\n",
    "    rename(columns={\"Salario mínimo mensual (COP)\":'sal_mens_min','Año (aaaa)':'anio'})\n",
    "salarios_min=salarios_min[['anio','sal_mens_min']].set_index('anio').to_dict(orient=\"index\")"
   ]
  },
  {
   "cell_type": "code",
   "execution_count": 23,
   "metadata": {},
   "outputs": [],
   "source": [
    "##convertir columnas tipo fecha a timestamp\n",
    "\n",
    "date_cols=[i for i in data['siniestro'].columns.values if \"fecha\" in i.lower()]\n",
    "\n",
    "## crear una copia del dataframe para generar reproducibilidad\n",
    "data_siniestro=data['siniestro'].drop_duplicates().copy()\n",
    "\n",
    "\n",
    "for col in date_cols:\n",
    "    data_siniestro.loc[:,col]=col_to_dateutc(data_siniestro[col])\n",
    "    data_siniestro.loc[:,col+\"trim\"]=col_to_dateutc(data_siniestro[col],trim=True)"
   ]
  },
  {
   "cell_type": "code",
   "execution_count": 24,
   "metadata": {},
   "outputs": [],
   "source": [
    "#calcular valor pagado por siniestro en SMMLV para poder comparar sumarlos o compararlos en el tiempo\n",
    "data_siniestro_prev=data_siniestro.query(\"FechaOcurrenciaSiniestro__c<20210131\")\n",
    "data_siniestro_prev.loc[:,'ValorPagadoSiniestros__smmlv']=data_siniestro_prev.apply(lambda d: d['ValorPagadoSiniestros__c']/salarios_min[d['FechaOcurrenciaSiniestro__c'].year]['sal_mens_min'] if d['FechaOcurrenciaSiniestro__c'].year in salarios_min.keys() else salarios_min[2020],axis=1)"
   ]
  },
  {
   "cell_type": "code",
   "execution_count": 25,
   "metadata": {},
   "outputs": [],
   "source": [
    "#calcular años hasta el el 31 de enero de 2021 (fecha desde que inicia el análisis churn)\n",
    "data_siniestro_prev.loc[:,'tiempo_stro_hasta012021']=data_siniestro_prev.FechaOcurrenciaSiniestro__c.apply(lambda d: (pd.to_datetime(\"31-01-2021\")-d).days/365)"
   ]
  },
  {
   "cell_type": "code",
   "execution_count": 26,
   "metadata": {},
   "outputs": [
    {
     "data": {
      "text/html": [
       "<div>\n",
       "<style scoped>\n",
       "    .dataframe tbody tr th:only-of-type {\n",
       "        vertical-align: middle;\n",
       "    }\n",
       "\n",
       "    .dataframe tbody tr th {\n",
       "        vertical-align: top;\n",
       "    }\n",
       "\n",
       "    .dataframe thead th {\n",
       "        text-align: right;\n",
       "    }\n",
       "</style>\n",
       "<table border=\"1\" class=\"dataframe\">\n",
       "  <thead>\n",
       "    <tr style=\"text-align: right;\">\n",
       "      <th></th>\n",
       "      <th>CodigoAsegurado__c</th>\n",
       "      <th>total_siniestros</th>\n",
       "      <th>total_pagado_smmlv</th>\n",
       "      <th>anios_ultimo_siniestro</th>\n",
       "    </tr>\n",
       "  </thead>\n",
       "  <tbody>\n",
       "    <tr>\n",
       "      <th>0</th>\n",
       "      <td>411</td>\n",
       "      <td>80</td>\n",
       "      <td>1166.628000</td>\n",
       "      <td>0.008219</td>\n",
       "    </tr>\n",
       "    <tr>\n",
       "      <th>1</th>\n",
       "      <td>412</td>\n",
       "      <td>4</td>\n",
       "      <td>0.000000</td>\n",
       "      <td>0.024658</td>\n",
       "    </tr>\n",
       "    <tr>\n",
       "      <th>2</th>\n",
       "      <td>638</td>\n",
       "      <td>3</td>\n",
       "      <td>45.568311</td>\n",
       "      <td>0.602740</td>\n",
       "    </tr>\n",
       "    <tr>\n",
       "      <th>3</th>\n",
       "      <td>640</td>\n",
       "      <td>1</td>\n",
       "      <td>12.268511</td>\n",
       "      <td>1.761644</td>\n",
       "    </tr>\n",
       "    <tr>\n",
       "      <th>4</th>\n",
       "      <td>785</td>\n",
       "      <td>33</td>\n",
       "      <td>2390.146347</td>\n",
       "      <td>0.005479</td>\n",
       "    </tr>\n",
       "  </tbody>\n",
       "</table>\n",
       "</div>"
      ],
      "text/plain": [
       "   CodigoAsegurado__c  total_siniestros  total_pagado_smmlv  \\\n",
       "0                 411                80         1166.628000   \n",
       "1                 412                 4            0.000000   \n",
       "2                 638                 3           45.568311   \n",
       "3                 640                 1           12.268511   \n",
       "4                 785                33         2390.146347   \n",
       "\n",
       "   anios_ultimo_siniestro  \n",
       "0                0.008219  \n",
       "1                0.024658  \n",
       "2                0.602740  \n",
       "3                1.761644  \n",
       "4                0.005479  "
      ]
     },
     "execution_count": 26,
     "metadata": {},
     "output_type": "execute_result"
    }
   ],
   "source": [
    "#generar variables por CodigoAsegurado__c\n",
    "data_siniestro_prev_agg=data_siniestro_prev.groupby(['CodigoAsegurado__c']).agg({'IdentificacionSiniestro__c':lambda x: x.nunique(),\\\n",
    "                        'ValorPagadoSiniestros__smmlv':np.sum,'tiempo_stro_hasta012021':np.min}).reset_index().\\\n",
    "                        rename(columns={'IdentificacionSiniestro__c':'total_siniestros','ValorPagadoSiniestros__smmlv':'total_pagado_smmlv','tiempo_stro_hasta012021':'anios_ultimo_siniestro'})\n",
    "data_siniestro_prev_agg.head()"
   ]
  },
  {
   "cell_type": "markdown",
   "metadata": {},
   "source": [
    "## Data Producción\n",
    "\n",
    "En esta información reutilizaremos los pasos generados para obtener la variable objetivo.Sin embargo, gran cantidad de variables requeridas para el posterior análisis descriptivo,ya se encuentran integradas en el objeto `churn_data`."
   ]
  },
  {
   "cell_type": "code",
   "execution_count": 27,
   "metadata": {},
   "outputs": [],
   "source": [
    "#obtener generación de polizas previas al primer mes de análisis de churn \n",
    "data_prod_prev=data_prod.query(\"FechaInicioVigencia__c<20201231\")"
   ]
  },
  {
   "cell_type": "code",
   "execution_count": 28,
   "metadata": {},
   "outputs": [],
   "source": [
    "#total de productos previos al mes base de análisis de churn\n",
    "prod_prev=data_prod_prev.groupby([\"Asegurado__c\",\"CodigoTipoAsegurado__c\"]).agg({'Producto__c':lambda x: x.nunique()}).reset_index().rename(columns={'Producto__c':'n_prod_prev'})"
   ]
  },
  {
   "cell_type": "markdown",
   "metadata": {},
   "source": [
    "## Integrar variables"
   ]
  },
  {
   "cell_type": "code",
   "execution_count": 48,
   "metadata": {},
   "outputs": [
    {
     "name": "stdout",
     "output_type": "stream",
     "text": [
      "(67190, 19)\n",
      "(67190, 22)\n",
      "(67190, 33)\n"
     ]
    }
   ],
   "source": [
    "#produccion\n",
    "churn_data=churn_data.merge(prod_prev,how=\"left\",on=[\"Asegurado__c\",\"CodigoTipoAsegurado__c\"])\n",
    "print(churn_data.shape)\n",
    "#siniestros\n",
    "churn_data=churn_data.merge(data_siniestro_prev_agg.rename(columns={'CodigoAsegurado__c':'Asegurado__c'}),how=\"left\",on=\"Asegurado__c\")\n",
    "print(churn_data.shape)\n",
    "#personanatural\n",
    "churn_data=churn_data.merge(persona_natural,how=\"left\",on=\"Asegurado__c\")\n",
    "print(churn_data.shape)"
   ]
  },
  {
   "cell_type": "code",
   "execution_count": 202,
   "metadata": {},
   "outputs": [],
   "source": [
    "#avoid until validation\n",
    "#recaudo.rename(columns={'CodigoAsegurado__c':'Asegurado__c'}).sort_values(by=['Asegurado__c','Producto__c','RamoTecnico__c','Tipo_poliza_c','NumeroPoliza__c']).drop_duplicates()\n",
    "#churn_data.merge(recaudo.rename(columns={'CodigoAsegurado__c':'Asegurado__c'}).drop(columns=['EstadoPagos']).drop_duplicates(),how=\"left\",on=['Asegurado__c','Producto__c','RamoTecnico__c','Tipo_poliza_c','NumeroPoliza__c']).shape"
   ]
  },
  {
   "cell_type": "markdown",
   "metadata": {},
   "source": [
    "## Exportar churn data\n",
    "\n",
    "Dado que se hallaron los clientes y su comportamiento en el análisis de churn, exportamos la data para su posterior uso en el análisis exploratorio"
   ]
  },
  {
   "cell_type": "code",
   "execution_count": 49,
   "metadata": {},
   "outputs": [],
   "source": [
    "churn_data.drop(columns=['FechaInicio_ctrl','vigencia_dias','end_vig','n_null','Tipo_poliza_c','RamoTecnico__c','Producto__c']).drop_duplicates().to_csv(\"churn_data.csv\",sep=\";\",index=False)"
   ]
  }
 ],
 "metadata": {
  "interpreter": {
   "hash": "a7b983b39a226ab5889b4ea3098be3b8cc3b6c7166b049dbd839f1090f7bd1c7"
  },
  "kernelspec": {
   "display_name": "Python 3.7.8 64-bit",
   "language": "python",
   "name": "python3"
  },
  "language_info": {
   "codemirror_mode": {
    "name": "ipython",
    "version": 3
   },
   "file_extension": ".py",
   "mimetype": "text/x-python",
   "name": "python",
   "nbconvert_exporter": "python",
   "pygments_lexer": "ipython3",
   "version": "3.9.7"
  },
  "orig_nbformat": 4
 },
 "nbformat": 4,
 "nbformat_minor": 2
}
