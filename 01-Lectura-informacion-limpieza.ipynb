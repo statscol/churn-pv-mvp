{
 "cells": [
  {
   "cell_type": "markdown",
   "metadata": {},
   "source": [
    "# Lectura de la Información\n",
    "En este notebook nos enfocaremos en extraer la data de los archivos comprimidos y unificar las fuentes de datos. Muchas de los métodos/funciones utilizadas, serán cargadas de un archivo utils.py previamente generado para evitar sobrecarga de código en este notebook. Adicionalmente, se proponen nuevas variables a partir del uso de procesos de agrupación por cliente y/o información externa de acceso público."
   ]
  },
  {
   "cell_type": "markdown",
   "metadata": {},
   "source": [
    "### Cargar librerías necesarias"
   ]
  },
  {
   "cell_type": "code",
   "execution_count": 1,
   "metadata": {},
   "outputs": [],
   "source": [
    "from utils import *\n",
    "import shutil\n",
    "import warnings\n",
    "import seaborn as sns\n",
    "import matplotlib.pyplot as plt\n",
    "import numpy as np\n",
    "warnings.filterwarnings('ignore')\n",
    "warnings.simplefilter('ignore')"
   ]
  },
  {
   "cell_type": "markdown",
   "metadata": {},
   "source": [
    "### Listar archivos comprimidos y extraer archivos"
   ]
  },
  {
   "cell_type": "code",
   "execution_count": 2,
   "metadata": {},
   "outputs": [],
   "source": [
    "files=[i for i in os.listdir(\"../data\")] ## ../ hace referencia a un nivel atrás al actual, en donde se encuentran los archivos .zip\n",
    "#_=[shutil.unpack_archive(f'../{i}', f'../data/') for i in files if i.endswith(\".zip\")]"
   ]
  },
  {
   "cell_type": "code",
   "execution_count": 3,
   "metadata": {},
   "outputs": [],
   "source": [
    "##extraer paths de cada archivo csv\n",
    "filepaths=get_csv_filepaths([i.replace(\".zip\",\"\") if i.endswith(\".zip\") else i for i in files])"
   ]
  },
  {
   "cell_type": "code",
   "execution_count": 15,
   "metadata": {},
   "outputs": [],
   "source": [
    "##De acuerdo con validación de negocio, los archivos de siniestros son acumulativos, por tanto solo se debe utilizar el archivo de fin de año\n",
    "\n",
    "import re\n",
    "\n",
    "\n",
    "def get_12month_files(file_name:str):\n",
    "    matches=re.findall(\"(\\d{4}12\\/siniestros)\",file_name)\n",
    "    if len(matches)==0:\n",
    "        return None\n",
    "    else:\n",
    "        return file_name\n",
    "\n",
    "filepaths=[j for j in [get_12month_files(i) if \"siniestros\" in i else i for i in filepaths] if j is not None]\n",
    "filepaths=[i for i in filepaths if \"old\" not in i.lower()]"
   ]
  },
  {
   "cell_type": "markdown",
   "metadata": {},
   "source": [
    "### Para leer las fuentes de datos se definirán grupos de archivos denotados por la variable filegroups"
   ]
  },
  {
   "cell_type": "code",
   "execution_count": 16,
   "metadata": {},
   "outputs": [],
   "source": [
    "##NOTA: NO EJECUTAR SI PREVIAMENTE SE HAN GENERADO LOS ARCHIVOS .pickle por filegroup\n",
    "filegroups=['personajuridica','personanatural','produccion','recaudo','siniestro']     \n",
    "data={}\n",
    "for filegp in filegroups:\n",
    "    data[filegp]=read_by_filegroup(filegp,filepaths,save_output=True)"
   ]
  },
  {
   "cell_type": "code",
   "execution_count": 6,
   "metadata": {},
   "outputs": [
    {
     "name": "stdout",
     "output_type": "stream",
     "text": [
      "personajuridica (359467, 67)\n",
      "personanatural (4679514, 69)\n",
      "produccion (3789891, 63)\n",
      "recaudo (6240094, 33)\n",
      "siniestro (781983, 34)\n"
     ]
    }
   ],
   "source": [
    "##leer archivos pickle (Checkpoint), ejecutar solo si se ejecutó la celda anterior en algún momento\n",
    "\n",
    "filegroups=['personajuridica','personanatural','produccion','recaudo','siniestro']\n",
    "data={}\n",
    "for filegp in filegroups:\n",
    "    data[filegp]=pd.read_pickle(f\"{filegp}.pickle\",compression=\"gzip\")\n",
    "    print(filegp,data[filegp].shape)"
   ]
  },
  {
   "cell_type": "markdown",
   "metadata": {},
   "source": [
    "### Lectura información tipo de Polizas"
   ]
  },
  {
   "cell_type": "code",
   "execution_count": 7,
   "metadata": {},
   "outputs": [
    {
     "data": {
      "text/html": [
       "<div>\n",
       "<style scoped>\n",
       "    .dataframe tbody tr th:only-of-type {\n",
       "        vertical-align: middle;\n",
       "    }\n",
       "\n",
       "    .dataframe tbody tr th {\n",
       "        vertical-align: top;\n",
       "    }\n",
       "\n",
       "    .dataframe thead th {\n",
       "        text-align: right;\n",
       "    }\n",
       "</style>\n",
       "<table border=\"1\" class=\"dataframe\">\n",
       "  <thead>\n",
       "    <tr style=\"text-align: right;\">\n",
       "      <th></th>\n",
       "      <th>cod_ramo</th>\n",
       "      <th>txt_desc_redu</th>\n",
       "      <th>txt_desc</th>\n",
       "    </tr>\n",
       "  </thead>\n",
       "  <tbody>\n",
       "    <tr>\n",
       "      <th>0</th>\n",
       "      <td>1</td>\n",
       "      <td>MANEJO</td>\n",
       "      <td>MANEJO</td>\n",
       "    </tr>\n",
       "    <tr>\n",
       "      <th>1</th>\n",
       "      <td>2</td>\n",
       "      <td>CUMPLIMIENTO</td>\n",
       "      <td>CUMPLIMIENTO</td>\n",
       "    </tr>\n",
       "    <tr>\n",
       "      <th>2</th>\n",
       "      <td>3</td>\n",
       "      <td>INCENDIO</td>\n",
       "      <td>INCENDIO</td>\n",
       "    </tr>\n",
       "    <tr>\n",
       "      <th>3</th>\n",
       "      <td>4</td>\n",
       "      <td>SUSTRACCION</td>\n",
       "      <td>SUSTRACCION</td>\n",
       "    </tr>\n",
       "    <tr>\n",
       "      <th>4</th>\n",
       "      <td>5</td>\n",
       "      <td>TRANSPORTES</td>\n",
       "      <td>TRANSPORTES</td>\n",
       "    </tr>\n",
       "  </tbody>\n",
       "</table>\n",
       "</div>"
      ],
      "text/plain": [
       "   cod_ramo txt_desc_redu      txt_desc\n",
       "0         1        MANEJO        MANEJO\n",
       "1         2  CUMPLIMIENTO  CUMPLIMIENTO\n",
       "2         3      INCENDIO      INCENDIO\n",
       "3         4   SUSTRACCION   SUSTRACCION\n",
       "4         5   TRANSPORTES   TRANSPORTES"
      ]
     },
     "execution_count": 7,
     "metadata": {},
     "output_type": "execute_result"
    }
   ],
   "source": [
    "FILENAME_RAMOS=\"../Códigos Ramos-Productos.xlsx\"\n",
    "FILENAME_POLIZAS=\"../CODIGOS PRODUCTOS SISE.xls\"\n",
    "tipo_ramo,tipo_poliza,tipo_prod=pd.read_excel(FILENAME_RAMOS,sheet_name=\"tramo\",dtype={'cod_ramo': int},skiprows=2),\\\n",
    "                        pd.read_excel(FILENAME_RAMOS,sheet_name=\"tsubramo\",dtype={'cod_ramo': int,'cod_subramo':int},skiprows=2),\\\n",
    "                      pd.read_excel(FILENAME_POLIZAS,sheet_name=\"productos 3g\",dtype={'ramo': int, 'codigo': str})\n",
    "tipo_ramo.head()"
   ]
  },
  {
   "cell_type": "markdown",
   "metadata": {},
   "source": [
    "## Esquema de generación de la variable objetivo: churn\n",
    "\n",
    "- Se deben explorar los campos que permiten unir las diversas fuentes de información, para ello deberá explorarse el código de asegurado o el número de la póliza\n",
    "- Por definición de negocio, sólo serán tenidos en cuenta productos del segmento Personas:\n",
    "    - Autos - cod_ramo: 7\n",
    "    - Responsabilidad Civil- cod_ramo: 13 y Producto 4,6 y 7\n",
    "    - PreviHogar (producto) - cod_ramo : 89\n",
    "- Debido a que solo se tiene un año de historia, debemos tomar un periodo base y observar 12 meses después el comportamiento de los asegurados, para encontrar si renovaron o no (churn) su poliza. A través de este análisis generaremos la variable objetivo. Esto puede observarse en el siguiente gráfico. \n",
    "\n",
    "![img](images/caso_uso.jpg)\n",
    "\n",
    "\n",
    "- Sólo serán tenidas en cuenta las pólizas de 12 meses de duración\n",
    "\n",
    "\n"
   ]
  },
  {
   "cell_type": "code",
   "execution_count": 8,
   "metadata": {},
   "outputs": [],
   "source": [
    "date_cols=[i for i in data['produccion'].columns.values if \"fecha\" in i.lower()]\n",
    "\n",
    "## crear una copia del dataframe para generar reproducibilidad\n",
    "data_prod=data['produccion'].drop_duplicates().copy()"
   ]
  },
  {
   "cell_type": "code",
   "execution_count": 26,
   "metadata": {},
   "outputs": [
    {
     "name": "stdout",
     "output_type": "stream",
     "text": [
      "Total filas antes de remover duplicados:  3789891\n",
      "Total filas después de remover duplicados y filtrar ramos:  546876\n"
     ]
    }
   ],
   "source": [
    "##detectar columnas tipo fecha y convertirlas a tipo datetime\n",
    "\n",
    "date_cols=[i for i in data['produccion'].columns.values if \"fecha\" in i.lower()]\n",
    "\n",
    "## crear una copia del dataframe para generar reproducibilidad\n",
    "data_prod=data['produccion'].drop_duplicates().copy()\n",
    "data_prod=data_prod.query(\"RamoComercial__c in (7,89) or (RamoComercial__c==13 and Producto__c in (4,6,7))\")\n",
    "\n",
    "def col_to_dateutc(column,trim=False):\n",
    "    if trim:\n",
    "        return pd.to_datetime(column,errors=\"coerce\").dt.strftime('%m-%Y')\n",
    "    else:\n",
    "        return pd.to_datetime(column,errors=\"coerce\")\n",
    "\n",
    "for col in date_cols:\n",
    "    data_prod.loc[:,col]=col_to_dateutc(data_prod[col])\n",
    "    data_prod.loc[:,col+\"trim\"]=col_to_dateutc(data_prod[col],trim=True)\n",
    "\n",
    "\n",
    "print(\"Total filas antes de remover duplicados: \",data['produccion'].shape[0])\n",
    "print(\"Total filas después de remover duplicados y filtrar ramos: \",data_prod.shape[0])"
   ]
  },
  {
   "cell_type": "code",
   "execution_count": 27,
   "metadata": {},
   "outputs": [
    {
     "name": "stdout",
     "output_type": "stream",
     "text": [
      "(546876, 69)\n"
     ]
    }
   ],
   "source": [
    "##obtener descripción tipo de ramo y de subramo de producto\n",
    "data_prod=data_prod.merge(tipo_ramo[['cod_ramo','txt_desc']].rename(columns={'txt_desc':'tipo_ramo_name'}),how=\"inner\",left_on=['RamoComercial__c'],right_on=['cod_ramo']).drop(columns=\"cod_ramo\")\n",
    "print(data_prod.shape)"
   ]
  },
  {
   "cell_type": "markdown",
   "metadata": {},
   "source": [
    "### Aspecto Clave\n",
    "\n",
    "Debido a algunas diferencias de nombres en los archivos de códigos de nombres de producto (ramo y subramo), se asume la siguiente equivalencia para la unión de los datos:\n",
    "\n",
    "- RamoComercial__c equivale a cod_ramo\n",
    "- Codigo__c equivale a cod_subramo"
   ]
  },
  {
   "cell_type": "code",
   "execution_count": 28,
   "metadata": {},
   "outputs": [],
   "source": [
    "##Añadir descripción tipo producto por subramo\n",
    "       \n",
    "data_prod.loc[:,'Producto__c']=data_prod.Producto__c.apply(lambda d: try_convert(str(d))).astype(int) ## se debe realizar un paso previo ya que el Producto__c está con valores decimales"
   ]
  },
  {
   "cell_type": "code",
   "execution_count": 29,
   "metadata": {},
   "outputs": [
    {
     "data": {
      "text/plain": [
       "(546876, 72)"
      ]
     },
     "execution_count": 29,
     "metadata": {},
     "output_type": "execute_result"
    }
   ],
   "source": [
    "data_prod=data_prod.merge(tipo_poliza.rename(columns={'txt_desc':'tipo_prod_desc'}),how=\"left\",left_on=['RamoComercial__c','Producto__c'],right_on=['cod_ramo','cod_subramo'])\n",
    "data_prod.shape"
   ]
  },
  {
   "cell_type": "code",
   "execution_count": 30,
   "metadata": {},
   "outputs": [],
   "source": [
    "## existen columnas que pueden diferir en valor pero cuyo contenido puede ser unificado al usar procesos de limpieza, (ej. 4.0 vs 4, \" DAÑOS\" vs \"DAÑOS\")\n",
    "## Por tanto se procede a limpiar estas columnas\n",
    "\n",
    "data_prod.loc[:,'ClaseVehiculo__c']=data_prod.ClaseVehiculo__c.apply(lambda d: try_convert(d))\n",
    "data_prod.loc[:,'TipoVehiculo__c']=data_prod.TipoVehiculo__c.apply(lambda d: try_convert(d))\n",
    "data_prod.loc[:,'tipo_ramo_name']=data_prod.tipo_ramo_name.apply(lambda d: str(d).strip().lower())\n",
    "data_prod.loc[:,'tipo_prod_desc']=data_prod.tipo_prod_desc.apply(lambda d: str(d).strip().lower())\n"
   ]
  },
  {
   "cell_type": "markdown",
   "metadata": {},
   "source": [
    "### Agrupación de categorías en variables\n",
    "\n",
    "Se hacen algunas agregaciones dado que en el archivo de subramos no se encontró mayor nivel de detalle para ramos 7 y 89"
   ]
  },
  {
   "cell_type": "code",
   "execution_count": 39,
   "metadata": {},
   "outputs": [],
   "source": [
    "#data_prod.loc[:,'tipo_ramo_name']=data_prod.tipo_ramo_name.apply(lambda d: \"otras\" if d==\"nan\" else d)\n",
    "UNDEFINED_RAMOS={7:'automoviles',89:'previhogar'}\n",
    "data_prod['tipo_prod_desc']=data_prod.apply(lambda d: UNDEFINED_RAMOS[d['RamoComercial__c']] if d['RamoComercial__c'] in UNDEFINED_RAMOS.keys() else d['tipo_prod_desc'],axis=1)"
   ]
  },
  {
   "cell_type": "code",
   "execution_count": 42,
   "metadata": {},
   "outputs": [
    {
     "data": {
      "image/png": "[encoded data removed]",
      "text/plain": [
       "<Figure size 800x500 with 1 Axes>"
      ]
     },
     "metadata": {
      "needs_background": "light"
     },
     "output_type": "display_data"
    }
   ],
   "source": [
    "data_tipo_prod=data_prod.tipo_prod_desc.value_counts(normalize=True).head(10).reset_index()\n",
    "\n",
    "f,ax=plt.subplots(figsize=(8,5),dpi=100)\n",
    "sns.barplot(x=data_tipo_prod['index'],y=data_tipo_prod['tipo_prod_desc']*100,data=data_tipo_prod,ax=ax,color=\"darkgreen\");\n",
    "ax.set_title(\"Principales Subramos de Producto para Ramos seleccionados, Previsora S.A (2021-01 a 2022-02)\\n\",size=14)\n",
    "ax.set_xlabel(\"Tipo Producto\")\n",
    "ax.set_ylabel(\"% Registros\")\n",
    "plt.xticks(rotation=90);"
   ]
  },
  {
   "cell_type": "code",
   "execution_count": 43,
   "metadata": {},
   "outputs": [
    {
     "data": {
      "image/png": "[encoded data removed]",
      "text/plain": [
       "<Figure size 880x550 with 1 Axes>"
      ]
     },
     "metadata": {
      "needs_background": "light"
     },
     "output_type": "display_data"
    }
   ],
   "source": [
    "data_tipo_ramo=data_prod.tipo_ramo_name.value_counts(normalize=True).head(10).reset_index()\n",
    "\n",
    "f,ax=plt.subplots(figsize=(8,5),dpi=110)\n",
    "sns.barplot(x=data_tipo_ramo['index'],y=data_tipo_ramo['tipo_ramo_name']*100,data=data_tipo_ramo,ax=ax,color=\"darkgreen\");\n",
    "ax.set_title(\"Distribución Ramos de Producto Seleccionados en Archivos Producción, Previsora S.A (2021-01 a 2022-02) \\n\",size=14)\n",
    "ax.set_xlabel(\"Tipo Poliza\")\n",
    "ax.set_ylabel(\"% Registros\")\n",
    "plt.xticks(rotation=90);"
   ]
  },
  {
   "cell_type": "code",
   "execution_count": 44,
   "metadata": {},
   "outputs": [],
   "source": [
    "## eliminar columnas innecesarias generadas en los merge\n",
    "data_prod.drop(columns=['cod_ramo','cod_subramo'],inplace=True)"
   ]
  },
  {
   "cell_type": "code",
   "execution_count": 45,
   "metadata": {},
   "outputs": [],
   "source": [
    "#calcular vigencia en días de la poliza, para el MVP asumiremos solo polizas de 365 días.\n",
    "data_prod.loc[:,'vigencia_dias']=data_prod.apply(lambda d: (d['FechaFinVigencia__c']-d['FechaInicioVigencia__c']).days,axis=1)\n",
    "data_prod_365=data_prod.query(\"\"\"vigencia_dias==365\"\"\").copy()"
   ]
  },
  {
   "cell_type": "markdown",
   "metadata": {},
   "source": [
    "### Cálculo de variable objetivo: churn\n",
    "\n",
    "Para este MVP usaremos las polizas cuya vigencia empieza en enero, febrero o marzo de cada año desde 2018 y observaremos si en el mes de su vencimiento, se observan o no nuevas polizas para el mismo código de asegurado (Asegurado__c) tipo ramo y tipo poliza (RamoTecnico__c,Tipo_poliza_c)."
   ]
  },
  {
   "cell_type": "code",
   "execution_count": 54,
   "metadata": {},
   "outputs": [],
   "source": [
    "periodos={}\n",
    "for i in ['01-2018','02-2018','03-2018','01-2019','02-2019','03-2019','01-2020','02-2020','03-2020','01-2021','02-2021']:\n",
    "    mes,anio=i.split(\"-\")\n",
    "    periodos[i]=mes+\"-\"+str(int(anio)+1)"
   ]
  },
  {
   "cell_type": "code",
   "execution_count": 57,
   "metadata": {},
   "outputs": [
    {
     "name": "stdout",
     "output_type": "stream",
     "text": [
      "01-2018 - 01-2019\n",
      "Total Registros:  4827\n",
      "02-2018 - 02-2019\n",
      "Total Registros:  6149\n",
      "03-2018 - 03-2019\n",
      "Total Registros:  6431\n",
      "01-2019 - 01-2020\n",
      "Total Registros:  5553\n",
      "02-2019 - 02-2020\n",
      "Total Registros:  5724\n",
      "03-2019 - 03-2020\n",
      "Total Registros:  29\n",
      "01-2020 - 01-2021\n",
      "Total Registros:  3\n",
      "02-2020 - 02-2021\n",
      "Total Registros:  7\n",
      "03-2020 - 03-2021\n",
      "Total Registros:  4937\n",
      "01-2021 - 01-2022\n",
      "Total Registros:  2182\n",
      "02-2021 - 02-2022\n",
      "Total Registros:  4563\n",
      "\n",
      "\t\t Total Registros para análisis Churn:  40405\n"
     ]
    }
   ],
   "source": [
    "def get_churn_data(init_data,end_data):\n",
    "        \"\"\"dada una data de inicio y una final, se calcula cuántos clientes renuevan o no pólizas una vez se vence la actual\n",
    "           [NOTA] se asume que el churn corresponde a la no renovación en el mes de vencimiento de la póliza actual\n",
    "        \"\"\"\n",
    "        \n",
    "        churn_data=init_data[['Asegurado__c','CodigoTipoAsegurado__c','PuntoVenta__c','Producto__c','tipo_ramo_name','tipo_prod_desc','ClaseVehiculo__c','MarcaVehiculo__c','MdeloVehiculo__c','TipoVehiculo__c','NumeroPoliza__c','FechaInicioVigencia__ctrim','vigencia_dias','RamoComercial__c','Tipo_poliza_c']].drop_duplicates().\\\n",
    "                merge(end_data[['Asegurado__c','CodigoTipoAsegurado__c','FechaInicioVigencia__ctrim','vigencia_dias','RamoComercial__c','tipo_prod_desc']].drop_duplicates().\\\n",
    "                rename(columns={'vigencia_dias':'end_vig','FechaInicioVigencia__ctrim':'FechaInicio_ctrl'}),how=\"left\",on=['Asegurado__c','CodigoTipoAsegurado__c','RamoComercial__c','tipo_prod_desc'])\n",
    "        churn_data.loc[:,'churn']=churn_data.end_vig.isnull()\n",
    "        print(\"Total Registros: \",churn_data.shape[0])\n",
    "        return churn_data\n",
    "\n",
    "results=[]\n",
    "\n",
    "for ini,end in periodos.items():\n",
    "    print(f\"{ini} - {end}\")\n",
    "    emisiones_inicio,emisiones_end=data_prod_365.query('FechaInicioVigencia__ctrim==\"{}\"'.format(ini)),data_prod_365.query('FechaInicioVigencia__ctrim==\"{}\"'.format(end))\n",
    "    results.append(get_churn_data(emisiones_inicio,emisiones_end))\n",
    "\n",
    "churn_data=pd.concat(results).drop_duplicates()\n",
    "print(\"\\n\\t\\t Total Registros para análisis Churn: \",churn_data.shape[0])\n"
   ]
  },
  {
   "cell_type": "code",
   "execution_count": 58,
   "metadata": {},
   "outputs": [
    {
     "data": {
      "image/png": "[encoded data removed]",
      "text/plain": [
       "<Figure size 432x288 with 1 Axes>"
      ]
     },
     "metadata": {
      "needs_background": "light"
     },
     "output_type": "display_data"
    }
   ],
   "source": [
    "churn_data.churn.value_counts(normalize=True).plot(kind=\"bar\",title=\"Comportamiento de Churn en 2021-01 y 2021-02\");"
   ]
  },
  {
   "cell_type": "markdown",
   "metadata": {},
   "source": [
    "## Extraer Variables de Dimensiones Adicionales\n",
    "### Datos de persona natural"
   ]
  },
  {
   "cell_type": "code",
   "execution_count": 59,
   "metadata": {},
   "outputs": [],
   "source": [
    "#obtener nombre de ciudad usando datos del Dane\n",
    "ciudades=pd.read_excel(\"public_data\\Codigos Dane municipios.xlsx\",header=1,dtype={'CÓDIGO':int})\n",
    "persona_natural=data['personanatural'].merge(ciudades[['MUNICIPIO','CÓDIGO']].rename(columns={'CÓDIGO':'Ciudad__c','MUNICIPIO':'ciudad_name'}),how=\"left\",on=\"Ciudad__c\").copy()"
   ]
  },
  {
   "cell_type": "code",
   "execution_count": 60,
   "metadata": {},
   "outputs": [],
   "source": [
    "#seleccionar variables y remover duplicadas\n",
    "persona_natural=persona_natural[['CodigoAsegurado__c','Activos__c','AnnualRevenue','MontoAnual__c','OtrosIngresos__c','Profesion__pc','EgresosAnuales__c','EstadoCivil__pc','PersonBirthDate','Genero__pc','NumeroIdentificacion__c','ciudad_name']].drop_duplicates()"
   ]
  },
  {
   "cell_type": "code",
   "execution_count": 61,
   "metadata": {},
   "outputs": [],
   "source": [
    "#calcular edad\n",
    "from datetime import datetime\n",
    "persona_natural.loc[:,'PersonBirthDate']=pd.to_datetime(persona_natural.PersonBirthDate,errors=\"coerce\")\n",
    "persona_natural.loc[:,'edad']=persona_natural.PersonBirthDate.apply(lambda d: (pd.to_datetime(datetime.now())-d).days/365.0 if not pd.isnull(d) else np.nan)"
   ]
  },
  {
   "cell_type": "code",
   "execution_count": 62,
   "metadata": {},
   "outputs": [],
   "source": [
    "#ciudades con pocos registros se agrupan en una misma categoría\n",
    "ciudad_name_values=persona_natural.ciudad_name.value_counts(normalize=True).to_dict()\n",
    "persona_natural.loc[:,'ciudad_name']=persona_natural.ciudad_name.apply(lambda d: \"otras\" if ((d in ciudad_name_values.keys() and ciudad_name_values[d]<0.01) or pd.isnull(d)) else d)"
   ]
  },
  {
   "cell_type": "markdown",
   "metadata": {},
   "source": [
    "En el caso de personas naturales, existe información duplicada pero no se tiene una marca de la fecha de actualización de los registros, por tanto, se dejará un único registro por persona basado en la menor cantidad de valores nulos que se tenga. También se renombra la variable `CodigoAsegurado__c` para posteriores transformaciones de unión con otras fuentes de datos. "
   ]
  },
  {
   "cell_type": "code",
   "execution_count": 63,
   "metadata": {},
   "outputs": [
    {
     "name": "stdout",
     "output_type": "stream",
     "text": [
      "Total Registros:  1731334\n"
     ]
    }
   ],
   "source": [
    "persona_natural=persona_natural.rename(columns={'CodigoAsegurado__c':'Asegurado__c'}).drop(columns=['NumeroIdentificacion__c','PersonBirthDate']).drop_duplicates()\n",
    "persona_natural.loc[:,'n_null']=persona_natural.isnull().sum(axis=1)\n",
    "persona_natural.sort_values(by=[\"Asegurado__c\",\"n_null\"],ascending=True,inplace=True)\n",
    "persona_natural=persona_natural[~persona_natural.duplicated(subset=\"Asegurado__c\",keep='first')]\n",
    "print(\"Total Registros: \",persona_natural.shape[0])"
   ]
  },
  {
   "cell_type": "markdown",
   "metadata": {},
   "source": [
    "### Datos de Recaudo\n"
   ]
  },
  {
   "cell_type": "code",
   "execution_count": 64,
   "metadata": {},
   "outputs": [
    {
     "name": "stdout",
     "output_type": "stream",
     "text": [
      "Total Registros:  3395456\n"
     ]
    }
   ],
   "source": [
    "# Recaudo data\n",
    "recaudo=data['recaudo'][['CodigoAsegurado__c','RamoComercial__c','NumeroPoliza__c','Tipo_poliza_c','Producto__c','FechaProduccion__c','CodigoPlanPagos__c','EstadoPagos']].drop_duplicates()\n",
    "recaudo.loc[:,'Producto__c']=recaudo.Producto__c.apply(lambda d: try_convert(d))\n",
    "print(\"Total Registros: \",recaudo.shape[0])"
   ]
  },
  {
   "cell_type": "markdown",
   "metadata": {},
   "source": [
    "### Datos de Siniestro\n",
    "\n",
    "Para algunos calculos necesitaremos los valores en SMMLV del año de referencia, por tanto obtenemos el histórico de salarios de BANREP\n"
   ]
  },
  {
   "cell_type": "code",
   "execution_count": 65,
   "metadata": {},
   "outputs": [],
   "source": [
    "salarios_min=pd.read_excel(\"public_data\\salarios_minimos_brep.xlsx\",skiprows=5,skipfooter=12,dtype={'Año (aaaa)':int}).\\\n",
    "    rename(columns={\"Salario mínimo mensual (COP)\":'sal_mens_min','Año (aaaa)':'anio'})\n",
    "salarios_min=salarios_min[['anio','sal_mens_min']].set_index('anio').to_dict(orient=\"index\")"
   ]
  },
  {
   "cell_type": "code",
   "execution_count": 66,
   "metadata": {},
   "outputs": [],
   "source": [
    "##convertir columnas tipo fecha a timestamp\n",
    "\n",
    "date_cols=[i for i in data['siniestro'].columns.values if \"fecha\" in i.lower()]\n",
    "\n",
    "## crear una copia del dataframe para generar reproducibilidad\n",
    "data_siniestro=data['siniestro'].drop_duplicates().copy()\n",
    "\n",
    "\n",
    "for col in date_cols:\n",
    "    data_siniestro.loc[:,col]=col_to_dateutc(data_siniestro[col])\n",
    "    data_siniestro.loc[:,col+\"trim\"]=col_to_dateutc(data_siniestro[col],trim=True)"
   ]
  },
  {
   "cell_type": "code",
   "execution_count": 67,
   "metadata": {},
   "outputs": [],
   "source": [
    "#calcular valor pagado por siniestro en SMMLV para poder comparar sumarlos o compararlos en el tiempo\n",
    "data_siniestro_prev=data_siniestro.query(\"FechaOcurrenciaSiniestro__c<20210131\")\n",
    "data_siniestro_prev.loc[:,'ValorPagadoSiniestros__smmlv']=data_siniestro_prev.apply(lambda d: d['ValorPagadoSiniestros__c']/salarios_min[d['FechaOcurrenciaSiniestro__c'].year]['sal_mens_min'] if d['FechaOcurrenciaSiniestro__c'].year in salarios_min.keys() else salarios_min[2020],axis=1)"
   ]
  },
  {
   "cell_type": "code",
   "execution_count": 68,
   "metadata": {},
   "outputs": [],
   "source": [
    "#calcular años hasta el el 31 de enero de 2021 (fecha desde que inicia el análisis churn)\n",
    "data_siniestro_prev.loc[:,'tiempo_stro_hasta012021']=data_siniestro_prev.FechaOcurrenciaSiniestro__c.apply(lambda d: (pd.to_datetime(\"31-01-2021\")-d).days/365)"
   ]
  },
  {
   "cell_type": "code",
   "execution_count": 69,
   "metadata": {},
   "outputs": [
    {
     "data": {
      "text/html": [
       "<div>\n",
       "<style scoped>\n",
       "    .dataframe tbody tr th:only-of-type {\n",
       "        vertical-align: middle;\n",
       "    }\n",
       "\n",
       "    .dataframe tbody tr th {\n",
       "        vertical-align: top;\n",
       "    }\n",
       "\n",
       "    .dataframe thead th {\n",
       "        text-align: right;\n",
       "    }\n",
       "</style>\n",
       "<table border=\"1\" class=\"dataframe\">\n",
       "  <thead>\n",
       "    <tr style=\"text-align: right;\">\n",
       "      <th></th>\n",
       "      <th>CodigoAsegurado__c</th>\n",
       "      <th>total_siniestros</th>\n",
       "      <th>total_pagado_smmlv</th>\n",
       "      <th>anios_ultimo_siniestro</th>\n",
       "    </tr>\n",
       "  </thead>\n",
       "  <tbody>\n",
       "    <tr>\n",
       "      <th>0</th>\n",
       "      <td>14</td>\n",
       "      <td>1</td>\n",
       "      <td>0.000000</td>\n",
       "      <td>3.361644</td>\n",
       "    </tr>\n",
       "    <tr>\n",
       "      <th>1</th>\n",
       "      <td>18</td>\n",
       "      <td>6</td>\n",
       "      <td>143.300143</td>\n",
       "      <td>0.572603</td>\n",
       "    </tr>\n",
       "    <tr>\n",
       "      <th>2</th>\n",
       "      <td>137</td>\n",
       "      <td>11</td>\n",
       "      <td>283.279518</td>\n",
       "      <td>0.657534</td>\n",
       "    </tr>\n",
       "    <tr>\n",
       "      <th>3</th>\n",
       "      <td>147</td>\n",
       "      <td>31</td>\n",
       "      <td>98.379429</td>\n",
       "      <td>0.819178</td>\n",
       "    </tr>\n",
       "    <tr>\n",
       "      <th>4</th>\n",
       "      <td>151</td>\n",
       "      <td>1</td>\n",
       "      <td>0.000000</td>\n",
       "      <td>1.101370</td>\n",
       "    </tr>\n",
       "  </tbody>\n",
       "</table>\n",
       "</div>"
      ],
      "text/plain": [
       "   CodigoAsegurado__c  total_siniestros  total_pagado_smmlv  \\\n",
       "0                  14                 1            0.000000   \n",
       "1                  18                 6          143.300143   \n",
       "2                 137                11          283.279518   \n",
       "3                 147                31           98.379429   \n",
       "4                 151                 1            0.000000   \n",
       "\n",
       "   anios_ultimo_siniestro  \n",
       "0                3.361644  \n",
       "1                0.572603  \n",
       "2                0.657534  \n",
       "3                0.819178  \n",
       "4                1.101370  "
      ]
     },
     "execution_count": 69,
     "metadata": {},
     "output_type": "execute_result"
    }
   ],
   "source": [
    "#generar variables por CodigoAsegurado__c\n",
    "data_siniestro_prev_agg=data_siniestro_prev.groupby(['CodigoAsegurado__c']).agg({'IdentificacionSiniestro__c':lambda x: x.nunique(),\\\n",
    "                        'ValorPagadoSiniestros__smmlv':np.sum,'tiempo_stro_hasta012021':np.min}).reset_index().\\\n",
    "                        rename(columns={'IdentificacionSiniestro__c':'total_siniestros','ValorPagadoSiniestros__smmlv':'total_pagado_smmlv','tiempo_stro_hasta012021':'anios_ultimo_siniestro'})\n",
    "data_siniestro_prev_agg.head()"
   ]
  },
  {
   "cell_type": "markdown",
   "metadata": {},
   "source": [
    "## Data Producción\n",
    "\n",
    "En esta información reutilizaremos los pasos generados para obtener la variable objetivo.Sin embargo, gran cantidad de variables requeridas para el posterior análisis descriptivo,ya se encuentran integradas en el objeto `churn_data`."
   ]
  },
  {
   "cell_type": "code",
   "execution_count": 70,
   "metadata": {},
   "outputs": [],
   "source": [
    "#obtener generación de polizas previas al primer mes de análisis de churn \n",
    "data_prod_prev=data_prod.query(\"FechaInicioVigencia__c<20201231\")"
   ]
  },
  {
   "cell_type": "code",
   "execution_count": 71,
   "metadata": {},
   "outputs": [],
   "source": [
    "#total de productos previos al mes base de análisis de churn\n",
    "prod_prev=data_prod_prev.groupby([\"Asegurado__c\",\"CodigoTipoAsegurado__c\"]).agg({'Producto__c':lambda x: x.nunique()}).reset_index().rename(columns={'Producto__c':'n_prod_prev'})"
   ]
  },
  {
   "cell_type": "markdown",
   "metadata": {},
   "source": [
    "## Integrar variables\n",
    "\n",
    "Integración de todas las fuentes de datos procesadas previamente"
   ]
  },
  {
   "cell_type": "code",
   "execution_count": 72,
   "metadata": {},
   "outputs": [],
   "source": [
    "def integrate_data(data_base: pd.DataFrame):\n",
    "    \"\"\"integra data_base con toda la demás información disponible en las dimensiones consideradas\"\"\"\n",
    "\n",
    "    base_data=data_base.copy()\n",
    "    #produccion\n",
    "    base_data=base_data.merge(prod_prev,how=\"left\",on=[\"Asegurado__c\",\"CodigoTipoAsegurado__c\"])\n",
    "    #siniestros\n",
    "    base_data=base_data.merge(data_siniestro_prev_agg.rename(columns={'CodigoAsegurado__c':'Asegurado__c'}),how=\"left\",on=\"Asegurado__c\")\n",
    "    #personanatural\n",
    "    base_data=base_data.merge(persona_natural,how=\"left\",on=\"Asegurado__c\")\n",
    "    return base_data"
   ]
  },
  {
   "cell_type": "code",
   "execution_count": 73,
   "metadata": {},
   "outputs": [],
   "source": [
    "churn_data_out=integrate_data(churn_data)"
   ]
  },
  {
   "cell_type": "code",
   "execution_count": 202,
   "metadata": {},
   "outputs": [],
   "source": [
    "#avoid until validation\n",
    "#recaudo.rename(columns={'CodigoAsegurado__c':'Asegurado__c'}).sort_values(by=['Asegurado__c','Producto__c','RamoTecnico__c','Tipo_poliza_c','NumeroPoliza__c']).drop_duplicates()\n",
    "#churn_data.merge(recaudo.rename(columns={'CodigoAsegurado__c':'Asegurado__c'}).drop(columns=['EstadoPagos']).drop_duplicates(),how=\"left\",on=['Asegurado__c','Producto__c','RamoTecnico__c','Tipo_poliza_c','NumeroPoliza__c']).shape"
   ]
  },
  {
   "cell_type": "markdown",
   "metadata": {},
   "source": [
    "## Exportar churn data\n",
    "\n",
    "Dado que se hallaron los clientes y su comportamiento en el análisis de churn, exportamos la data para su posterior uso en el análisis exploratorio"
   ]
  },
  {
   "cell_type": "code",
   "execution_count": 75,
   "metadata": {},
   "outputs": [],
   "source": [
    "churn_data_out.drop(columns=['FechaInicio_ctrl','vigencia_dias','end_vig','n_null','Tipo_poliza_c','RamoComercial__c','Producto__c']).drop_duplicates().to_csv(\"churn_data.csv\",sep=\";\",index=False)"
   ]
  },
  {
   "cell_type": "markdown",
   "metadata": {},
   "source": [
    "## Data para validación Posterior\n",
    "\n",
    "Usaremos un set de datos de pólizas generadas en febrero de 2022 para un uso posterior del caso de negocio\n",
    "\n"
   ]
  },
  {
   "cell_type": "code",
   "execution_count": 76,
   "metadata": {},
   "outputs": [],
   "source": [
    "emisiones_final_feb=data_prod_365.query('FechaInicioVigencia__ctrim==\"02-2022\"')"
   ]
  },
  {
   "cell_type": "code",
   "execution_count": 81,
   "metadata": {},
   "outputs": [],
   "source": [
    "polizas_feb22=integrate_data(emisiones_final_feb[['Asegurado__c', 'CodigoTipoAsegurado__c', 'PuntoVenta__c',\n",
    "       'Producto__c', 'tipo_ramo_name', 'tipo_prod_desc', 'ClaseVehiculo__c',\n",
    "       'MarcaVehiculo__c', 'MdeloVehiculo__c', 'TipoVehiculo__c',\n",
    "       'NumeroPoliza__c', 'FechaInicioVigencia__ctrim', 'vigencia_dias',\n",
    "       'RamoComercial__c', 'tipo_prod_desc']])"
   ]
  },
  {
   "cell_type": "code",
   "execution_count": 83,
   "metadata": {},
   "outputs": [],
   "source": [
    "polizas_feb22.drop(columns=['vigencia_dias','n_null','RamoComercial__c','Producto__c']).drop_duplicates().to_csv(\"polizas_feb22.csv\",sep=\";\",index=False)"
   ]
  }
 ],
 "metadata": {
  "interpreter": {
   "hash": "4402f69885ff11948fe85d7f8668a89a5910c01defcebfa1c11d69defb9c6ee5"
  },
  "kernelspec": {
   "display_name": "Python 3.9.7 ('base')",
   "language": "python",
   "name": "python3"
  },
  "language_info": {
   "codemirror_mode": {
    "name": "ipython",
    "version": 3
   },
   "file_extension": ".py",
   "mimetype": "text/x-python",
   "name": "python",
   "nbconvert_exporter": "python",
   "pygments_lexer": "ipython3",
   "version": "3.9.7"
  },
  "orig_nbformat": 4
 },
 "nbformat": 4,
 "nbformat_minor": 2
}
