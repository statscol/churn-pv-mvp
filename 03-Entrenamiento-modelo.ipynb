{
 "cells": [
  {
   "cell_type": "markdown",
   "metadata": {},
   "source": [
    "## 03- Entrenamiento del Modelo\n",
    "\n",
    "En este notebook realizaremos los procedimientos necesarios para entrenar el modelo que permita establecer la probabilidad de que un cliente no renueve su producto con la compañía, basado en las diferentes dimensiones de información que se tengan del mismo al momento de emitir la póliza y que hemos explorado en los notebooks anteriores. Para ello usaremos las ventajas de la librería `scikit-learn`."
   ]
  },
  {
   "cell_type": "code",
   "execution_count": 1,
   "metadata": {},
   "outputs": [],
   "source": [
    "from model_parameters import *\n",
    "import pandas as pd\n",
    "import numpy as np\n",
    "\n",
    "data=pd.read_csv(\"data_modelacion.csv\",sep=\";\",dtype={'Asegurado__c':str,'NumeroPoliza__c':str,'CodigoTipoAsegurado__c':str,'churn':int,'ClaseVehiculo__c':str,'TipoVehiculo__c':str,'PuntoVenta__c':str,'MarcaVehiculo__c':str})"
   ]
  },
  {
   "cell_type": "markdown",
   "metadata": {},
   "source": [
    "## Generar Particiones de Datos\n",
    "\n",
    "Se debe generar una partición de la data para test(10%), el restante se usará para entrenamiento y validación."
   ]
  },
  {
   "cell_type": "code",
   "execution_count": 2,
   "metadata": {},
   "outputs": [],
   "source": [
    "#Definir esquema para valores faltantes\n",
    "num_cols=[i for i in data.columns.values.tolist() if data[i].dtype!=\"O\" and i not in ['churn','Profesion__pc','Asegurado__c','CodigoTipoAsegurado__c','PuntoVenta__c','RamoTecnico__c','Tipo_poliza_c']]\n",
    "str_cols=[i for i in data.columns.values.tolist() if data[i].dtype not in [\"int32\",\"float\",\"int64\"] and i not in ['churn','NumeroPoliza__c','Producto__c','Asegurado__c','CodigoTipoAsegurado__c','PuntoVenta__c','RamoTecnico__c','Tipo_poliza_c']]\n",
    "train,test=train_test_split(data, test_size=0.10,random_state=123)"
   ]
  },
  {
   "cell_type": "markdown",
   "metadata": {},
   "source": [
    "## Modelos a Evaluar\n",
    "\n",
    "Se procede a evaluar dos tipos de modelos de tipo boosting (XGboost,LightGBM), los cuales son ampliamente usados en el modelamiento predictivo. A su vez, se prueba un modelo sencillo como la regresión logística, para comparar el desempeño frente a modelos de mayor complejidad. El objetivo general de esta comparación es establecer qué tipo de modelo puede encontrar los aspectos más relevantes para establecer cuándo un cliente tiene mayor propensión a renovar su producto con la compañía."
   ]
  },
  {
   "cell_type": "code",
   "execution_count": 3,
   "metadata": {},
   "outputs": [],
   "source": [
    "from sklearn import set_config\n",
    "set_config(display='diagram')"
   ]
  },
  {
   "cell_type": "code",
   "execution_count": 4,
   "metadata": {},
   "outputs": [],
   "source": [
    "X_train,Y_train=train.drop(columns=[\"churn\",\"Asegurado__c\"]),train['churn'].values"
   ]
  },
  {
   "cell_type": "code",
   "execution_count": 5,
   "metadata": {},
   "outputs": [],
   "source": [
    "## Pasos de imputación y estandarización\n",
    "num_transformer = Pipeline(\n",
    "    steps=[(\"imputer\", SimpleImputer(strategy=\"constant\",fill_value=0)), (\"scaler\", StandardScaler())]\n",
    ")\n",
    "\n",
    "def get_classifier_model(model_name:str,k_cv:int=5,scoring=\"f1\") -> GridSearchCV:\n",
    "    \"\"\"retorna un objeto GridSearchCV para entrenar con @param model_name y k_cv-fold Cross Validation\n",
    "    para clasificación binaria, la métrica de scoring de los modelos está dada por @param scoring\n",
    "    \"\"\"\n",
    "    cat_transformer = OneHotEncoder(handle_unknown=\"error\")\n",
    "    preprocessor = ColumnTransformer(\n",
    "        transformers=[\n",
    "            (\"num\", num_transformer, num_cols),\n",
    "            (\"cat\", cat_transformer, str_cols),\n",
    "        ],sparse_threshold=0\n",
    "    )\n",
    "\n",
    "    model=MODEL_LIST[model_name]\n",
    "    pipe=Pipeline([\n",
    "        ('cleaner',preprocessor),\n",
    "        ('pca',PCA()),\n",
    "        ('model',model)\n",
    "\n",
    "    ], verbose=True)\n",
    "\n",
    "    param_grid=MODEL_PARAMS[model_name]['param_grid']\n",
    "\n",
    "    grid=GridSearchCV(pipe,param_grid,cv=k_cv,refit=True,scoring=scoring,verbose=True,n_jobs=-1)\n",
    "    return grid\n",
    "\n",
    "xgb=get_classifier_model(\"xgboost\")\n",
    "logistic=get_classifier_model(\"logistic_regression\")\n",
    "lightgbm=get_classifier_model(\"lightgbm\")"
   ]
  },
  {
   "cell_type": "code",
   "execution_count": 6,
   "metadata": {},
   "outputs": [
    {
     "name": "stdout",
     "output_type": "stream",
     "text": [
      "Fitting 5 folds for each of 12 candidates, totalling 60 fits\n",
      "[Pipeline] ........... (step 1 of 3) Processing cleaner, total=   0.1s\n",
      "[Pipeline] ............... (step 2 of 3) Processing pca, total=   0.1s\n",
      "[Pipeline] ............. (step 3 of 3) Processing model, total=   5.5s\n"
     ]
    },
    {
     "data": {
      "text/html": [
       "<style>#sk-e051c54b-4b4a-4d22-8631-d40fa72b90f9 {color: black;background-color: white;}#sk-e051c54b-4b4a-4d22-8631-d40fa72b90f9 pre{padding: 0;}#sk-e051c54b-4b4a-4d22-8631-d40fa72b90f9 div.sk-toggleable {background-color: white;}#sk-e051c54b-4b4a-4d22-8631-d40fa72b90f9 label.sk-toggleable__label {cursor: pointer;display: block;width: 100%;margin-bottom: 0;padding: 0.3em;box-sizing: border-box;text-align: center;}#sk-e051c54b-4b4a-4d22-8631-d40fa72b90f9 label.sk-toggleable__label-arrow:before {content: \"▸\";float: left;margin-right: 0.25em;color: #696969;}#sk-e051c54b-4b4a-4d22-8631-d40fa72b90f9 label.sk-toggleable__label-arrow:hover:before {color: black;}#sk-e051c54b-4b4a-4d22-8631-d40fa72b90f9 div.sk-estimator:hover label.sk-toggleable__label-arrow:before {color: black;}#sk-e051c54b-4b4a-4d22-8631-d40fa72b90f9 div.sk-toggleable__content {max-height: 0;max-width: 0;overflow: hidden;text-align: left;background-color: #f0f8ff;}#sk-e051c54b-4b4a-4d22-8631-d40fa72b90f9 div.sk-toggleable__content pre {margin: 0.2em;color: black;border-radius: 0.25em;background-color: #f0f8ff;}#sk-e051c54b-4b4a-4d22-8631-d40fa72b90f9 input.sk-toggleable__control:checked~div.sk-toggleable__content {max-height: 200px;max-width: 100%;overflow: auto;}#sk-e051c54b-4b4a-4d22-8631-d40fa72b90f9 input.sk-toggleable__control:checked~label.sk-toggleable__label-arrow:before {content: \"▾\";}#sk-e051c54b-4b4a-4d22-8631-d40fa72b90f9 div.sk-estimator input.sk-toggleable__control:checked~label.sk-toggleable__label {background-color: #d4ebff;}#sk-e051c54b-4b4a-4d22-8631-d40fa72b90f9 div.sk-label input.sk-toggleable__control:checked~label.sk-toggleable__label {background-color: #d4ebff;}#sk-e051c54b-4b4a-4d22-8631-d40fa72b90f9 input.sk-hidden--visually {border: 0;clip: rect(1px 1px 1px 1px);clip: rect(1px, 1px, 1px, 1px);height: 1px;margin: -1px;overflow: hidden;padding: 0;position: absolute;width: 1px;}#sk-e051c54b-4b4a-4d22-8631-d40fa72b90f9 div.sk-estimator {font-family: monospace;background-color: #f0f8ff;border: 1px dotted black;border-radius: 0.25em;box-sizing: border-box;margin-bottom: 0.5em;}#sk-e051c54b-4b4a-4d22-8631-d40fa72b90f9 div.sk-estimator:hover {background-color: #d4ebff;}#sk-e051c54b-4b4a-4d22-8631-d40fa72b90f9 div.sk-parallel-item::after {content: \"\";width: 100%;border-bottom: 1px solid gray;flex-grow: 1;}#sk-e051c54b-4b4a-4d22-8631-d40fa72b90f9 div.sk-label:hover label.sk-toggleable__label {background-color: #d4ebff;}#sk-e051c54b-4b4a-4d22-8631-d40fa72b90f9 div.sk-serial::before {content: \"\";position: absolute;border-left: 1px solid gray;box-sizing: border-box;top: 2em;bottom: 0;left: 50%;}#sk-e051c54b-4b4a-4d22-8631-d40fa72b90f9 div.sk-serial {display: flex;flex-direction: column;align-items: center;background-color: white;padding-right: 0.2em;padding-left: 0.2em;}#sk-e051c54b-4b4a-4d22-8631-d40fa72b90f9 div.sk-item {z-index: 1;}#sk-e051c54b-4b4a-4d22-8631-d40fa72b90f9 div.sk-parallel {display: flex;align-items: stretch;justify-content: center;background-color: white;}#sk-e051c54b-4b4a-4d22-8631-d40fa72b90f9 div.sk-parallel::before {content: \"\";position: absolute;border-left: 1px solid gray;box-sizing: border-box;top: 2em;bottom: 0;left: 50%;}#sk-e051c54b-4b4a-4d22-8631-d40fa72b90f9 div.sk-parallel-item {display: flex;flex-direction: column;position: relative;background-color: white;}#sk-e051c54b-4b4a-4d22-8631-d40fa72b90f9 div.sk-parallel-item:first-child::after {align-self: flex-end;width: 50%;}#sk-e051c54b-4b4a-4d22-8631-d40fa72b90f9 div.sk-parallel-item:last-child::after {align-self: flex-start;width: 50%;}#sk-e051c54b-4b4a-4d22-8631-d40fa72b90f9 div.sk-parallel-item:only-child::after {width: 0;}#sk-e051c54b-4b4a-4d22-8631-d40fa72b90f9 div.sk-dashed-wrapped {border: 1px dashed gray;margin: 0 0.4em 0.5em 0.4em;box-sizing: border-box;padding-bottom: 0.4em;background-color: white;position: relative;}#sk-e051c54b-4b4a-4d22-8631-d40fa72b90f9 div.sk-label label {font-family: monospace;font-weight: bold;background-color: white;display: inline-block;line-height: 1.2em;}#sk-e051c54b-4b4a-4d22-8631-d40fa72b90f9 div.sk-label-container {position: relative;z-index: 2;text-align: center;}#sk-e051c54b-4b4a-4d22-8631-d40fa72b90f9 div.sk-container {/* jupyter's `normalize.less` sets `[hidden] { display: none; }` but bootstrap.min.css set `[hidden] { display: none !important; }` so we also need the `!important` here to be able to override the default hidden behavior on the sphinx rendered scikit-learn.org. See: https://github.com/scikit-learn/scikit-learn/issues/21755 */display: inline-block !important;position: relative;}#sk-e051c54b-4b4a-4d22-8631-d40fa72b90f9 div.sk-text-repr-fallback {display: none;}</style><div id=\"sk-e051c54b-4b4a-4d22-8631-d40fa72b90f9\" class=\"sk-top-container\"><div class=\"sk-text-repr-fallback\"><pre>GridSearchCV(cv=5,\n",
       "             estimator=Pipeline(steps=[(&#x27;cleaner&#x27;,\n",
       "                                        ColumnTransformer(sparse_threshold=0,\n",
       "                                                          transformers=[(&#x27;num&#x27;,\n",
       "                                                                         Pipeline(steps=[(&#x27;imputer&#x27;,\n",
       "                                                                                          SimpleImputer(fill_value=0,\n",
       "                                                                                                        strategy=&#x27;constant&#x27;)),\n",
       "                                                                                         (&#x27;scaler&#x27;,\n",
       "                                                                                          StandardScaler())]),\n",
       "                                                                         [&#x27;n_prod_prev&#x27;,\n",
       "                                                                          &#x27;total_siniestros&#x27;,\n",
       "                                                                          &#x27;total_pagado_smmlv&#x27;,\n",
       "                                                                          &#x27;anios_ultimo_siniestro&#x27;,\n",
       "                                                                          &#x27;Activos__c&#x27;,\n",
       "                                                                          &#x27;AnnualRevenue&#x27;,\n",
       "                                                                          &#x27;MontoAnual__c&#x27;,\n",
       "                                                                          &#x27;Otros...\n",
       "                                                                          &#x27;ClaseVehiculo__c&#x27;,\n",
       "                                                                          &#x27;TipoVehiculo__c&#x27;,\n",
       "                                                                          &#x27;EstadoCivil__pc&#x27;,\n",
       "                                                                          &#x27;Genero__pc&#x27;])])),\n",
       "                                       (&#x27;pca&#x27;, PCA()),\n",
       "                                       (&#x27;model&#x27;, GradientBoostingClassifier())],\n",
       "                                verbose=True),\n",
       "             n_jobs=-1,\n",
       "             param_grid={&#x27;model__learning_rate&#x27;: [0.001],\n",
       "                         &#x27;model__max_depth&#x27;: [5, 10, 20],\n",
       "                         &#x27;model__min_samples_split&#x27;: [2],\n",
       "                         &#x27;model__n_estimators&#x27;: [100],\n",
       "                         &#x27;model__subsample&#x27;: [0.9, 1],\n",
       "                         &#x27;pca__n_components&#x27;: [10, 20]},\n",
       "             scoring=&#x27;f1&#x27;, verbose=True)</pre><b>Please rerun this cell to show the HTML repr or trust the notebook.</b></div><div class=\"sk-container\" hidden><div class=\"sk-item sk-dashed-wrapped\"><div class=\"sk-label-container\"><div class=\"sk-label sk-toggleable\"><input class=\"sk-toggleable__control sk-hidden--visually\" id=\"c5f35177-8d02-4e1c-8fdc-dfec60defa3f\" type=\"checkbox\" ><label for=\"c5f35177-8d02-4e1c-8fdc-dfec60defa3f\" class=\"sk-toggleable__label sk-toggleable__label-arrow\">GridSearchCV</label><div class=\"sk-toggleable__content\"><pre>GridSearchCV(cv=5,\n",
       "             estimator=Pipeline(steps=[(&#x27;cleaner&#x27;,\n",
       "                                        ColumnTransformer(sparse_threshold=0,\n",
       "                                                          transformers=[(&#x27;num&#x27;,\n",
       "                                                                         Pipeline(steps=[(&#x27;imputer&#x27;,\n",
       "                                                                                          SimpleImputer(fill_value=0,\n",
       "                                                                                                        strategy=&#x27;constant&#x27;)),\n",
       "                                                                                         (&#x27;scaler&#x27;,\n",
       "                                                                                          StandardScaler())]),\n",
       "                                                                         [&#x27;n_prod_prev&#x27;,\n",
       "                                                                          &#x27;total_siniestros&#x27;,\n",
       "                                                                          &#x27;total_pagado_smmlv&#x27;,\n",
       "                                                                          &#x27;anios_ultimo_siniestro&#x27;,\n",
       "                                                                          &#x27;Activos__c&#x27;,\n",
       "                                                                          &#x27;AnnualRevenue&#x27;,\n",
       "                                                                          &#x27;MontoAnual__c&#x27;,\n",
       "                                                                          &#x27;Otros...\n",
       "                                                                          &#x27;ClaseVehiculo__c&#x27;,\n",
       "                                                                          &#x27;TipoVehiculo__c&#x27;,\n",
       "                                                                          &#x27;EstadoCivil__pc&#x27;,\n",
       "                                                                          &#x27;Genero__pc&#x27;])])),\n",
       "                                       (&#x27;pca&#x27;, PCA()),\n",
       "                                       (&#x27;model&#x27;, GradientBoostingClassifier())],\n",
       "                                verbose=True),\n",
       "             n_jobs=-1,\n",
       "             param_grid={&#x27;model__learning_rate&#x27;: [0.001],\n",
       "                         &#x27;model__max_depth&#x27;: [5, 10, 20],\n",
       "                         &#x27;model__min_samples_split&#x27;: [2],\n",
       "                         &#x27;model__n_estimators&#x27;: [100],\n",
       "                         &#x27;model__subsample&#x27;: [0.9, 1],\n",
       "                         &#x27;pca__n_components&#x27;: [10, 20]},\n",
       "             scoring=&#x27;f1&#x27;, verbose=True)</pre></div></div></div><div class=\"sk-parallel\"><div class=\"sk-parallel-item\"><div class=\"sk-item\"><div class=\"sk-serial\"><div class=\"sk-item\"><div class=\"sk-serial\"><div class=\"sk-item sk-dashed-wrapped\"><div class=\"sk-label-container\"><div class=\"sk-label sk-toggleable\"><input class=\"sk-toggleable__control sk-hidden--visually\" id=\"6170fba1-ce62-46e2-9472-d259a4969445\" type=\"checkbox\" ><label for=\"6170fba1-ce62-46e2-9472-d259a4969445\" class=\"sk-toggleable__label sk-toggleable__label-arrow\">cleaner: ColumnTransformer</label><div class=\"sk-toggleable__content\"><pre>ColumnTransformer(sparse_threshold=0,\n",
       "                  transformers=[(&#x27;num&#x27;,\n",
       "                                 Pipeline(steps=[(&#x27;imputer&#x27;,\n",
       "                                                  SimpleImputer(fill_value=0,\n",
       "                                                                strategy=&#x27;constant&#x27;)),\n",
       "                                                 (&#x27;scaler&#x27;, StandardScaler())]),\n",
       "                                 [&#x27;n_prod_prev&#x27;, &#x27;total_siniestros&#x27;,\n",
       "                                  &#x27;total_pagado_smmlv&#x27;,\n",
       "                                  &#x27;anios_ultimo_siniestro&#x27;, &#x27;Activos__c&#x27;,\n",
       "                                  &#x27;AnnualRevenue&#x27;, &#x27;MontoAnual__c&#x27;,\n",
       "                                  &#x27;OtrosIngresos__c&#x27;, &#x27;EgresosAnuales__c&#x27;,\n",
       "                                  &#x27;edad&#x27;]),\n",
       "                                (&#x27;cat&#x27;, OneHotEncoder(),\n",
       "                                 [&#x27;tipo_poliza_name&#x27;, &#x27;tipo_prod_desc&#x27;,\n",
       "                                  &#x27;ClaseVehiculo__c&#x27;, &#x27;TipoVehiculo__c&#x27;,\n",
       "                                  &#x27;EstadoCivil__pc&#x27;, &#x27;Genero__pc&#x27;])])</pre></div></div></div><div class=\"sk-parallel\"><div class=\"sk-parallel-item\"><div class=\"sk-item\"><div class=\"sk-label-container\"><div class=\"sk-label sk-toggleable\"><input class=\"sk-toggleable__control sk-hidden--visually\" id=\"ac26ea51-302d-4ef9-91f1-8ab73abefd84\" type=\"checkbox\" ><label for=\"ac26ea51-302d-4ef9-91f1-8ab73abefd84\" class=\"sk-toggleable__label sk-toggleable__label-arrow\">num</label><div class=\"sk-toggleable__content\"><pre>[&#x27;n_prod_prev&#x27;, &#x27;total_siniestros&#x27;, &#x27;total_pagado_smmlv&#x27;, &#x27;anios_ultimo_siniestro&#x27;, &#x27;Activos__c&#x27;, &#x27;AnnualRevenue&#x27;, &#x27;MontoAnual__c&#x27;, &#x27;OtrosIngresos__c&#x27;, &#x27;EgresosAnuales__c&#x27;, &#x27;edad&#x27;]</pre></div></div></div><div class=\"sk-serial\"><div class=\"sk-item\"><div class=\"sk-serial\"><div class=\"sk-item\"><div class=\"sk-estimator sk-toggleable\"><input class=\"sk-toggleable__control sk-hidden--visually\" id=\"8f54a0c5-8eaa-44ee-83fa-7b3baeee7219\" type=\"checkbox\" ><label for=\"8f54a0c5-8eaa-44ee-83fa-7b3baeee7219\" class=\"sk-toggleable__label sk-toggleable__label-arrow\">SimpleImputer</label><div class=\"sk-toggleable__content\"><pre>SimpleImputer(fill_value=0, strategy=&#x27;constant&#x27;)</pre></div></div></div><div class=\"sk-item\"><div class=\"sk-estimator sk-toggleable\"><input class=\"sk-toggleable__control sk-hidden--visually\" id=\"272c66d2-dd3c-4664-86d1-3b75564d9752\" type=\"checkbox\" ><label for=\"272c66d2-dd3c-4664-86d1-3b75564d9752\" class=\"sk-toggleable__label sk-toggleable__label-arrow\">StandardScaler</label><div class=\"sk-toggleable__content\"><pre>StandardScaler()</pre></div></div></div></div></div></div></div></div><div class=\"sk-parallel-item\"><div class=\"sk-item\"><div class=\"sk-label-container\"><div class=\"sk-label sk-toggleable\"><input class=\"sk-toggleable__control sk-hidden--visually\" id=\"4680caf8-3803-4202-8af0-8bf42203112c\" type=\"checkbox\" ><label for=\"4680caf8-3803-4202-8af0-8bf42203112c\" class=\"sk-toggleable__label sk-toggleable__label-arrow\">cat</label><div class=\"sk-toggleable__content\"><pre>[&#x27;tipo_poliza_name&#x27;, &#x27;tipo_prod_desc&#x27;, &#x27;ClaseVehiculo__c&#x27;, &#x27;TipoVehiculo__c&#x27;, &#x27;EstadoCivil__pc&#x27;, &#x27;Genero__pc&#x27;]</pre></div></div></div><div class=\"sk-serial\"><div class=\"sk-item\"><div class=\"sk-estimator sk-toggleable\"><input class=\"sk-toggleable__control sk-hidden--visually\" id=\"94ff86b7-647d-4f9e-881a-8aec2b3c3a55\" type=\"checkbox\" ><label for=\"94ff86b7-647d-4f9e-881a-8aec2b3c3a55\" class=\"sk-toggleable__label sk-toggleable__label-arrow\">OneHotEncoder</label><div class=\"sk-toggleable__content\"><pre>OneHotEncoder()</pre></div></div></div></div></div></div></div></div><div class=\"sk-item\"><div class=\"sk-estimator sk-toggleable\"><input class=\"sk-toggleable__control sk-hidden--visually\" id=\"f76b1773-f986-4341-b654-a5ddfe637980\" type=\"checkbox\" ><label for=\"f76b1773-f986-4341-b654-a5ddfe637980\" class=\"sk-toggleable__label sk-toggleable__label-arrow\">PCA</label><div class=\"sk-toggleable__content\"><pre>PCA()</pre></div></div></div><div class=\"sk-item\"><div class=\"sk-estimator sk-toggleable\"><input class=\"sk-toggleable__control sk-hidden--visually\" id=\"30f0b312-016d-4da0-a98b-366d7eddbd2d\" type=\"checkbox\" ><label for=\"30f0b312-016d-4da0-a98b-366d7eddbd2d\" class=\"sk-toggleable__label sk-toggleable__label-arrow\">GradientBoostingClassifier</label><div class=\"sk-toggleable__content\"><pre>GradientBoostingClassifier()</pre></div></div></div></div></div></div></div></div></div></div></div></div>"
      ],
      "text/plain": [
       "GridSearchCV(cv=5,\n",
       "             estimator=Pipeline(steps=[('cleaner',\n",
       "                                        ColumnTransformer(sparse_threshold=0,\n",
       "                                                          transformers=[('num',\n",
       "                                                                         Pipeline(steps=[('imputer',\n",
       "                                                                                          SimpleImputer(fill_value=0,\n",
       "                                                                                                        strategy='constant')),\n",
       "                                                                                         ('scaler',\n",
       "                                                                                          StandardScaler())]),\n",
       "                                                                         ['n_prod_prev',\n",
       "                                                                          'total_siniestros',\n",
       "                                                                          'total_pagado_smmlv',\n",
       "                                                                          'anios_ultimo_siniestro',\n",
       "                                                                          'Activos__c',\n",
       "                                                                          'AnnualRevenue',\n",
       "                                                                          'MontoAnual__c',\n",
       "                                                                          'Otros...\n",
       "                                                                          'ClaseVehiculo__c',\n",
       "                                                                          'TipoVehiculo__c',\n",
       "                                                                          'EstadoCivil__pc',\n",
       "                                                                          'Genero__pc'])])),\n",
       "                                       ('pca', PCA()),\n",
       "                                       ('model', GradientBoostingClassifier())],\n",
       "                                verbose=True),\n",
       "             n_jobs=-1,\n",
       "             param_grid={'model__learning_rate': [0.001],\n",
       "                         'model__max_depth': [5, 10, 20],\n",
       "                         'model__min_samples_split': [2],\n",
       "                         'model__n_estimators': [100],\n",
       "                         'model__subsample': [0.9, 1],\n",
       "                         'pca__n_components': [10, 20]},\n",
       "             scoring='f1', verbose=True)"
      ]
     },
     "execution_count": 6,
     "metadata": {},
     "output_type": "execute_result"
    }
   ],
   "source": [
    "xgb.fit(X_train,Y_train.ravel())"
   ]
  },
  {
   "cell_type": "code",
   "execution_count": 7,
   "metadata": {},
   "outputs": [
    {
     "name": "stdout",
     "output_type": "stream",
     "text": [
      "Fitting 5 folds for each of 15 candidates, totalling 75 fits\n",
      "[Pipeline] ........... (step 1 of 3) Processing cleaner, total=   0.1s\n",
      "[Pipeline] ............... (step 2 of 3) Processing pca, total=   0.1s\n",
      "[Pipeline] ............. (step 3 of 3) Processing model, total=  37.2s\n"
     ]
    },
    {
     "data": {
      "text/html": [
       "<style>#sk-d58bd7f0-bd3e-4531-8702-cf4241d34c39 {color: black;background-color: white;}#sk-d58bd7f0-bd3e-4531-8702-cf4241d34c39 pre{padding: 0;}#sk-d58bd7f0-bd3e-4531-8702-cf4241d34c39 div.sk-toggleable {background-color: white;}#sk-d58bd7f0-bd3e-4531-8702-cf4241d34c39 label.sk-toggleable__label {cursor: pointer;display: block;width: 100%;margin-bottom: 0;padding: 0.3em;box-sizing: border-box;text-align: center;}#sk-d58bd7f0-bd3e-4531-8702-cf4241d34c39 label.sk-toggleable__label-arrow:before {content: \"▸\";float: left;margin-right: 0.25em;color: #696969;}#sk-d58bd7f0-bd3e-4531-8702-cf4241d34c39 label.sk-toggleable__label-arrow:hover:before {color: black;}#sk-d58bd7f0-bd3e-4531-8702-cf4241d34c39 div.sk-estimator:hover label.sk-toggleable__label-arrow:before {color: black;}#sk-d58bd7f0-bd3e-4531-8702-cf4241d34c39 div.sk-toggleable__content {max-height: 0;max-width: 0;overflow: hidden;text-align: left;background-color: #f0f8ff;}#sk-d58bd7f0-bd3e-4531-8702-cf4241d34c39 div.sk-toggleable__content pre {margin: 0.2em;color: black;border-radius: 0.25em;background-color: #f0f8ff;}#sk-d58bd7f0-bd3e-4531-8702-cf4241d34c39 input.sk-toggleable__control:checked~div.sk-toggleable__content {max-height: 200px;max-width: 100%;overflow: auto;}#sk-d58bd7f0-bd3e-4531-8702-cf4241d34c39 input.sk-toggleable__control:checked~label.sk-toggleable__label-arrow:before {content: \"▾\";}#sk-d58bd7f0-bd3e-4531-8702-cf4241d34c39 div.sk-estimator input.sk-toggleable__control:checked~label.sk-toggleable__label {background-color: #d4ebff;}#sk-d58bd7f0-bd3e-4531-8702-cf4241d34c39 div.sk-label input.sk-toggleable__control:checked~label.sk-toggleable__label {background-color: #d4ebff;}#sk-d58bd7f0-bd3e-4531-8702-cf4241d34c39 input.sk-hidden--visually {border: 0;clip: rect(1px 1px 1px 1px);clip: rect(1px, 1px, 1px, 1px);height: 1px;margin: -1px;overflow: hidden;padding: 0;position: absolute;width: 1px;}#sk-d58bd7f0-bd3e-4531-8702-cf4241d34c39 div.sk-estimator {font-family: monospace;background-color: #f0f8ff;border: 1px dotted black;border-radius: 0.25em;box-sizing: border-box;margin-bottom: 0.5em;}#sk-d58bd7f0-bd3e-4531-8702-cf4241d34c39 div.sk-estimator:hover {background-color: #d4ebff;}#sk-d58bd7f0-bd3e-4531-8702-cf4241d34c39 div.sk-parallel-item::after {content: \"\";width: 100%;border-bottom: 1px solid gray;flex-grow: 1;}#sk-d58bd7f0-bd3e-4531-8702-cf4241d34c39 div.sk-label:hover label.sk-toggleable__label {background-color: #d4ebff;}#sk-d58bd7f0-bd3e-4531-8702-cf4241d34c39 div.sk-serial::before {content: \"\";position: absolute;border-left: 1px solid gray;box-sizing: border-box;top: 2em;bottom: 0;left: 50%;}#sk-d58bd7f0-bd3e-4531-8702-cf4241d34c39 div.sk-serial {display: flex;flex-direction: column;align-items: center;background-color: white;padding-right: 0.2em;padding-left: 0.2em;}#sk-d58bd7f0-bd3e-4531-8702-cf4241d34c39 div.sk-item {z-index: 1;}#sk-d58bd7f0-bd3e-4531-8702-cf4241d34c39 div.sk-parallel {display: flex;align-items: stretch;justify-content: center;background-color: white;}#sk-d58bd7f0-bd3e-4531-8702-cf4241d34c39 div.sk-parallel::before {content: \"\";position: absolute;border-left: 1px solid gray;box-sizing: border-box;top: 2em;bottom: 0;left: 50%;}#sk-d58bd7f0-bd3e-4531-8702-cf4241d34c39 div.sk-parallel-item {display: flex;flex-direction: column;position: relative;background-color: white;}#sk-d58bd7f0-bd3e-4531-8702-cf4241d34c39 div.sk-parallel-item:first-child::after {align-self: flex-end;width: 50%;}#sk-d58bd7f0-bd3e-4531-8702-cf4241d34c39 div.sk-parallel-item:last-child::after {align-self: flex-start;width: 50%;}#sk-d58bd7f0-bd3e-4531-8702-cf4241d34c39 div.sk-parallel-item:only-child::after {width: 0;}#sk-d58bd7f0-bd3e-4531-8702-cf4241d34c39 div.sk-dashed-wrapped {border: 1px dashed gray;margin: 0 0.4em 0.5em 0.4em;box-sizing: border-box;padding-bottom: 0.4em;background-color: white;position: relative;}#sk-d58bd7f0-bd3e-4531-8702-cf4241d34c39 div.sk-label label {font-family: monospace;font-weight: bold;background-color: white;display: inline-block;line-height: 1.2em;}#sk-d58bd7f0-bd3e-4531-8702-cf4241d34c39 div.sk-label-container {position: relative;z-index: 2;text-align: center;}#sk-d58bd7f0-bd3e-4531-8702-cf4241d34c39 div.sk-container {/* jupyter's `normalize.less` sets `[hidden] { display: none; }` but bootstrap.min.css set `[hidden] { display: none !important; }` so we also need the `!important` here to be able to override the default hidden behavior on the sphinx rendered scikit-learn.org. See: https://github.com/scikit-learn/scikit-learn/issues/21755 */display: inline-block !important;position: relative;}#sk-d58bd7f0-bd3e-4531-8702-cf4241d34c39 div.sk-text-repr-fallback {display: none;}</style><div id=\"sk-d58bd7f0-bd3e-4531-8702-cf4241d34c39\" class=\"sk-top-container\"><div class=\"sk-text-repr-fallback\"><pre>GridSearchCV(cv=5,\n",
       "             estimator=Pipeline(steps=[(&#x27;cleaner&#x27;,\n",
       "                                        ColumnTransformer(sparse_threshold=0,\n",
       "                                                          transformers=[(&#x27;num&#x27;,\n",
       "                                                                         Pipeline(steps=[(&#x27;imputer&#x27;,\n",
       "                                                                                          SimpleImputer(fill_value=0,\n",
       "                                                                                                        strategy=&#x27;constant&#x27;)),\n",
       "                                                                                         (&#x27;scaler&#x27;,\n",
       "                                                                                          StandardScaler())]),\n",
       "                                                                         [&#x27;n_prod_prev&#x27;,\n",
       "                                                                          &#x27;total_siniestros&#x27;,\n",
       "                                                                          &#x27;total_pagado_smmlv&#x27;,\n",
       "                                                                          &#x27;anios_ultimo_siniestro&#x27;,\n",
       "                                                                          &#x27;Activos__c&#x27;,\n",
       "                                                                          &#x27;AnnualRevenue&#x27;,\n",
       "                                                                          &#x27;MontoAnual__c&#x27;,\n",
       "                                                                          &#x27;Otros...\n",
       "                                                                          &#x27;tipo_prod_desc&#x27;,\n",
       "                                                                          &#x27;ClaseVehiculo__c&#x27;,\n",
       "                                                                          &#x27;TipoVehiculo__c&#x27;,\n",
       "                                                                          &#x27;EstadoCivil__pc&#x27;,\n",
       "                                                                          &#x27;Genero__pc&#x27;])])),\n",
       "                                       (&#x27;pca&#x27;, PCA()),\n",
       "                                       (&#x27;model&#x27;,\n",
       "                                        LogisticRegression(class_weight=&#x27;balanced&#x27;,\n",
       "                                                           max_iter=4000,\n",
       "                                                           solver=&#x27;saga&#x27;))],\n",
       "                                verbose=True),\n",
       "             n_jobs=-1,\n",
       "             param_grid={&#x27;model__l1_ratio&#x27;: [0.1, 0.3, 0.5, 0.8, 1],\n",
       "                         &#x27;model__penalty&#x27;: [&#x27;elasticnet&#x27;],\n",
       "                         &#x27;pca__n_components&#x27;: [5, 10, 20]},\n",
       "             scoring=&#x27;f1&#x27;, verbose=True)</pre><b>Please rerun this cell to show the HTML repr or trust the notebook.</b></div><div class=\"sk-container\" hidden><div class=\"sk-item sk-dashed-wrapped\"><div class=\"sk-label-container\"><div class=\"sk-label sk-toggleable\"><input class=\"sk-toggleable__control sk-hidden--visually\" id=\"4f67facf-71c3-4ba4-8dab-2ba5339a35c1\" type=\"checkbox\" ><label for=\"4f67facf-71c3-4ba4-8dab-2ba5339a35c1\" class=\"sk-toggleable__label sk-toggleable__label-arrow\">GridSearchCV</label><div class=\"sk-toggleable__content\"><pre>GridSearchCV(cv=5,\n",
       "             estimator=Pipeline(steps=[(&#x27;cleaner&#x27;,\n",
       "                                        ColumnTransformer(sparse_threshold=0,\n",
       "                                                          transformers=[(&#x27;num&#x27;,\n",
       "                                                                         Pipeline(steps=[(&#x27;imputer&#x27;,\n",
       "                                                                                          SimpleImputer(fill_value=0,\n",
       "                                                                                                        strategy=&#x27;constant&#x27;)),\n",
       "                                                                                         (&#x27;scaler&#x27;,\n",
       "                                                                                          StandardScaler())]),\n",
       "                                                                         [&#x27;n_prod_prev&#x27;,\n",
       "                                                                          &#x27;total_siniestros&#x27;,\n",
       "                                                                          &#x27;total_pagado_smmlv&#x27;,\n",
       "                                                                          &#x27;anios_ultimo_siniestro&#x27;,\n",
       "                                                                          &#x27;Activos__c&#x27;,\n",
       "                                                                          &#x27;AnnualRevenue&#x27;,\n",
       "                                                                          &#x27;MontoAnual__c&#x27;,\n",
       "                                                                          &#x27;Otros...\n",
       "                                                                          &#x27;tipo_prod_desc&#x27;,\n",
       "                                                                          &#x27;ClaseVehiculo__c&#x27;,\n",
       "                                                                          &#x27;TipoVehiculo__c&#x27;,\n",
       "                                                                          &#x27;EstadoCivil__pc&#x27;,\n",
       "                                                                          &#x27;Genero__pc&#x27;])])),\n",
       "                                       (&#x27;pca&#x27;, PCA()),\n",
       "                                       (&#x27;model&#x27;,\n",
       "                                        LogisticRegression(class_weight=&#x27;balanced&#x27;,\n",
       "                                                           max_iter=4000,\n",
       "                                                           solver=&#x27;saga&#x27;))],\n",
       "                                verbose=True),\n",
       "             n_jobs=-1,\n",
       "             param_grid={&#x27;model__l1_ratio&#x27;: [0.1, 0.3, 0.5, 0.8, 1],\n",
       "                         &#x27;model__penalty&#x27;: [&#x27;elasticnet&#x27;],\n",
       "                         &#x27;pca__n_components&#x27;: [5, 10, 20]},\n",
       "             scoring=&#x27;f1&#x27;, verbose=True)</pre></div></div></div><div class=\"sk-parallel\"><div class=\"sk-parallel-item\"><div class=\"sk-item\"><div class=\"sk-serial\"><div class=\"sk-item\"><div class=\"sk-serial\"><div class=\"sk-item sk-dashed-wrapped\"><div class=\"sk-label-container\"><div class=\"sk-label sk-toggleable\"><input class=\"sk-toggleable__control sk-hidden--visually\" id=\"e1282474-5038-476b-acc0-dd796e7d6898\" type=\"checkbox\" ><label for=\"e1282474-5038-476b-acc0-dd796e7d6898\" class=\"sk-toggleable__label sk-toggleable__label-arrow\">cleaner: ColumnTransformer</label><div class=\"sk-toggleable__content\"><pre>ColumnTransformer(sparse_threshold=0,\n",
       "                  transformers=[(&#x27;num&#x27;,\n",
       "                                 Pipeline(steps=[(&#x27;imputer&#x27;,\n",
       "                                                  SimpleImputer(fill_value=0,\n",
       "                                                                strategy=&#x27;constant&#x27;)),\n",
       "                                                 (&#x27;scaler&#x27;, StandardScaler())]),\n",
       "                                 [&#x27;n_prod_prev&#x27;, &#x27;total_siniestros&#x27;,\n",
       "                                  &#x27;total_pagado_smmlv&#x27;,\n",
       "                                  &#x27;anios_ultimo_siniestro&#x27;, &#x27;Activos__c&#x27;,\n",
       "                                  &#x27;AnnualRevenue&#x27;, &#x27;MontoAnual__c&#x27;,\n",
       "                                  &#x27;OtrosIngresos__c&#x27;, &#x27;EgresosAnuales__c&#x27;,\n",
       "                                  &#x27;edad&#x27;]),\n",
       "                                (&#x27;cat&#x27;, OneHotEncoder(),\n",
       "                                 [&#x27;tipo_poliza_name&#x27;, &#x27;tipo_prod_desc&#x27;,\n",
       "                                  &#x27;ClaseVehiculo__c&#x27;, &#x27;TipoVehiculo__c&#x27;,\n",
       "                                  &#x27;EstadoCivil__pc&#x27;, &#x27;Genero__pc&#x27;])])</pre></div></div></div><div class=\"sk-parallel\"><div class=\"sk-parallel-item\"><div class=\"sk-item\"><div class=\"sk-label-container\"><div class=\"sk-label sk-toggleable\"><input class=\"sk-toggleable__control sk-hidden--visually\" id=\"433839cb-7353-4eb1-ade9-071a4a72e45f\" type=\"checkbox\" ><label for=\"433839cb-7353-4eb1-ade9-071a4a72e45f\" class=\"sk-toggleable__label sk-toggleable__label-arrow\">num</label><div class=\"sk-toggleable__content\"><pre>[&#x27;n_prod_prev&#x27;, &#x27;total_siniestros&#x27;, &#x27;total_pagado_smmlv&#x27;, &#x27;anios_ultimo_siniestro&#x27;, &#x27;Activos__c&#x27;, &#x27;AnnualRevenue&#x27;, &#x27;MontoAnual__c&#x27;, &#x27;OtrosIngresos__c&#x27;, &#x27;EgresosAnuales__c&#x27;, &#x27;edad&#x27;]</pre></div></div></div><div class=\"sk-serial\"><div class=\"sk-item\"><div class=\"sk-serial\"><div class=\"sk-item\"><div class=\"sk-estimator sk-toggleable\"><input class=\"sk-toggleable__control sk-hidden--visually\" id=\"2d337474-1664-49a0-8f53-e0ad999ea4e5\" type=\"checkbox\" ><label for=\"2d337474-1664-49a0-8f53-e0ad999ea4e5\" class=\"sk-toggleable__label sk-toggleable__label-arrow\">SimpleImputer</label><div class=\"sk-toggleable__content\"><pre>SimpleImputer(fill_value=0, strategy=&#x27;constant&#x27;)</pre></div></div></div><div class=\"sk-item\"><div class=\"sk-estimator sk-toggleable\"><input class=\"sk-toggleable__control sk-hidden--visually\" id=\"3bef0014-730b-4c7e-8847-4d391d22c0a1\" type=\"checkbox\" ><label for=\"3bef0014-730b-4c7e-8847-4d391d22c0a1\" class=\"sk-toggleable__label sk-toggleable__label-arrow\">StandardScaler</label><div class=\"sk-toggleable__content\"><pre>StandardScaler()</pre></div></div></div></div></div></div></div></div><div class=\"sk-parallel-item\"><div class=\"sk-item\"><div class=\"sk-label-container\"><div class=\"sk-label sk-toggleable\"><input class=\"sk-toggleable__control sk-hidden--visually\" id=\"cea6dab3-96a1-4687-b2f9-4c5ee631b2e3\" type=\"checkbox\" ><label for=\"cea6dab3-96a1-4687-b2f9-4c5ee631b2e3\" class=\"sk-toggleable__label sk-toggleable__label-arrow\">cat</label><div class=\"sk-toggleable__content\"><pre>[&#x27;tipo_poliza_name&#x27;, &#x27;tipo_prod_desc&#x27;, &#x27;ClaseVehiculo__c&#x27;, &#x27;TipoVehiculo__c&#x27;, &#x27;EstadoCivil__pc&#x27;, &#x27;Genero__pc&#x27;]</pre></div></div></div><div class=\"sk-serial\"><div class=\"sk-item\"><div class=\"sk-estimator sk-toggleable\"><input class=\"sk-toggleable__control sk-hidden--visually\" id=\"a85453c2-9d2c-4a5a-8290-abda596f0ee7\" type=\"checkbox\" ><label for=\"a85453c2-9d2c-4a5a-8290-abda596f0ee7\" class=\"sk-toggleable__label sk-toggleable__label-arrow\">OneHotEncoder</label><div class=\"sk-toggleable__content\"><pre>OneHotEncoder()</pre></div></div></div></div></div></div></div></div><div class=\"sk-item\"><div class=\"sk-estimator sk-toggleable\"><input class=\"sk-toggleable__control sk-hidden--visually\" id=\"f595ec3f-a70d-4da4-80f7-76006ff70e30\" type=\"checkbox\" ><label for=\"f595ec3f-a70d-4da4-80f7-76006ff70e30\" class=\"sk-toggleable__label sk-toggleable__label-arrow\">PCA</label><div class=\"sk-toggleable__content\"><pre>PCA()</pre></div></div></div><div class=\"sk-item\"><div class=\"sk-estimator sk-toggleable\"><input class=\"sk-toggleable__control sk-hidden--visually\" id=\"58c0b919-6f7c-4b8f-a5f2-95bfe57e1c0b\" type=\"checkbox\" ><label for=\"58c0b919-6f7c-4b8f-a5f2-95bfe57e1c0b\" class=\"sk-toggleable__label sk-toggleable__label-arrow\">LogisticRegression</label><div class=\"sk-toggleable__content\"><pre>LogisticRegression(class_weight=&#x27;balanced&#x27;, max_iter=4000, solver=&#x27;saga&#x27;)</pre></div></div></div></div></div></div></div></div></div></div></div></div>"
      ],
      "text/plain": [
       "GridSearchCV(cv=5,\n",
       "             estimator=Pipeline(steps=[('cleaner',\n",
       "                                        ColumnTransformer(sparse_threshold=0,\n",
       "                                                          transformers=[('num',\n",
       "                                                                         Pipeline(steps=[('imputer',\n",
       "                                                                                          SimpleImputer(fill_value=0,\n",
       "                                                                                                        strategy='constant')),\n",
       "                                                                                         ('scaler',\n",
       "                                                                                          StandardScaler())]),\n",
       "                                                                         ['n_prod_prev',\n",
       "                                                                          'total_siniestros',\n",
       "                                                                          'total_pagado_smmlv',\n",
       "                                                                          'anios_ultimo_siniestro',\n",
       "                                                                          'Activos__c',\n",
       "                                                                          'AnnualRevenue',\n",
       "                                                                          'MontoAnual__c',\n",
       "                                                                          'Otros...\n",
       "                                                                          'tipo_prod_desc',\n",
       "                                                                          'ClaseVehiculo__c',\n",
       "                                                                          'TipoVehiculo__c',\n",
       "                                                                          'EstadoCivil__pc',\n",
       "                                                                          'Genero__pc'])])),\n",
       "                                       ('pca', PCA()),\n",
       "                                       ('model',\n",
       "                                        LogisticRegression(class_weight='balanced',\n",
       "                                                           max_iter=4000,\n",
       "                                                           solver='saga'))],\n",
       "                                verbose=True),\n",
       "             n_jobs=-1,\n",
       "             param_grid={'model__l1_ratio': [0.1, 0.3, 0.5, 0.8, 1],\n",
       "                         'model__penalty': ['elasticnet'],\n",
       "                         'pca__n_components': [5, 10, 20]},\n",
       "             scoring='f1', verbose=True)"
      ]
     },
     "execution_count": 7,
     "metadata": {},
     "output_type": "execute_result"
    }
   ],
   "source": [
    "logistic.fit(X_train,Y_train.ravel())"
   ]
  },
  {
   "cell_type": "code",
   "execution_count": 15,
   "metadata": {},
   "outputs": [
    {
     "name": "stdout",
     "output_type": "stream",
     "text": [
      "Fitting 5 folds for each of 1 candidates, totalling 5 fits\n",
      "[Pipeline] ........... (step 1 of 2) Processing cleaner, total=   0.1s\n",
      "[Pipeline] ............. (step 2 of 2) Processing model, total=   0.2s\n",
      "[Pipeline] ........... (step 1 of 2) Processing cleaner, total=   0.1s\n",
      "[Pipeline] ............. (step 2 of 2) Processing model, total=   0.2s\n",
      "[Pipeline] ........... (step 1 of 2) Processing cleaner, total=   0.1s\n",
      "[Pipeline] ............. (step 2 of 2) Processing model, total=   0.2s\n",
      "[Pipeline] ........... (step 1 of 2) Processing cleaner, total=   0.1s\n",
      "[Pipeline] ............. (step 2 of 2) Processing model, total=   0.2s\n",
      "[Pipeline] ........... (step 1 of 2) Processing cleaner, total=   0.1s\n",
      "[Pipeline] ............. (step 2 of 2) Processing model, total=   0.2s\n",
      "[Pipeline] ........... (step 1 of 2) Processing cleaner, total=   0.1s\n",
      "[Pipeline] ............. (step 2 of 2) Processing model, total=   0.3s\n"
     ]
    },
    {
     "data": {
      "text/html": [
       "<style>#sk-1bea8421-8f50-402a-8eea-b9889e319d55 {color: black;background-color: white;}#sk-1bea8421-8f50-402a-8eea-b9889e319d55 pre{padding: 0;}#sk-1bea8421-8f50-402a-8eea-b9889e319d55 div.sk-toggleable {background-color: white;}#sk-1bea8421-8f50-402a-8eea-b9889e319d55 label.sk-toggleable__label {cursor: pointer;display: block;width: 100%;margin-bottom: 0;padding: 0.3em;box-sizing: border-box;text-align: center;}#sk-1bea8421-8f50-402a-8eea-b9889e319d55 label.sk-toggleable__label-arrow:before {content: \"▸\";float: left;margin-right: 0.25em;color: #696969;}#sk-1bea8421-8f50-402a-8eea-b9889e319d55 label.sk-toggleable__label-arrow:hover:before {color: black;}#sk-1bea8421-8f50-402a-8eea-b9889e319d55 div.sk-estimator:hover label.sk-toggleable__label-arrow:before {color: black;}#sk-1bea8421-8f50-402a-8eea-b9889e319d55 div.sk-toggleable__content {max-height: 0;max-width: 0;overflow: hidden;text-align: left;background-color: #f0f8ff;}#sk-1bea8421-8f50-402a-8eea-b9889e319d55 div.sk-toggleable__content pre {margin: 0.2em;color: black;border-radius: 0.25em;background-color: #f0f8ff;}#sk-1bea8421-8f50-402a-8eea-b9889e319d55 input.sk-toggleable__control:checked~div.sk-toggleable__content {max-height: 200px;max-width: 100%;overflow: auto;}#sk-1bea8421-8f50-402a-8eea-b9889e319d55 input.sk-toggleable__control:checked~label.sk-toggleable__label-arrow:before {content: \"▾\";}#sk-1bea8421-8f50-402a-8eea-b9889e319d55 div.sk-estimator input.sk-toggleable__control:checked~label.sk-toggleable__label {background-color: #d4ebff;}#sk-1bea8421-8f50-402a-8eea-b9889e319d55 div.sk-label input.sk-toggleable__control:checked~label.sk-toggleable__label {background-color: #d4ebff;}#sk-1bea8421-8f50-402a-8eea-b9889e319d55 input.sk-hidden--visually {border: 0;clip: rect(1px 1px 1px 1px);clip: rect(1px, 1px, 1px, 1px);height: 1px;margin: -1px;overflow: hidden;padding: 0;position: absolute;width: 1px;}#sk-1bea8421-8f50-402a-8eea-b9889e319d55 div.sk-estimator {font-family: monospace;background-color: #f0f8ff;border: 1px dotted black;border-radius: 0.25em;box-sizing: border-box;margin-bottom: 0.5em;}#sk-1bea8421-8f50-402a-8eea-b9889e319d55 div.sk-estimator:hover {background-color: #d4ebff;}#sk-1bea8421-8f50-402a-8eea-b9889e319d55 div.sk-parallel-item::after {content: \"\";width: 100%;border-bottom: 1px solid gray;flex-grow: 1;}#sk-1bea8421-8f50-402a-8eea-b9889e319d55 div.sk-label:hover label.sk-toggleable__label {background-color: #d4ebff;}#sk-1bea8421-8f50-402a-8eea-b9889e319d55 div.sk-serial::before {content: \"\";position: absolute;border-left: 1px solid gray;box-sizing: border-box;top: 2em;bottom: 0;left: 50%;}#sk-1bea8421-8f50-402a-8eea-b9889e319d55 div.sk-serial {display: flex;flex-direction: column;align-items: center;background-color: white;padding-right: 0.2em;padding-left: 0.2em;}#sk-1bea8421-8f50-402a-8eea-b9889e319d55 div.sk-item {z-index: 1;}#sk-1bea8421-8f50-402a-8eea-b9889e319d55 div.sk-parallel {display: flex;align-items: stretch;justify-content: center;background-color: white;}#sk-1bea8421-8f50-402a-8eea-b9889e319d55 div.sk-parallel::before {content: \"\";position: absolute;border-left: 1px solid gray;box-sizing: border-box;top: 2em;bottom: 0;left: 50%;}#sk-1bea8421-8f50-402a-8eea-b9889e319d55 div.sk-parallel-item {display: flex;flex-direction: column;position: relative;background-color: white;}#sk-1bea8421-8f50-402a-8eea-b9889e319d55 div.sk-parallel-item:first-child::after {align-self: flex-end;width: 50%;}#sk-1bea8421-8f50-402a-8eea-b9889e319d55 div.sk-parallel-item:last-child::after {align-self: flex-start;width: 50%;}#sk-1bea8421-8f50-402a-8eea-b9889e319d55 div.sk-parallel-item:only-child::after {width: 0;}#sk-1bea8421-8f50-402a-8eea-b9889e319d55 div.sk-dashed-wrapped {border: 1px dashed gray;margin: 0 0.4em 0.5em 0.4em;box-sizing: border-box;padding-bottom: 0.4em;background-color: white;position: relative;}#sk-1bea8421-8f50-402a-8eea-b9889e319d55 div.sk-label label {font-family: monospace;font-weight: bold;background-color: white;display: inline-block;line-height: 1.2em;}#sk-1bea8421-8f50-402a-8eea-b9889e319d55 div.sk-label-container {position: relative;z-index: 2;text-align: center;}#sk-1bea8421-8f50-402a-8eea-b9889e319d55 div.sk-container {/* jupyter's `normalize.less` sets `[hidden] { display: none; }` but bootstrap.min.css set `[hidden] { display: none !important; }` so we also need the `!important` here to be able to override the default hidden behavior on the sphinx rendered scikit-learn.org. See: https://github.com/scikit-learn/scikit-learn/issues/21755 */display: inline-block !important;position: relative;}#sk-1bea8421-8f50-402a-8eea-b9889e319d55 div.sk-text-repr-fallback {display: none;}</style><div id=\"sk-1bea8421-8f50-402a-8eea-b9889e319d55\" class=\"sk-top-container\"><div class=\"sk-text-repr-fallback\"><pre>GridSearchCV(cv=5,\n",
       "             estimator=Pipeline(steps=[(&#x27;cleaner&#x27;,\n",
       "                                        ColumnTransformer(transformers=[(&#x27;num&#x27;,\n",
       "                                                                         Pipeline(steps=[(&#x27;imputer&#x27;,\n",
       "                                                                                          SimpleImputer(fill_value=0,\n",
       "                                                                                                        strategy=&#x27;constant&#x27;)),\n",
       "                                                                                         (&#x27;scaler&#x27;,\n",
       "                                                                                          StandardScaler())]),\n",
       "                                                                         [&#x27;n_prod_prev&#x27;,\n",
       "                                                                          &#x27;total_siniestros&#x27;,\n",
       "                                                                          &#x27;total_pagado_smmlv&#x27;,\n",
       "                                                                          &#x27;anios_ultimo_siniestro&#x27;,\n",
       "                                                                          &#x27;Activos__c&#x27;,\n",
       "                                                                          &#x27;AnnualRevenue&#x27;,\n",
       "                                                                          &#x27;MontoAnual__c&#x27;,\n",
       "                                                                          &#x27;OtrosIngresos__c&#x27;,\n",
       "                                                                          &#x27;Egres...\n",
       "                                                                          &#x27;EstadoCivil__pc&#x27;,\n",
       "                                                                          &#x27;Genero__pc&#x27;])])),\n",
       "                                       (&#x27;model&#x27;, LGBMClassifier())],\n",
       "                                verbose=True),\n",
       "             param_grid={&#x27;model__colsample_bytree&#x27;: [0.8],\n",
       "                         &#x27;model__max_depth&#x27;: [15],\n",
       "                         &#x27;model__min_split_gain&#x27;: [0.3],\n",
       "                         &#x27;model__n_estimators&#x27;: [100],\n",
       "                         &#x27;model__num_leaves&#x27;: [50], &#x27;model__reg_alpha&#x27;: [1.1],\n",
       "                         &#x27;model__reg_lambda&#x27;: [1.1], &#x27;model__subsample&#x27;: [0.9],\n",
       "                         &#x27;model__subsample_freq&#x27;: [20]},\n",
       "             scoring=&#x27;roc_auc&#x27;, verbose=True)</pre><b>Please rerun this cell to show the HTML repr or trust the notebook.</b></div><div class=\"sk-container\" hidden><div class=\"sk-item sk-dashed-wrapped\"><div class=\"sk-label-container\"><div class=\"sk-label sk-toggleable\"><input class=\"sk-toggleable__control sk-hidden--visually\" id=\"4a0fd0f4-de30-4fe7-bfdd-5230ff62ad7f\" type=\"checkbox\" ><label for=\"4a0fd0f4-de30-4fe7-bfdd-5230ff62ad7f\" class=\"sk-toggleable__label sk-toggleable__label-arrow\">GridSearchCV</label><div class=\"sk-toggleable__content\"><pre>GridSearchCV(cv=5,\n",
       "             estimator=Pipeline(steps=[(&#x27;cleaner&#x27;,\n",
       "                                        ColumnTransformer(transformers=[(&#x27;num&#x27;,\n",
       "                                                                         Pipeline(steps=[(&#x27;imputer&#x27;,\n",
       "                                                                                          SimpleImputer(fill_value=0,\n",
       "                                                                                                        strategy=&#x27;constant&#x27;)),\n",
       "                                                                                         (&#x27;scaler&#x27;,\n",
       "                                                                                          StandardScaler())]),\n",
       "                                                                         [&#x27;n_prod_prev&#x27;,\n",
       "                                                                          &#x27;total_siniestros&#x27;,\n",
       "                                                                          &#x27;total_pagado_smmlv&#x27;,\n",
       "                                                                          &#x27;anios_ultimo_siniestro&#x27;,\n",
       "                                                                          &#x27;Activos__c&#x27;,\n",
       "                                                                          &#x27;AnnualRevenue&#x27;,\n",
       "                                                                          &#x27;MontoAnual__c&#x27;,\n",
       "                                                                          &#x27;OtrosIngresos__c&#x27;,\n",
       "                                                                          &#x27;Egres...\n",
       "                                                                          &#x27;EstadoCivil__pc&#x27;,\n",
       "                                                                          &#x27;Genero__pc&#x27;])])),\n",
       "                                       (&#x27;model&#x27;, LGBMClassifier())],\n",
       "                                verbose=True),\n",
       "             param_grid={&#x27;model__colsample_bytree&#x27;: [0.8],\n",
       "                         &#x27;model__max_depth&#x27;: [15],\n",
       "                         &#x27;model__min_split_gain&#x27;: [0.3],\n",
       "                         &#x27;model__n_estimators&#x27;: [100],\n",
       "                         &#x27;model__num_leaves&#x27;: [50], &#x27;model__reg_alpha&#x27;: [1.1],\n",
       "                         &#x27;model__reg_lambda&#x27;: [1.1], &#x27;model__subsample&#x27;: [0.9],\n",
       "                         &#x27;model__subsample_freq&#x27;: [20]},\n",
       "             scoring=&#x27;roc_auc&#x27;, verbose=True)</pre></div></div></div><div class=\"sk-parallel\"><div class=\"sk-parallel-item\"><div class=\"sk-item\"><div class=\"sk-serial\"><div class=\"sk-item\"><div class=\"sk-serial\"><div class=\"sk-item sk-dashed-wrapped\"><div class=\"sk-label-container\"><div class=\"sk-label sk-toggleable\"><input class=\"sk-toggleable__control sk-hidden--visually\" id=\"400df6c2-387a-4151-ba7b-6ec785cea95e\" type=\"checkbox\" ><label for=\"400df6c2-387a-4151-ba7b-6ec785cea95e\" class=\"sk-toggleable__label sk-toggleable__label-arrow\">cleaner: ColumnTransformer</label><div class=\"sk-toggleable__content\"><pre>ColumnTransformer(transformers=[(&#x27;num&#x27;,\n",
       "                                 Pipeline(steps=[(&#x27;imputer&#x27;,\n",
       "                                                  SimpleImputer(fill_value=0,\n",
       "                                                                strategy=&#x27;constant&#x27;)),\n",
       "                                                 (&#x27;scaler&#x27;, StandardScaler())]),\n",
       "                                 [&#x27;n_prod_prev&#x27;, &#x27;total_siniestros&#x27;,\n",
       "                                  &#x27;total_pagado_smmlv&#x27;,\n",
       "                                  &#x27;anios_ultimo_siniestro&#x27;, &#x27;Activos__c&#x27;,\n",
       "                                  &#x27;AnnualRevenue&#x27;, &#x27;MontoAnual__c&#x27;,\n",
       "                                  &#x27;OtrosIngresos__c&#x27;, &#x27;EgresosAnuales__c&#x27;,\n",
       "                                  &#x27;edad&#x27;]),\n",
       "                                (&#x27;cat&#x27;, OneHotEncoder(),\n",
       "                                 [&#x27;tipo_poliza_name&#x27;, &#x27;tipo_prod_desc&#x27;,\n",
       "                                  &#x27;ClaseVehiculo__c&#x27;, &#x27;TipoVehiculo__c&#x27;,\n",
       "                                  &#x27;EstadoCivil__pc&#x27;, &#x27;Genero__pc&#x27;])])</pre></div></div></div><div class=\"sk-parallel\"><div class=\"sk-parallel-item\"><div class=\"sk-item\"><div class=\"sk-label-container\"><div class=\"sk-label sk-toggleable\"><input class=\"sk-toggleable__control sk-hidden--visually\" id=\"6d3980e0-4dc3-4b20-a67c-06c570812436\" type=\"checkbox\" ><label for=\"6d3980e0-4dc3-4b20-a67c-06c570812436\" class=\"sk-toggleable__label sk-toggleable__label-arrow\">num</label><div class=\"sk-toggleable__content\"><pre>[&#x27;n_prod_prev&#x27;, &#x27;total_siniestros&#x27;, &#x27;total_pagado_smmlv&#x27;, &#x27;anios_ultimo_siniestro&#x27;, &#x27;Activos__c&#x27;, &#x27;AnnualRevenue&#x27;, &#x27;MontoAnual__c&#x27;, &#x27;OtrosIngresos__c&#x27;, &#x27;EgresosAnuales__c&#x27;, &#x27;edad&#x27;]</pre></div></div></div><div class=\"sk-serial\"><div class=\"sk-item\"><div class=\"sk-serial\"><div class=\"sk-item\"><div class=\"sk-estimator sk-toggleable\"><input class=\"sk-toggleable__control sk-hidden--visually\" id=\"7e13528e-69b0-4ab6-a029-eba6aa501f54\" type=\"checkbox\" ><label for=\"7e13528e-69b0-4ab6-a029-eba6aa501f54\" class=\"sk-toggleable__label sk-toggleable__label-arrow\">SimpleImputer</label><div class=\"sk-toggleable__content\"><pre>SimpleImputer(fill_value=0, strategy=&#x27;constant&#x27;)</pre></div></div></div><div class=\"sk-item\"><div class=\"sk-estimator sk-toggleable\"><input class=\"sk-toggleable__control sk-hidden--visually\" id=\"aadcf735-4fe4-49d4-b941-4127d4bf901c\" type=\"checkbox\" ><label for=\"aadcf735-4fe4-49d4-b941-4127d4bf901c\" class=\"sk-toggleable__label sk-toggleable__label-arrow\">StandardScaler</label><div class=\"sk-toggleable__content\"><pre>StandardScaler()</pre></div></div></div></div></div></div></div></div><div class=\"sk-parallel-item\"><div class=\"sk-item\"><div class=\"sk-label-container\"><div class=\"sk-label sk-toggleable\"><input class=\"sk-toggleable__control sk-hidden--visually\" id=\"1f646210-6202-4082-9550-1fef3923ae0c\" type=\"checkbox\" ><label for=\"1f646210-6202-4082-9550-1fef3923ae0c\" class=\"sk-toggleable__label sk-toggleable__label-arrow\">cat</label><div class=\"sk-toggleable__content\"><pre>[&#x27;tipo_poliza_name&#x27;, &#x27;tipo_prod_desc&#x27;, &#x27;ClaseVehiculo__c&#x27;, &#x27;TipoVehiculo__c&#x27;, &#x27;EstadoCivil__pc&#x27;, &#x27;Genero__pc&#x27;]</pre></div></div></div><div class=\"sk-serial\"><div class=\"sk-item\"><div class=\"sk-estimator sk-toggleable\"><input class=\"sk-toggleable__control sk-hidden--visually\" id=\"02eff2d8-e037-48e8-8b18-cbbabaa45f20\" type=\"checkbox\" ><label for=\"02eff2d8-e037-48e8-8b18-cbbabaa45f20\" class=\"sk-toggleable__label sk-toggleable__label-arrow\">OneHotEncoder</label><div class=\"sk-toggleable__content\"><pre>OneHotEncoder()</pre></div></div></div></div></div></div></div></div><div class=\"sk-item\"><div class=\"sk-estimator sk-toggleable\"><input class=\"sk-toggleable__control sk-hidden--visually\" id=\"06ea3a43-f65e-445e-9742-7b91274fd524\" type=\"checkbox\" ><label for=\"06ea3a43-f65e-445e-9742-7b91274fd524\" class=\"sk-toggleable__label sk-toggleable__label-arrow\">LGBMClassifier</label><div class=\"sk-toggleable__content\"><pre>LGBMClassifier()</pre></div></div></div></div></div></div></div></div></div></div></div></div>"
      ],
      "text/plain": [
       "GridSearchCV(cv=5,\n",
       "             estimator=Pipeline(steps=[('cleaner',\n",
       "                                        ColumnTransformer(transformers=[('num',\n",
       "                                                                         Pipeline(steps=[('imputer',\n",
       "                                                                                          SimpleImputer(fill_value=0,\n",
       "                                                                                                        strategy='constant')),\n",
       "                                                                                         ('scaler',\n",
       "                                                                                          StandardScaler())]),\n",
       "                                                                         ['n_prod_prev',\n",
       "                                                                          'total_siniestros',\n",
       "                                                                          'total_pagado_smmlv',\n",
       "                                                                          'anios_ultimo_siniestro',\n",
       "                                                                          'Activos__c',\n",
       "                                                                          'AnnualRevenue',\n",
       "                                                                          'MontoAnual__c',\n",
       "                                                                          'OtrosIngresos__c',\n",
       "                                                                          'Egres...\n",
       "                                                                          'EstadoCivil__pc',\n",
       "                                                                          'Genero__pc'])])),\n",
       "                                       ('model', LGBMClassifier())],\n",
       "                                verbose=True),\n",
       "             param_grid={'model__colsample_bytree': [0.8],\n",
       "                         'model__max_depth': [15],\n",
       "                         'model__min_split_gain': [0.3],\n",
       "                         'model__n_estimators': [100],\n",
       "                         'model__num_leaves': [50], 'model__reg_alpha': [1.1],\n",
       "                         'model__reg_lambda': [1.1], 'model__subsample': [0.9],\n",
       "                         'model__subsample_freq': [20]},\n",
       "             scoring='roc_auc', verbose=True)"
      ]
     },
     "execution_count": 15,
     "metadata": {},
     "output_type": "execute_result"
    }
   ],
   "source": [
    "lightgbm.fit(X_train,Y_train.ravel())"
   ]
  },
  {
   "cell_type": "markdown",
   "metadata": {},
   "source": [
    "## Verificar desempeño de los modelos\n",
    "\n",
    "A continuación se proponen métricas generales para evaluar el desempeño de los modelos entrenados para las bases de entrenamiento y test."
   ]
  },
  {
   "cell_type": "code",
   "execution_count": 15,
   "metadata": {},
   "outputs": [
    {
     "data": {
      "text/plain": [
       "array([[41271,  7371],\n",
       "       [ 3153,  6168]], dtype=int64)"
      ]
     },
     "execution_count": 15,
     "metadata": {},
     "output_type": "execute_result"
    }
   ],
   "source": [
    "confusion_matrix(Y_train.ravel(),logistic.predict(X_train))"
   ]
  },
  {
   "cell_type": "code",
   "execution_count": 8,
   "metadata": {},
   "outputs": [
    {
     "name": "stdout",
     "output_type": "stream",
     "text": [
      "===Métricas para XGboost===\n",
      "\n",
      "\n",
      "\t Training\n",
      "\n",
      " Accuracy:0.8392 \n",
      " Precision: 0.0000 \n",
      " Recall: 0.0000 \n",
      " Kappa: 0.0000 \n",
      " F1-Score: 0.0000 \n",
      "\n",
      "\t Test \n",
      "\n",
      " Accuracy:0.8404 \n",
      " Precision: 0.0000 \n",
      " Recall: 0.0000 \n",
      " Kappa: 0.0000 \n",
      " F1-Score: 0.0000 \n",
      "\n",
      "===Métricas para Regresión Logística===\n",
      "\n",
      "\n",
      "\t Training\n",
      "\n",
      " Accuracy:0.8184 \n",
      " Precision: 0.4556 \n",
      " Recall: 0.6617 \n",
      " Kappa: 0.4313 \n",
      " F1-Score: 0.5396 \n",
      "\n",
      "\t Test \n",
      "\n",
      " Accuracy:0.8194 \n",
      " Precision: 0.4557 \n",
      " Recall: 0.6751 \n",
      " Kappa: 0.4368 \n",
      " F1-Score: 0.5441 \n"
     ]
    },
    {
     "name": "stderr",
     "output_type": "stream",
     "text": [
      "C:\\Users\\jhonp\\miniconda3\\lib\\site-packages\\sklearn\\metrics\\_classification.py:1318: UndefinedMetricWarning: Precision is ill-defined and being set to 0.0 due to no predicted samples. Use `zero_division` parameter to control this behavior.\n",
      "  _warn_prf(average, modifier, msg_start, len(result))\n",
      "C:\\Users\\jhonp\\miniconda3\\lib\\site-packages\\sklearn\\metrics\\_classification.py:1318: UndefinedMetricWarning: Precision is ill-defined and being set to 0.0 due to no predicted samples. Use `zero_division` parameter to control this behavior.\n",
      "  _warn_prf(average, modifier, msg_start, len(result))\n"
     ]
    }
   ],
   "source": [
    "from utils import metrics\n",
    "\n",
    "print(\"===Métricas para XGboost===\\n\")\n",
    "print(\"\\n\\t Training\\n\")\n",
    "_=metrics(Y_train.ravel(),xgb.predict(X_train))\n",
    "print(\"\\n\\t Test \\n\")\n",
    "_=metrics(test['churn'].values.ravel(),xgb.predict(test.drop(columns=[\"churn\",\"Asegurado__c\"])))\n",
    "print(\"\\n===Métricas para Regresión Logística===\\n\")\n",
    "print(\"\\n\\t Training\\n\")\n",
    "_=metrics(Y_train.ravel(),logistic.predict(X_train))\n",
    "print(\"\\n\\t Test \\n\")\n",
    "_=metrics(test['churn'].values.ravel(),logistic.predict(test.drop(columns=[\"churn\",\"Asegurado__c\"])))\n",
    "\n"
   ]
  },
  {
   "cell_type": "markdown",
   "metadata": {},
   "source": [
    "### Exportar modelo para futuro uso"
   ]
  },
  {
   "cell_type": "code",
   "execution_count": 12,
   "metadata": {},
   "outputs": [],
   "source": [
    "import pickle\n",
    "import os\n",
    "\n",
    "if not os.path.isdir(\"models\"):\n",
    "    os.mkdir(\"models\")\n",
    "\n",
    "with open(\"models/best_model.pickle\",\"wb\") as f:\n",
    "    pickle.dump(logistic,f)"
   ]
  }
 ],
 "metadata": {
  "interpreter": {
   "hash": "94f342b5774f3b0269f7de90f71f08146fbd0694077eadaf6e909336ed9c3d31"
  },
  "kernelspec": {
   "display_name": "Python 3.9.7 ('base')",
   "language": "python",
   "name": "python3"
  },
  "language_info": {
   "codemirror_mode": {
    "name": "ipython",
    "version": 3
   },
   "file_extension": ".py",
   "mimetype": "text/x-python",
   "name": "python",
   "nbconvert_exporter": "python",
   "pygments_lexer": "ipython3",
   "version": "3.9.7"
  },
  "orig_nbformat": 4
 },
 "nbformat": 4,
 "nbformat_minor": 2
}
