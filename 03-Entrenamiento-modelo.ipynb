{
 "cells": [
  {
   "cell_type": "markdown",
   "metadata": {},
   "source": [
    "## 03- Entrenamiento del Modelo\n",
    "\n",
    "En este notebook realizaremos los procedimientos necesarios para entrenar el modelo que permita establecer la probabilidad de que un cliente no renueve su producto con la compañía, basado en las diferentes dimensiones de información que se tengan del mismo al momento de emitir la póliza y que hemos explorado en los notebooks anteriores. Para ello usaremos las ventajas de la librería `scikit-learn`."
   ]
  },
  {
   "cell_type": "code",
   "execution_count": 1,
   "metadata": {},
   "outputs": [],
   "source": [
    "from model_parameters import *\n",
    "import pandas as pd\n",
    "import numpy as np\n",
    "\n",
    "data=pd.read_csv(\"data_modelacion.csv\",sep=\";\",dtype={'Asegurado__c':str,'NumeroPoliza__c':str,'CodigoTipoAsegurado__c':str,'churn':int,'ClaseVehiculo__c':str,'TipoVehiculo__c':str,'PuntoVenta__c':str,'MarcaVehiculo__c':str})"
   ]
  },
  {
   "cell_type": "markdown",
   "metadata": {},
   "source": [
    "## Generar Particiones de Datos\n",
    "\n",
    "Se debe generar una partición de la data para test(10%), el restante se usará para entrenamiento y validación."
   ]
  },
  {
   "cell_type": "code",
   "execution_count": 2,
   "metadata": {},
   "outputs": [],
   "source": [
    "#Definir esquema para valores faltantes\n",
    "num_cols=[i for i in data.columns.values.tolist() if data[i].dtype!=\"O\" and i not in ['churn','Profesion__pc','Asegurado__c','CodigoTipoAsegurado__c','PuntoVenta__c','RamoTecnico__c','Tipo_poliza_c']]\n",
    "str_cols=[i for i in data.columns.values.tolist() if data[i].dtype not in [\"int32\",\"float\",\"int64\"] and i not in ['churn','NumeroPoliza__c','Producto__c','Asegurado__c','CodigoTipoAsegurado__c','PuntoVenta__c','RamoTecnico__c','Tipo_poliza_c']]\n",
    "train,test=train_test_split(data, test_size=0.10,random_state=123)"
   ]
  },
  {
   "cell_type": "markdown",
   "metadata": {},
   "source": [
    "## Modelos a Evaluar\n",
    "\n",
    "Se procede a evaluar dos tipos de modelos de tipo boosting (XGboost,LightGBM), los cuales son ampliamente usados en el modelamiento predictivo. A su vez, se prueba un modelo sencillo como la regresión logística, para comparar el desempeño frente a modelos de mayor complejidad. El objetivo general de esta comparación es establecer qué tipo de modelo puede encontrar los aspectos más relevantes para establecer cuándo un cliente tiene mayor propensión a renovar su producto con la compañía."
   ]
  },
  {
   "cell_type": "code",
   "execution_count": 3,
   "metadata": {},
   "outputs": [],
   "source": [
    "from sklearn import set_config\n",
    "set_config(display='diagram')"
   ]
  },
  {
   "cell_type": "code",
   "execution_count": 4,
   "metadata": {},
   "outputs": [],
   "source": [
    "X_train,Y_train=train.drop(columns=[\"churn\",\"Asegurado__c\"]),train['churn'].values"
   ]
  },
  {
   "cell_type": "code",
   "execution_count": 5,
   "metadata": {},
   "outputs": [],
   "source": [
    "## Pasos de imputación y estandarización\n",
    "num_transformer = Pipeline(\n",
    "    steps=[(\"imputer\", SimpleImputer(strategy=\"constant\",fill_value=0)), (\"scaler\", StandardScaler())]\n",
    ")\n",
    "\n",
    "def get_classifier_model(model_name:str,k_cv:int=5,scoring=\"roc_auc\") -> GridSearchCV:\n",
    "    \"\"\"retorna un objeto GridSearchCV para entrenar con @param model_name y k_cv-fold Cross Validation\n",
    "    para clasificación binaria, la métrica de scoring de los modelos está dada por @param scoring\n",
    "    \"\"\"\n",
    "    cat_transformer = OneHotEncoder(handle_unknown=\"error\")\n",
    "    preprocessor = ColumnTransformer(\n",
    "        transformers=[\n",
    "            (\"num\", num_transformer, num_cols),\n",
    "            (\"cat\", cat_transformer, str_cols),\n",
    "        ],sparse_threshold=0\n",
    "    )\n",
    "\n",
    "    model=MODEL_LIST[model_name]\n",
    "    pipe=Pipeline([\n",
    "        ('cleaner',preprocessor),\n",
    "        ('pca',PCA()),\n",
    "        ('model',model)\n",
    "\n",
    "    ], verbose=True)\n",
    "\n",
    "    param_grid=MODEL_PARAMS[model_name]['param_grid']\n",
    "\n",
    "    grid=GridSearchCV(pipe,param_grid,cv=k_cv,refit=True,scoring=scoring,verbose=True)\n",
    "    return grid\n",
    "\n",
    "xgb=get_classifier_model(\"xgboost\")\n",
    "logistic=get_classifier_model(\"logistic_regression\")\n",
    "lightgbm=get_classifier_model(\"lightgbm\")"
   ]
  },
  {
   "cell_type": "code",
   "execution_count": 6,
   "metadata": {},
   "outputs": [
    {
     "name": "stdout",
     "output_type": "stream",
     "text": [
      "Fitting 5 folds for each of 324 candidates, totalling 1620 fits\n",
      "[Pipeline] ........... (step 1 of 3) Processing cleaner, total=   0.1s\n",
      "[Pipeline] ............... (step 2 of 3) Processing pca, total=   0.1s\n",
      "[Pipeline] ............. (step 3 of 3) Processing model, total=   0.6s\n",
      "[Pipeline] ........... (step 1 of 3) Processing cleaner, total=   0.1s\n",
      "[Pipeline] ............... (step 2 of 3) Processing pca, total=   0.1s\n",
      "[Pipeline] ............. (step 3 of 3) Processing model, total=   0.7s\n",
      "[Pipeline] ........... (step 1 of 3) Processing cleaner, total=   0.1s\n",
      "[Pipeline] ............... (step 2 of 3) Processing pca, total=   0.1s\n",
      "[Pipeline] ............. (step 3 of 3) Processing model, total=   0.7s\n",
      "[Pipeline] ........... (step 1 of 3) Processing cleaner, total=   0.1s\n",
      "[Pipeline] ............... (step 2 of 3) Processing pca, total=   0.1s\n",
      "[Pipeline] ............. (step 3 of 3) Processing model, total=   0.7s\n",
      "[Pipeline] ........... (step 1 of 3) Processing cleaner, total=   0.1s\n",
      "[Pipeline] ............... (step 2 of 3) Processing pca, total=   0.1s\n",
      "[Pipeline] ............. (step 3 of 3) Processing model, total=   0.6s\n",
      "[Pipeline] ........... (step 1 of 3) Processing cleaner, total=   0.1s\n",
      "[Pipeline] ............... (step 2 of 3) Processing pca, total=   0.1s\n",
      "[Pipeline] ............. (step 3 of 3) Processing model, total=   1.1s\n",
      "[Pipeline] ........... (step 1 of 3) Processing cleaner, total=   0.1s\n",
      "[Pipeline] ............... (step 2 of 3) Processing pca, total=   0.1s\n",
      "[Pipeline] ............. (step 3 of 3) Processing model, total=   1.1s\n",
      "[Pipeline] ........... (step 1 of 3) Processing cleaner, total=   0.1s\n",
      "[Pipeline] ............... (step 2 of 3) Processing pca, total=   0.1s\n",
      "[Pipeline] ............. (step 3 of 3) Processing model, total=   1.1s\n",
      "[Pipeline] ........... (step 1 of 3) Processing cleaner, total=   0.1s\n",
      "[Pipeline] ............... (step 2 of 3) Processing pca, total=   0.1s\n",
      "[Pipeline] ............. (step 3 of 3) Processing model, total=   1.2s\n",
      "[Pipeline] ........... (step 1 of 3) Processing cleaner, total=   0.1s\n",
      "[Pipeline] ............... (step 2 of 3) Processing pca, total=   0.1s\n",
      "[Pipeline] ............. (step 3 of 3) Processing model, total=   1.1s\n",
      "[Pipeline] ........... (step 1 of 3) Processing cleaner, total=   0.1s\n",
      "[Pipeline] ............... (step 2 of 3) Processing pca, total=   0.1s\n",
      "[Pipeline] ............. (step 3 of 3) Processing model, total=   2.0s\n",
      "[Pipeline] ........... (step 1 of 3) Processing cleaner, total=   0.1s\n",
      "[Pipeline] ............... (step 2 of 3) Processing pca, total=   0.2s\n",
      "[Pipeline] ............. (step 3 of 3) Processing model, total=   2.1s\n",
      "[Pipeline] ........... (step 1 of 3) Processing cleaner, total=   0.1s\n",
      "[Pipeline] ............... (step 2 of 3) Processing pca, total=   0.1s\n",
      "[Pipeline] ............. (step 3 of 3) Processing model, total=   2.0s\n",
      "[Pipeline] ........... (step 1 of 3) Processing cleaner, total=   0.1s\n",
      "[Pipeline] ............... (step 2 of 3) Processing pca, total=   0.1s\n",
      "[Pipeline] ............. (step 3 of 3) Processing model, total=   2.1s\n",
      "[Pipeline] ........... (step 1 of 3) Processing cleaner, total=   0.1s\n",
      "[Pipeline] ............... (step 2 of 3) Processing pca, total=   0.1s\n",
      "[Pipeline] ............. (step 3 of 3) Processing model, total=   2.0s\n",
      "[Pipeline] ........... (step 1 of 3) Processing cleaner, total=   0.1s\n",
      "[Pipeline] ............... (step 2 of 3) Processing pca, total=   0.1s\n",
      "[Pipeline] ............. (step 3 of 3) Processing model, total=   0.6s\n",
      "[Pipeline] ........... (step 1 of 3) Processing cleaner, total=   0.1s\n",
      "[Pipeline] ............... (step 2 of 3) Processing pca, total=   0.1s\n",
      "[Pipeline] ............. (step 3 of 3) Processing model, total=   0.7s\n",
      "[Pipeline] ........... (step 1 of 3) Processing cleaner, total=   0.1s\n",
      "[Pipeline] ............... (step 2 of 3) Processing pca, total=   0.1s\n"
     ]
    },
    {
     "ename": "KeyboardInterrupt",
     "evalue": "",
     "output_type": "error",
     "traceback": [
      "\u001b[1;31m---------------------------------------------------------------------------\u001b[0m",
      "\u001b[1;31mKeyboardInterrupt\u001b[0m                         Traceback (most recent call last)",
      "\u001b[1;32md:\\consultorias\\previsora\\churn-pv-mvp\\03-Entrenamiento-modelo.ipynb Cell 9'\u001b[0m in \u001b[0;36m<cell line: 1>\u001b[1;34m()\u001b[0m\n\u001b[1;32m----> <a href='vscode-notebook-cell:/d%3A/consultorias/previsora/churn-pv-mvp/03-Entrenamiento-modelo.ipynb#ch0000027?line=0'>1</a>\u001b[0m xgb\u001b[39m.\u001b[39;49mfit(X_train,Y_train\u001b[39m.\u001b[39;49mravel())\n",
      "File \u001b[1;32m~\\miniconda3\\lib\\site-packages\\sklearn\\model_selection\\_search.py:891\u001b[0m, in \u001b[0;36mBaseSearchCV.fit\u001b[1;34m(self, X, y, groups, **fit_params)\u001b[0m\n\u001b[0;32m    <a href='file:///c%3A/Users/jhonp/miniconda3/lib/site-packages/sklearn/model_selection/_search.py?line=884'>885</a>\u001b[0m     results \u001b[39m=\u001b[39m \u001b[39mself\u001b[39m\u001b[39m.\u001b[39m_format_results(\n\u001b[0;32m    <a href='file:///c%3A/Users/jhonp/miniconda3/lib/site-packages/sklearn/model_selection/_search.py?line=885'>886</a>\u001b[0m         all_candidate_params, n_splits, all_out, all_more_results\n\u001b[0;32m    <a href='file:///c%3A/Users/jhonp/miniconda3/lib/site-packages/sklearn/model_selection/_search.py?line=886'>887</a>\u001b[0m     )\n\u001b[0;32m    <a href='file:///c%3A/Users/jhonp/miniconda3/lib/site-packages/sklearn/model_selection/_search.py?line=888'>889</a>\u001b[0m     \u001b[39mreturn\u001b[39;00m results\n\u001b[1;32m--> <a href='file:///c%3A/Users/jhonp/miniconda3/lib/site-packages/sklearn/model_selection/_search.py?line=890'>891</a>\u001b[0m \u001b[39mself\u001b[39;49m\u001b[39m.\u001b[39;49m_run_search(evaluate_candidates)\n\u001b[0;32m    <a href='file:///c%3A/Users/jhonp/miniconda3/lib/site-packages/sklearn/model_selection/_search.py?line=892'>893</a>\u001b[0m \u001b[39m# multimetric is determined here because in the case of a callable\u001b[39;00m\n\u001b[0;32m    <a href='file:///c%3A/Users/jhonp/miniconda3/lib/site-packages/sklearn/model_selection/_search.py?line=893'>894</a>\u001b[0m \u001b[39m# self.scoring the return type is only known after calling\u001b[39;00m\n\u001b[0;32m    <a href='file:///c%3A/Users/jhonp/miniconda3/lib/site-packages/sklearn/model_selection/_search.py?line=894'>895</a>\u001b[0m first_test_score \u001b[39m=\u001b[39m all_out[\u001b[39m0\u001b[39m][\u001b[39m\"\u001b[39m\u001b[39mtest_scores\u001b[39m\u001b[39m\"\u001b[39m]\n",
      "File \u001b[1;32m~\\miniconda3\\lib\\site-packages\\sklearn\\model_selection\\_search.py:1392\u001b[0m, in \u001b[0;36mGridSearchCV._run_search\u001b[1;34m(self, evaluate_candidates)\u001b[0m\n\u001b[0;32m   <a href='file:///c%3A/Users/jhonp/miniconda3/lib/site-packages/sklearn/model_selection/_search.py?line=1389'>1390</a>\u001b[0m \u001b[39mdef\u001b[39;00m \u001b[39m_run_search\u001b[39m(\u001b[39mself\u001b[39m, evaluate_candidates):\n\u001b[0;32m   <a href='file:///c%3A/Users/jhonp/miniconda3/lib/site-packages/sklearn/model_selection/_search.py?line=1390'>1391</a>\u001b[0m     \u001b[39m\"\"\"Search all candidates in param_grid\"\"\"\u001b[39;00m\n\u001b[1;32m-> <a href='file:///c%3A/Users/jhonp/miniconda3/lib/site-packages/sklearn/model_selection/_search.py?line=1391'>1392</a>\u001b[0m     evaluate_candidates(ParameterGrid(\u001b[39mself\u001b[39;49m\u001b[39m.\u001b[39;49mparam_grid))\n",
      "File \u001b[1;32m~\\miniconda3\\lib\\site-packages\\sklearn\\model_selection\\_search.py:838\u001b[0m, in \u001b[0;36mBaseSearchCV.fit.<locals>.evaluate_candidates\u001b[1;34m(candidate_params, cv, more_results)\u001b[0m\n\u001b[0;32m    <a href='file:///c%3A/Users/jhonp/miniconda3/lib/site-packages/sklearn/model_selection/_search.py?line=829'>830</a>\u001b[0m \u001b[39mif\u001b[39;00m \u001b[39mself\u001b[39m\u001b[39m.\u001b[39mverbose \u001b[39m>\u001b[39m \u001b[39m0\u001b[39m:\n\u001b[0;32m    <a href='file:///c%3A/Users/jhonp/miniconda3/lib/site-packages/sklearn/model_selection/_search.py?line=830'>831</a>\u001b[0m     \u001b[39mprint\u001b[39m(\n\u001b[0;32m    <a href='file:///c%3A/Users/jhonp/miniconda3/lib/site-packages/sklearn/model_selection/_search.py?line=831'>832</a>\u001b[0m         \u001b[39m\"\u001b[39m\u001b[39mFitting \u001b[39m\u001b[39m{0}\u001b[39;00m\u001b[39m folds for each of \u001b[39m\u001b[39m{1}\u001b[39;00m\u001b[39m candidates,\u001b[39m\u001b[39m\"\u001b[39m\n\u001b[0;32m    <a href='file:///c%3A/Users/jhonp/miniconda3/lib/site-packages/sklearn/model_selection/_search.py?line=832'>833</a>\u001b[0m         \u001b[39m\"\u001b[39m\u001b[39m totalling \u001b[39m\u001b[39m{2}\u001b[39;00m\u001b[39m fits\u001b[39m\u001b[39m\"\u001b[39m\u001b[39m.\u001b[39mformat(\n\u001b[0;32m    <a href='file:///c%3A/Users/jhonp/miniconda3/lib/site-packages/sklearn/model_selection/_search.py?line=833'>834</a>\u001b[0m             n_splits, n_candidates, n_candidates \u001b[39m*\u001b[39m n_splits\n\u001b[0;32m    <a href='file:///c%3A/Users/jhonp/miniconda3/lib/site-packages/sklearn/model_selection/_search.py?line=834'>835</a>\u001b[0m         )\n\u001b[0;32m    <a href='file:///c%3A/Users/jhonp/miniconda3/lib/site-packages/sklearn/model_selection/_search.py?line=835'>836</a>\u001b[0m     )\n\u001b[1;32m--> <a href='file:///c%3A/Users/jhonp/miniconda3/lib/site-packages/sklearn/model_selection/_search.py?line=837'>838</a>\u001b[0m out \u001b[39m=\u001b[39m parallel(\n\u001b[0;32m    <a href='file:///c%3A/Users/jhonp/miniconda3/lib/site-packages/sklearn/model_selection/_search.py?line=838'>839</a>\u001b[0m     delayed(_fit_and_score)(\n\u001b[0;32m    <a href='file:///c%3A/Users/jhonp/miniconda3/lib/site-packages/sklearn/model_selection/_search.py?line=839'>840</a>\u001b[0m         clone(base_estimator),\n\u001b[0;32m    <a href='file:///c%3A/Users/jhonp/miniconda3/lib/site-packages/sklearn/model_selection/_search.py?line=840'>841</a>\u001b[0m         X,\n\u001b[0;32m    <a href='file:///c%3A/Users/jhonp/miniconda3/lib/site-packages/sklearn/model_selection/_search.py?line=841'>842</a>\u001b[0m         y,\n\u001b[0;32m    <a href='file:///c%3A/Users/jhonp/miniconda3/lib/site-packages/sklearn/model_selection/_search.py?line=842'>843</a>\u001b[0m         train\u001b[39m=\u001b[39;49mtrain,\n\u001b[0;32m    <a href='file:///c%3A/Users/jhonp/miniconda3/lib/site-packages/sklearn/model_selection/_search.py?line=843'>844</a>\u001b[0m         test\u001b[39m=\u001b[39;49mtest,\n\u001b[0;32m    <a href='file:///c%3A/Users/jhonp/miniconda3/lib/site-packages/sklearn/model_selection/_search.py?line=844'>845</a>\u001b[0m         parameters\u001b[39m=\u001b[39;49mparameters,\n\u001b[0;32m    <a href='file:///c%3A/Users/jhonp/miniconda3/lib/site-packages/sklearn/model_selection/_search.py?line=845'>846</a>\u001b[0m         split_progress\u001b[39m=\u001b[39;49m(split_idx, n_splits),\n\u001b[0;32m    <a href='file:///c%3A/Users/jhonp/miniconda3/lib/site-packages/sklearn/model_selection/_search.py?line=846'>847</a>\u001b[0m         candidate_progress\u001b[39m=\u001b[39;49m(cand_idx, n_candidates),\n\u001b[0;32m    <a href='file:///c%3A/Users/jhonp/miniconda3/lib/site-packages/sklearn/model_selection/_search.py?line=847'>848</a>\u001b[0m         \u001b[39m*\u001b[39;49m\u001b[39m*\u001b[39;49mfit_and_score_kwargs,\n\u001b[0;32m    <a href='file:///c%3A/Users/jhonp/miniconda3/lib/site-packages/sklearn/model_selection/_search.py?line=848'>849</a>\u001b[0m     )\n\u001b[0;32m    <a href='file:///c%3A/Users/jhonp/miniconda3/lib/site-packages/sklearn/model_selection/_search.py?line=849'>850</a>\u001b[0m     \u001b[39mfor\u001b[39;49;00m (cand_idx, parameters), (split_idx, (train, test)) \u001b[39min\u001b[39;49;00m product(\n\u001b[0;32m    <a href='file:///c%3A/Users/jhonp/miniconda3/lib/site-packages/sklearn/model_selection/_search.py?line=850'>851</a>\u001b[0m         \u001b[39menumerate\u001b[39;49m(candidate_params), \u001b[39menumerate\u001b[39;49m(cv\u001b[39m.\u001b[39;49msplit(X, y, groups))\n\u001b[0;32m    <a href='file:///c%3A/Users/jhonp/miniconda3/lib/site-packages/sklearn/model_selection/_search.py?line=851'>852</a>\u001b[0m     )\n\u001b[0;32m    <a href='file:///c%3A/Users/jhonp/miniconda3/lib/site-packages/sklearn/model_selection/_search.py?line=852'>853</a>\u001b[0m )\n\u001b[0;32m    <a href='file:///c%3A/Users/jhonp/miniconda3/lib/site-packages/sklearn/model_selection/_search.py?line=854'>855</a>\u001b[0m \u001b[39mif\u001b[39;00m \u001b[39mlen\u001b[39m(out) \u001b[39m<\u001b[39m \u001b[39m1\u001b[39m:\n\u001b[0;32m    <a href='file:///c%3A/Users/jhonp/miniconda3/lib/site-packages/sklearn/model_selection/_search.py?line=855'>856</a>\u001b[0m     \u001b[39mraise\u001b[39;00m \u001b[39mValueError\u001b[39;00m(\n\u001b[0;32m    <a href='file:///c%3A/Users/jhonp/miniconda3/lib/site-packages/sklearn/model_selection/_search.py?line=856'>857</a>\u001b[0m         \u001b[39m\"\u001b[39m\u001b[39mNo fits were performed. \u001b[39m\u001b[39m\"\u001b[39m\n\u001b[0;32m    <a href='file:///c%3A/Users/jhonp/miniconda3/lib/site-packages/sklearn/model_selection/_search.py?line=857'>858</a>\u001b[0m         \u001b[39m\"\u001b[39m\u001b[39mWas the CV iterator empty? \u001b[39m\u001b[39m\"\u001b[39m\n\u001b[0;32m    <a href='file:///c%3A/Users/jhonp/miniconda3/lib/site-packages/sklearn/model_selection/_search.py?line=858'>859</a>\u001b[0m         \u001b[39m\"\u001b[39m\u001b[39mWere there no candidates?\u001b[39m\u001b[39m\"\u001b[39m\n\u001b[0;32m    <a href='file:///c%3A/Users/jhonp/miniconda3/lib/site-packages/sklearn/model_selection/_search.py?line=859'>860</a>\u001b[0m     )\n",
      "File \u001b[1;32m~\\miniconda3\\lib\\site-packages\\joblib\\parallel.py:1046\u001b[0m, in \u001b[0;36mParallel.__call__\u001b[1;34m(self, iterable)\u001b[0m\n\u001b[0;32m   <a href='file:///c%3A/Users/jhonp/miniconda3/lib/site-packages/joblib/parallel.py?line=1042'>1043</a>\u001b[0m \u001b[39mif\u001b[39;00m \u001b[39mself\u001b[39m\u001b[39m.\u001b[39mdispatch_one_batch(iterator):\n\u001b[0;32m   <a href='file:///c%3A/Users/jhonp/miniconda3/lib/site-packages/joblib/parallel.py?line=1043'>1044</a>\u001b[0m     \u001b[39mself\u001b[39m\u001b[39m.\u001b[39m_iterating \u001b[39m=\u001b[39m \u001b[39mself\u001b[39m\u001b[39m.\u001b[39m_original_iterator \u001b[39mis\u001b[39;00m \u001b[39mnot\u001b[39;00m \u001b[39mNone\u001b[39;00m\n\u001b[1;32m-> <a href='file:///c%3A/Users/jhonp/miniconda3/lib/site-packages/joblib/parallel.py?line=1045'>1046</a>\u001b[0m \u001b[39mwhile\u001b[39;00m \u001b[39mself\u001b[39;49m\u001b[39m.\u001b[39;49mdispatch_one_batch(iterator):\n\u001b[0;32m   <a href='file:///c%3A/Users/jhonp/miniconda3/lib/site-packages/joblib/parallel.py?line=1046'>1047</a>\u001b[0m     \u001b[39mpass\u001b[39;00m\n\u001b[0;32m   <a href='file:///c%3A/Users/jhonp/miniconda3/lib/site-packages/joblib/parallel.py?line=1048'>1049</a>\u001b[0m \u001b[39mif\u001b[39;00m pre_dispatch \u001b[39m==\u001b[39m \u001b[39m\"\u001b[39m\u001b[39mall\u001b[39m\u001b[39m\"\u001b[39m \u001b[39mor\u001b[39;00m n_jobs \u001b[39m==\u001b[39m \u001b[39m1\u001b[39m:\n\u001b[0;32m   <a href='file:///c%3A/Users/jhonp/miniconda3/lib/site-packages/joblib/parallel.py?line=1049'>1050</a>\u001b[0m     \u001b[39m# The iterable was consumed all at once by the above for loop.\u001b[39;00m\n\u001b[0;32m   <a href='file:///c%3A/Users/jhonp/miniconda3/lib/site-packages/joblib/parallel.py?line=1050'>1051</a>\u001b[0m     \u001b[39m# No need to wait for async callbacks to trigger to\u001b[39;00m\n\u001b[0;32m   <a href='file:///c%3A/Users/jhonp/miniconda3/lib/site-packages/joblib/parallel.py?line=1051'>1052</a>\u001b[0m     \u001b[39m# consumption.\u001b[39;00m\n",
      "File \u001b[1;32m~\\miniconda3\\lib\\site-packages\\joblib\\parallel.py:861\u001b[0m, in \u001b[0;36mParallel.dispatch_one_batch\u001b[1;34m(self, iterator)\u001b[0m\n\u001b[0;32m    <a href='file:///c%3A/Users/jhonp/miniconda3/lib/site-packages/joblib/parallel.py?line=858'>859</a>\u001b[0m     \u001b[39mreturn\u001b[39;00m \u001b[39mFalse\u001b[39;00m\n\u001b[0;32m    <a href='file:///c%3A/Users/jhonp/miniconda3/lib/site-packages/joblib/parallel.py?line=859'>860</a>\u001b[0m \u001b[39melse\u001b[39;00m:\n\u001b[1;32m--> <a href='file:///c%3A/Users/jhonp/miniconda3/lib/site-packages/joblib/parallel.py?line=860'>861</a>\u001b[0m     \u001b[39mself\u001b[39;49m\u001b[39m.\u001b[39;49m_dispatch(tasks)\n\u001b[0;32m    <a href='file:///c%3A/Users/jhonp/miniconda3/lib/site-packages/joblib/parallel.py?line=861'>862</a>\u001b[0m     \u001b[39mreturn\u001b[39;00m \u001b[39mTrue\u001b[39;00m\n",
      "File \u001b[1;32m~\\miniconda3\\lib\\site-packages\\joblib\\parallel.py:779\u001b[0m, in \u001b[0;36mParallel._dispatch\u001b[1;34m(self, batch)\u001b[0m\n\u001b[0;32m    <a href='file:///c%3A/Users/jhonp/miniconda3/lib/site-packages/joblib/parallel.py?line=776'>777</a>\u001b[0m \u001b[39mwith\u001b[39;00m \u001b[39mself\u001b[39m\u001b[39m.\u001b[39m_lock:\n\u001b[0;32m    <a href='file:///c%3A/Users/jhonp/miniconda3/lib/site-packages/joblib/parallel.py?line=777'>778</a>\u001b[0m     job_idx \u001b[39m=\u001b[39m \u001b[39mlen\u001b[39m(\u001b[39mself\u001b[39m\u001b[39m.\u001b[39m_jobs)\n\u001b[1;32m--> <a href='file:///c%3A/Users/jhonp/miniconda3/lib/site-packages/joblib/parallel.py?line=778'>779</a>\u001b[0m     job \u001b[39m=\u001b[39m \u001b[39mself\u001b[39;49m\u001b[39m.\u001b[39;49m_backend\u001b[39m.\u001b[39;49mapply_async(batch, callback\u001b[39m=\u001b[39;49mcb)\n\u001b[0;32m    <a href='file:///c%3A/Users/jhonp/miniconda3/lib/site-packages/joblib/parallel.py?line=779'>780</a>\u001b[0m     \u001b[39m# A job can complete so quickly than its callback is\u001b[39;00m\n\u001b[0;32m    <a href='file:///c%3A/Users/jhonp/miniconda3/lib/site-packages/joblib/parallel.py?line=780'>781</a>\u001b[0m     \u001b[39m# called before we get here, causing self._jobs to\u001b[39;00m\n\u001b[0;32m    <a href='file:///c%3A/Users/jhonp/miniconda3/lib/site-packages/joblib/parallel.py?line=781'>782</a>\u001b[0m     \u001b[39m# grow. To ensure correct results ordering, .insert is\u001b[39;00m\n\u001b[0;32m    <a href='file:///c%3A/Users/jhonp/miniconda3/lib/site-packages/joblib/parallel.py?line=782'>783</a>\u001b[0m     \u001b[39m# used (rather than .append) in the following line\u001b[39;00m\n\u001b[0;32m    <a href='file:///c%3A/Users/jhonp/miniconda3/lib/site-packages/joblib/parallel.py?line=783'>784</a>\u001b[0m     \u001b[39mself\u001b[39m\u001b[39m.\u001b[39m_jobs\u001b[39m.\u001b[39minsert(job_idx, job)\n",
      "File \u001b[1;32m~\\miniconda3\\lib\\site-packages\\joblib\\_parallel_backends.py:208\u001b[0m, in \u001b[0;36mSequentialBackend.apply_async\u001b[1;34m(self, func, callback)\u001b[0m\n\u001b[0;32m    <a href='file:///c%3A/Users/jhonp/miniconda3/lib/site-packages/joblib/_parallel_backends.py?line=205'>206</a>\u001b[0m \u001b[39mdef\u001b[39;00m \u001b[39mapply_async\u001b[39m(\u001b[39mself\u001b[39m, func, callback\u001b[39m=\u001b[39m\u001b[39mNone\u001b[39;00m):\n\u001b[0;32m    <a href='file:///c%3A/Users/jhonp/miniconda3/lib/site-packages/joblib/_parallel_backends.py?line=206'>207</a>\u001b[0m     \u001b[39m\"\"\"Schedule a func to be run\"\"\"\u001b[39;00m\n\u001b[1;32m--> <a href='file:///c%3A/Users/jhonp/miniconda3/lib/site-packages/joblib/_parallel_backends.py?line=207'>208</a>\u001b[0m     result \u001b[39m=\u001b[39m ImmediateResult(func)\n\u001b[0;32m    <a href='file:///c%3A/Users/jhonp/miniconda3/lib/site-packages/joblib/_parallel_backends.py?line=208'>209</a>\u001b[0m     \u001b[39mif\u001b[39;00m callback:\n\u001b[0;32m    <a href='file:///c%3A/Users/jhonp/miniconda3/lib/site-packages/joblib/_parallel_backends.py?line=209'>210</a>\u001b[0m         callback(result)\n",
      "File \u001b[1;32m~\\miniconda3\\lib\\site-packages\\joblib\\_parallel_backends.py:572\u001b[0m, in \u001b[0;36mImmediateResult.__init__\u001b[1;34m(self, batch)\u001b[0m\n\u001b[0;32m    <a href='file:///c%3A/Users/jhonp/miniconda3/lib/site-packages/joblib/_parallel_backends.py?line=568'>569</a>\u001b[0m \u001b[39mdef\u001b[39;00m \u001b[39m__init__\u001b[39m(\u001b[39mself\u001b[39m, batch):\n\u001b[0;32m    <a href='file:///c%3A/Users/jhonp/miniconda3/lib/site-packages/joblib/_parallel_backends.py?line=569'>570</a>\u001b[0m     \u001b[39m# Don't delay the application, to avoid keeping the input\u001b[39;00m\n\u001b[0;32m    <a href='file:///c%3A/Users/jhonp/miniconda3/lib/site-packages/joblib/_parallel_backends.py?line=570'>571</a>\u001b[0m     \u001b[39m# arguments in memory\u001b[39;00m\n\u001b[1;32m--> <a href='file:///c%3A/Users/jhonp/miniconda3/lib/site-packages/joblib/_parallel_backends.py?line=571'>572</a>\u001b[0m     \u001b[39mself\u001b[39m\u001b[39m.\u001b[39mresults \u001b[39m=\u001b[39m batch()\n",
      "File \u001b[1;32m~\\miniconda3\\lib\\site-packages\\joblib\\parallel.py:262\u001b[0m, in \u001b[0;36mBatchedCalls.__call__\u001b[1;34m(self)\u001b[0m\n\u001b[0;32m    <a href='file:///c%3A/Users/jhonp/miniconda3/lib/site-packages/joblib/parallel.py?line=257'>258</a>\u001b[0m \u001b[39mdef\u001b[39;00m \u001b[39m__call__\u001b[39m(\u001b[39mself\u001b[39m):\n\u001b[0;32m    <a href='file:///c%3A/Users/jhonp/miniconda3/lib/site-packages/joblib/parallel.py?line=258'>259</a>\u001b[0m     \u001b[39m# Set the default nested backend to self._backend but do not set the\u001b[39;00m\n\u001b[0;32m    <a href='file:///c%3A/Users/jhonp/miniconda3/lib/site-packages/joblib/parallel.py?line=259'>260</a>\u001b[0m     \u001b[39m# change the default number of processes to -1\u001b[39;00m\n\u001b[0;32m    <a href='file:///c%3A/Users/jhonp/miniconda3/lib/site-packages/joblib/parallel.py?line=260'>261</a>\u001b[0m     \u001b[39mwith\u001b[39;00m parallel_backend(\u001b[39mself\u001b[39m\u001b[39m.\u001b[39m_backend, n_jobs\u001b[39m=\u001b[39m\u001b[39mself\u001b[39m\u001b[39m.\u001b[39m_n_jobs):\n\u001b[1;32m--> <a href='file:///c%3A/Users/jhonp/miniconda3/lib/site-packages/joblib/parallel.py?line=261'>262</a>\u001b[0m         \u001b[39mreturn\u001b[39;00m [func(\u001b[39m*\u001b[39margs, \u001b[39m*\u001b[39m\u001b[39m*\u001b[39mkwargs)\n\u001b[0;32m    <a href='file:///c%3A/Users/jhonp/miniconda3/lib/site-packages/joblib/parallel.py?line=262'>263</a>\u001b[0m                 \u001b[39mfor\u001b[39;00m func, args, kwargs \u001b[39min\u001b[39;00m \u001b[39mself\u001b[39m\u001b[39m.\u001b[39mitems]\n",
      "File \u001b[1;32m~\\miniconda3\\lib\\site-packages\\joblib\\parallel.py:262\u001b[0m, in \u001b[0;36m<listcomp>\u001b[1;34m(.0)\u001b[0m\n\u001b[0;32m    <a href='file:///c%3A/Users/jhonp/miniconda3/lib/site-packages/joblib/parallel.py?line=257'>258</a>\u001b[0m \u001b[39mdef\u001b[39;00m \u001b[39m__call__\u001b[39m(\u001b[39mself\u001b[39m):\n\u001b[0;32m    <a href='file:///c%3A/Users/jhonp/miniconda3/lib/site-packages/joblib/parallel.py?line=258'>259</a>\u001b[0m     \u001b[39m# Set the default nested backend to self._backend but do not set the\u001b[39;00m\n\u001b[0;32m    <a href='file:///c%3A/Users/jhonp/miniconda3/lib/site-packages/joblib/parallel.py?line=259'>260</a>\u001b[0m     \u001b[39m# change the default number of processes to -1\u001b[39;00m\n\u001b[0;32m    <a href='file:///c%3A/Users/jhonp/miniconda3/lib/site-packages/joblib/parallel.py?line=260'>261</a>\u001b[0m     \u001b[39mwith\u001b[39;00m parallel_backend(\u001b[39mself\u001b[39m\u001b[39m.\u001b[39m_backend, n_jobs\u001b[39m=\u001b[39m\u001b[39mself\u001b[39m\u001b[39m.\u001b[39m_n_jobs):\n\u001b[1;32m--> <a href='file:///c%3A/Users/jhonp/miniconda3/lib/site-packages/joblib/parallel.py?line=261'>262</a>\u001b[0m         \u001b[39mreturn\u001b[39;00m [func(\u001b[39m*\u001b[39margs, \u001b[39m*\u001b[39m\u001b[39m*\u001b[39mkwargs)\n\u001b[0;32m    <a href='file:///c%3A/Users/jhonp/miniconda3/lib/site-packages/joblib/parallel.py?line=262'>263</a>\u001b[0m                 \u001b[39mfor\u001b[39;00m func, args, kwargs \u001b[39min\u001b[39;00m \u001b[39mself\u001b[39m\u001b[39m.\u001b[39mitems]\n",
      "File \u001b[1;32m~\\miniconda3\\lib\\site-packages\\sklearn\\utils\\fixes.py:216\u001b[0m, in \u001b[0;36m_FuncWrapper.__call__\u001b[1;34m(self, *args, **kwargs)\u001b[0m\n\u001b[0;32m    <a href='file:///c%3A/Users/jhonp/miniconda3/lib/site-packages/sklearn/utils/fixes.py?line=213'>214</a>\u001b[0m \u001b[39mdef\u001b[39;00m \u001b[39m__call__\u001b[39m(\u001b[39mself\u001b[39m, \u001b[39m*\u001b[39margs, \u001b[39m*\u001b[39m\u001b[39m*\u001b[39mkwargs):\n\u001b[0;32m    <a href='file:///c%3A/Users/jhonp/miniconda3/lib/site-packages/sklearn/utils/fixes.py?line=214'>215</a>\u001b[0m     \u001b[39mwith\u001b[39;00m config_context(\u001b[39m*\u001b[39m\u001b[39m*\u001b[39m\u001b[39mself\u001b[39m\u001b[39m.\u001b[39mconfig):\n\u001b[1;32m--> <a href='file:///c%3A/Users/jhonp/miniconda3/lib/site-packages/sklearn/utils/fixes.py?line=215'>216</a>\u001b[0m         \u001b[39mreturn\u001b[39;00m \u001b[39mself\u001b[39m\u001b[39m.\u001b[39mfunction(\u001b[39m*\u001b[39margs, \u001b[39m*\u001b[39m\u001b[39m*\u001b[39mkwargs)\n",
      "File \u001b[1;32m~\\miniconda3\\lib\\site-packages\\sklearn\\model_selection\\_validation.py:680\u001b[0m, in \u001b[0;36m_fit_and_score\u001b[1;34m(estimator, X, y, scorer, train, test, verbose, parameters, fit_params, return_train_score, return_parameters, return_n_test_samples, return_times, return_estimator, split_progress, candidate_progress, error_score)\u001b[0m\n\u001b[0;32m    <a href='file:///c%3A/Users/jhonp/miniconda3/lib/site-packages/sklearn/model_selection/_validation.py?line=677'>678</a>\u001b[0m         estimator\u001b[39m.\u001b[39mfit(X_train, \u001b[39m*\u001b[39m\u001b[39m*\u001b[39mfit_params)\n\u001b[0;32m    <a href='file:///c%3A/Users/jhonp/miniconda3/lib/site-packages/sklearn/model_selection/_validation.py?line=678'>679</a>\u001b[0m     \u001b[39melse\u001b[39;00m:\n\u001b[1;32m--> <a href='file:///c%3A/Users/jhonp/miniconda3/lib/site-packages/sklearn/model_selection/_validation.py?line=679'>680</a>\u001b[0m         estimator\u001b[39m.\u001b[39mfit(X_train, y_train, \u001b[39m*\u001b[39m\u001b[39m*\u001b[39mfit_params)\n\u001b[0;32m    <a href='file:///c%3A/Users/jhonp/miniconda3/lib/site-packages/sklearn/model_selection/_validation.py?line=681'>682</a>\u001b[0m \u001b[39mexcept\u001b[39;00m \u001b[39mException\u001b[39;00m:\n\u001b[0;32m    <a href='file:///c%3A/Users/jhonp/miniconda3/lib/site-packages/sklearn/model_selection/_validation.py?line=682'>683</a>\u001b[0m     \u001b[39m# Note fit time as time until error\u001b[39;00m\n\u001b[0;32m    <a href='file:///c%3A/Users/jhonp/miniconda3/lib/site-packages/sklearn/model_selection/_validation.py?line=683'>684</a>\u001b[0m     fit_time \u001b[39m=\u001b[39m time\u001b[39m.\u001b[39mtime() \u001b[39m-\u001b[39m start_time\n",
      "File \u001b[1;32m~\\miniconda3\\lib\\site-packages\\sklearn\\pipeline.py:394\u001b[0m, in \u001b[0;36mPipeline.fit\u001b[1;34m(self, X, y, **fit_params)\u001b[0m\n\u001b[0;32m    <a href='file:///c%3A/Users/jhonp/miniconda3/lib/site-packages/sklearn/pipeline.py?line=391'>392</a>\u001b[0m     \u001b[39mif\u001b[39;00m \u001b[39mself\u001b[39m\u001b[39m.\u001b[39m_final_estimator \u001b[39m!=\u001b[39m \u001b[39m\"\u001b[39m\u001b[39mpassthrough\u001b[39m\u001b[39m\"\u001b[39m:\n\u001b[0;32m    <a href='file:///c%3A/Users/jhonp/miniconda3/lib/site-packages/sklearn/pipeline.py?line=392'>393</a>\u001b[0m         fit_params_last_step \u001b[39m=\u001b[39m fit_params_steps[\u001b[39mself\u001b[39m\u001b[39m.\u001b[39msteps[\u001b[39m-\u001b[39m\u001b[39m1\u001b[39m][\u001b[39m0\u001b[39m]]\n\u001b[1;32m--> <a href='file:///c%3A/Users/jhonp/miniconda3/lib/site-packages/sklearn/pipeline.py?line=393'>394</a>\u001b[0m         \u001b[39mself\u001b[39m\u001b[39m.\u001b[39m_final_estimator\u001b[39m.\u001b[39mfit(Xt, y, \u001b[39m*\u001b[39m\u001b[39m*\u001b[39mfit_params_last_step)\n\u001b[0;32m    <a href='file:///c%3A/Users/jhonp/miniconda3/lib/site-packages/sklearn/pipeline.py?line=395'>396</a>\u001b[0m \u001b[39mreturn\u001b[39;00m \u001b[39mself\u001b[39m\n",
      "File \u001b[1;32m~\\miniconda3\\lib\\site-packages\\sklearn\\ensemble\\_gb.py:586\u001b[0m, in \u001b[0;36mBaseGradientBoosting.fit\u001b[1;34m(self, X, y, sample_weight, monitor)\u001b[0m\n\u001b[0;32m    <a href='file:///c%3A/Users/jhonp/miniconda3/lib/site-packages/sklearn/ensemble/_gb.py?line=582'>583</a>\u001b[0m     \u001b[39mself\u001b[39m\u001b[39m.\u001b[39m_resize_state()\n\u001b[0;32m    <a href='file:///c%3A/Users/jhonp/miniconda3/lib/site-packages/sklearn/ensemble/_gb.py?line=584'>585</a>\u001b[0m \u001b[39m# fit the boosting stages\u001b[39;00m\n\u001b[1;32m--> <a href='file:///c%3A/Users/jhonp/miniconda3/lib/site-packages/sklearn/ensemble/_gb.py?line=585'>586</a>\u001b[0m n_stages \u001b[39m=\u001b[39m \u001b[39mself\u001b[39;49m\u001b[39m.\u001b[39;49m_fit_stages(\n\u001b[0;32m    <a href='file:///c%3A/Users/jhonp/miniconda3/lib/site-packages/sklearn/ensemble/_gb.py?line=586'>587</a>\u001b[0m     X,\n\u001b[0;32m    <a href='file:///c%3A/Users/jhonp/miniconda3/lib/site-packages/sklearn/ensemble/_gb.py?line=587'>588</a>\u001b[0m     y,\n\u001b[0;32m    <a href='file:///c%3A/Users/jhonp/miniconda3/lib/site-packages/sklearn/ensemble/_gb.py?line=588'>589</a>\u001b[0m     raw_predictions,\n\u001b[0;32m    <a href='file:///c%3A/Users/jhonp/miniconda3/lib/site-packages/sklearn/ensemble/_gb.py?line=589'>590</a>\u001b[0m     sample_weight,\n\u001b[0;32m    <a href='file:///c%3A/Users/jhonp/miniconda3/lib/site-packages/sklearn/ensemble/_gb.py?line=590'>591</a>\u001b[0m     \u001b[39mself\u001b[39;49m\u001b[39m.\u001b[39;49m_rng,\n\u001b[0;32m    <a href='file:///c%3A/Users/jhonp/miniconda3/lib/site-packages/sklearn/ensemble/_gb.py?line=591'>592</a>\u001b[0m     X_val,\n\u001b[0;32m    <a href='file:///c%3A/Users/jhonp/miniconda3/lib/site-packages/sklearn/ensemble/_gb.py?line=592'>593</a>\u001b[0m     y_val,\n\u001b[0;32m    <a href='file:///c%3A/Users/jhonp/miniconda3/lib/site-packages/sklearn/ensemble/_gb.py?line=593'>594</a>\u001b[0m     sample_weight_val,\n\u001b[0;32m    <a href='file:///c%3A/Users/jhonp/miniconda3/lib/site-packages/sklearn/ensemble/_gb.py?line=594'>595</a>\u001b[0m     begin_at_stage,\n\u001b[0;32m    <a href='file:///c%3A/Users/jhonp/miniconda3/lib/site-packages/sklearn/ensemble/_gb.py?line=595'>596</a>\u001b[0m     monitor,\n\u001b[0;32m    <a href='file:///c%3A/Users/jhonp/miniconda3/lib/site-packages/sklearn/ensemble/_gb.py?line=596'>597</a>\u001b[0m )\n\u001b[0;32m    <a href='file:///c%3A/Users/jhonp/miniconda3/lib/site-packages/sklearn/ensemble/_gb.py?line=598'>599</a>\u001b[0m \u001b[39m# change shape of arrays after fit (early-stopping or additional ests)\u001b[39;00m\n\u001b[0;32m    <a href='file:///c%3A/Users/jhonp/miniconda3/lib/site-packages/sklearn/ensemble/_gb.py?line=599'>600</a>\u001b[0m \u001b[39mif\u001b[39;00m n_stages \u001b[39m!=\u001b[39m \u001b[39mself\u001b[39m\u001b[39m.\u001b[39mestimators_\u001b[39m.\u001b[39mshape[\u001b[39m0\u001b[39m]:\n",
      "File \u001b[1;32m~\\miniconda3\\lib\\site-packages\\sklearn\\ensemble\\_gb.py:663\u001b[0m, in \u001b[0;36mBaseGradientBoosting._fit_stages\u001b[1;34m(self, X, y, raw_predictions, sample_weight, random_state, X_val, y_val, sample_weight_val, begin_at_stage, monitor)\u001b[0m\n\u001b[0;32m    <a href='file:///c%3A/Users/jhonp/miniconda3/lib/site-packages/sklearn/ensemble/_gb.py?line=655'>656</a>\u001b[0m     old_oob_score \u001b[39m=\u001b[39m loss_(\n\u001b[0;32m    <a href='file:///c%3A/Users/jhonp/miniconda3/lib/site-packages/sklearn/ensemble/_gb.py?line=656'>657</a>\u001b[0m         y[\u001b[39m~\u001b[39msample_mask],\n\u001b[0;32m    <a href='file:///c%3A/Users/jhonp/miniconda3/lib/site-packages/sklearn/ensemble/_gb.py?line=657'>658</a>\u001b[0m         raw_predictions[\u001b[39m~\u001b[39msample_mask],\n\u001b[0;32m    <a href='file:///c%3A/Users/jhonp/miniconda3/lib/site-packages/sklearn/ensemble/_gb.py?line=658'>659</a>\u001b[0m         sample_weight[\u001b[39m~\u001b[39msample_mask],\n\u001b[0;32m    <a href='file:///c%3A/Users/jhonp/miniconda3/lib/site-packages/sklearn/ensemble/_gb.py?line=659'>660</a>\u001b[0m     )\n\u001b[0;32m    <a href='file:///c%3A/Users/jhonp/miniconda3/lib/site-packages/sklearn/ensemble/_gb.py?line=661'>662</a>\u001b[0m \u001b[39m# fit next stage of trees\u001b[39;00m\n\u001b[1;32m--> <a href='file:///c%3A/Users/jhonp/miniconda3/lib/site-packages/sklearn/ensemble/_gb.py?line=662'>663</a>\u001b[0m raw_predictions \u001b[39m=\u001b[39m \u001b[39mself\u001b[39;49m\u001b[39m.\u001b[39;49m_fit_stage(\n\u001b[0;32m    <a href='file:///c%3A/Users/jhonp/miniconda3/lib/site-packages/sklearn/ensemble/_gb.py?line=663'>664</a>\u001b[0m     i,\n\u001b[0;32m    <a href='file:///c%3A/Users/jhonp/miniconda3/lib/site-packages/sklearn/ensemble/_gb.py?line=664'>665</a>\u001b[0m     X,\n\u001b[0;32m    <a href='file:///c%3A/Users/jhonp/miniconda3/lib/site-packages/sklearn/ensemble/_gb.py?line=665'>666</a>\u001b[0m     y,\n\u001b[0;32m    <a href='file:///c%3A/Users/jhonp/miniconda3/lib/site-packages/sklearn/ensemble/_gb.py?line=666'>667</a>\u001b[0m     raw_predictions,\n\u001b[0;32m    <a href='file:///c%3A/Users/jhonp/miniconda3/lib/site-packages/sklearn/ensemble/_gb.py?line=667'>668</a>\u001b[0m     sample_weight,\n\u001b[0;32m    <a href='file:///c%3A/Users/jhonp/miniconda3/lib/site-packages/sklearn/ensemble/_gb.py?line=668'>669</a>\u001b[0m     sample_mask,\n\u001b[0;32m    <a href='file:///c%3A/Users/jhonp/miniconda3/lib/site-packages/sklearn/ensemble/_gb.py?line=669'>670</a>\u001b[0m     random_state,\n\u001b[0;32m    <a href='file:///c%3A/Users/jhonp/miniconda3/lib/site-packages/sklearn/ensemble/_gb.py?line=670'>671</a>\u001b[0m     X_csc,\n\u001b[0;32m    <a href='file:///c%3A/Users/jhonp/miniconda3/lib/site-packages/sklearn/ensemble/_gb.py?line=671'>672</a>\u001b[0m     X_csr,\n\u001b[0;32m    <a href='file:///c%3A/Users/jhonp/miniconda3/lib/site-packages/sklearn/ensemble/_gb.py?line=672'>673</a>\u001b[0m )\n\u001b[0;32m    <a href='file:///c%3A/Users/jhonp/miniconda3/lib/site-packages/sklearn/ensemble/_gb.py?line=674'>675</a>\u001b[0m \u001b[39m# track deviance (= loss)\u001b[39;00m\n\u001b[0;32m    <a href='file:///c%3A/Users/jhonp/miniconda3/lib/site-packages/sklearn/ensemble/_gb.py?line=675'>676</a>\u001b[0m \u001b[39mif\u001b[39;00m do_oob:\n",
      "File \u001b[1;32m~\\miniconda3\\lib\\site-packages\\sklearn\\ensemble\\_gb.py:246\u001b[0m, in \u001b[0;36mBaseGradientBoosting._fit_stage\u001b[1;34m(self, i, X, y, raw_predictions, sample_weight, sample_mask, random_state, X_csc, X_csr)\u001b[0m\n\u001b[0;32m    <a href='file:///c%3A/Users/jhonp/miniconda3/lib/site-packages/sklearn/ensemble/_gb.py?line=242'>243</a>\u001b[0m     sample_weight \u001b[39m=\u001b[39m sample_weight \u001b[39m*\u001b[39m sample_mask\u001b[39m.\u001b[39mastype(np\u001b[39m.\u001b[39mfloat64)\n\u001b[0;32m    <a href='file:///c%3A/Users/jhonp/miniconda3/lib/site-packages/sklearn/ensemble/_gb.py?line=244'>245</a>\u001b[0m X \u001b[39m=\u001b[39m X_csr \u001b[39mif\u001b[39;00m X_csr \u001b[39mis\u001b[39;00m \u001b[39mnot\u001b[39;00m \u001b[39mNone\u001b[39;00m \u001b[39melse\u001b[39;00m X\n\u001b[1;32m--> <a href='file:///c%3A/Users/jhonp/miniconda3/lib/site-packages/sklearn/ensemble/_gb.py?line=245'>246</a>\u001b[0m tree\u001b[39m.\u001b[39;49mfit(X, residual, sample_weight\u001b[39m=\u001b[39;49msample_weight, check_input\u001b[39m=\u001b[39;49m\u001b[39mFalse\u001b[39;49;00m)\n\u001b[0;32m    <a href='file:///c%3A/Users/jhonp/miniconda3/lib/site-packages/sklearn/ensemble/_gb.py?line=247'>248</a>\u001b[0m \u001b[39m# update tree leaves\u001b[39;00m\n\u001b[0;32m    <a href='file:///c%3A/Users/jhonp/miniconda3/lib/site-packages/sklearn/ensemble/_gb.py?line=248'>249</a>\u001b[0m loss\u001b[39m.\u001b[39mupdate_terminal_regions(\n\u001b[0;32m    <a href='file:///c%3A/Users/jhonp/miniconda3/lib/site-packages/sklearn/ensemble/_gb.py?line=249'>250</a>\u001b[0m     tree\u001b[39m.\u001b[39mtree_,\n\u001b[0;32m    <a href='file:///c%3A/Users/jhonp/miniconda3/lib/site-packages/sklearn/ensemble/_gb.py?line=250'>251</a>\u001b[0m     X,\n\u001b[1;32m   (...)\u001b[0m\n\u001b[0;32m    <a href='file:///c%3A/Users/jhonp/miniconda3/lib/site-packages/sklearn/ensemble/_gb.py?line=257'>258</a>\u001b[0m     k\u001b[39m=\u001b[39mk,\n\u001b[0;32m    <a href='file:///c%3A/Users/jhonp/miniconda3/lib/site-packages/sklearn/ensemble/_gb.py?line=258'>259</a>\u001b[0m )\n",
      "File \u001b[1;32m~\\miniconda3\\lib\\site-packages\\sklearn\\tree\\_classes.py:1315\u001b[0m, in \u001b[0;36mDecisionTreeRegressor.fit\u001b[1;34m(self, X, y, sample_weight, check_input, X_idx_sorted)\u001b[0m\n\u001b[0;32m   <a href='file:///c%3A/Users/jhonp/miniconda3/lib/site-packages/sklearn/tree/_classes.py?line=1277'>1278</a>\u001b[0m \u001b[39mdef\u001b[39;00m \u001b[39mfit\u001b[39m(\n\u001b[0;32m   <a href='file:///c%3A/Users/jhonp/miniconda3/lib/site-packages/sklearn/tree/_classes.py?line=1278'>1279</a>\u001b[0m     \u001b[39mself\u001b[39m, X, y, sample_weight\u001b[39m=\u001b[39m\u001b[39mNone\u001b[39;00m, check_input\u001b[39m=\u001b[39m\u001b[39mTrue\u001b[39;00m, X_idx_sorted\u001b[39m=\u001b[39m\u001b[39m\"\u001b[39m\u001b[39mdeprecated\u001b[39m\u001b[39m\"\u001b[39m\n\u001b[0;32m   <a href='file:///c%3A/Users/jhonp/miniconda3/lib/site-packages/sklearn/tree/_classes.py?line=1279'>1280</a>\u001b[0m ):\n\u001b[0;32m   <a href='file:///c%3A/Users/jhonp/miniconda3/lib/site-packages/sklearn/tree/_classes.py?line=1280'>1281</a>\u001b[0m     \u001b[39m\"\"\"Build a decision tree regressor from the training set (X, y).\u001b[39;00m\n\u001b[0;32m   <a href='file:///c%3A/Users/jhonp/miniconda3/lib/site-packages/sklearn/tree/_classes.py?line=1281'>1282</a>\u001b[0m \n\u001b[0;32m   <a href='file:///c%3A/Users/jhonp/miniconda3/lib/site-packages/sklearn/tree/_classes.py?line=1282'>1283</a>\u001b[0m \u001b[39m    Parameters\u001b[39;00m\n\u001b[1;32m   (...)\u001b[0m\n\u001b[0;32m   <a href='file:///c%3A/Users/jhonp/miniconda3/lib/site-packages/sklearn/tree/_classes.py?line=1311'>1312</a>\u001b[0m \u001b[39m        Fitted estimator.\u001b[39;00m\n\u001b[0;32m   <a href='file:///c%3A/Users/jhonp/miniconda3/lib/site-packages/sklearn/tree/_classes.py?line=1312'>1313</a>\u001b[0m \u001b[39m    \"\"\"\u001b[39;00m\n\u001b[1;32m-> <a href='file:///c%3A/Users/jhonp/miniconda3/lib/site-packages/sklearn/tree/_classes.py?line=1314'>1315</a>\u001b[0m     \u001b[39msuper\u001b[39;49m()\u001b[39m.\u001b[39;49mfit(\n\u001b[0;32m   <a href='file:///c%3A/Users/jhonp/miniconda3/lib/site-packages/sklearn/tree/_classes.py?line=1315'>1316</a>\u001b[0m         X,\n\u001b[0;32m   <a href='file:///c%3A/Users/jhonp/miniconda3/lib/site-packages/sklearn/tree/_classes.py?line=1316'>1317</a>\u001b[0m         y,\n\u001b[0;32m   <a href='file:///c%3A/Users/jhonp/miniconda3/lib/site-packages/sklearn/tree/_classes.py?line=1317'>1318</a>\u001b[0m         sample_weight\u001b[39m=\u001b[39;49msample_weight,\n\u001b[0;32m   <a href='file:///c%3A/Users/jhonp/miniconda3/lib/site-packages/sklearn/tree/_classes.py?line=1318'>1319</a>\u001b[0m         check_input\u001b[39m=\u001b[39;49mcheck_input,\n\u001b[0;32m   <a href='file:///c%3A/Users/jhonp/miniconda3/lib/site-packages/sklearn/tree/_classes.py?line=1319'>1320</a>\u001b[0m         X_idx_sorted\u001b[39m=\u001b[39;49mX_idx_sorted,\n\u001b[0;32m   <a href='file:///c%3A/Users/jhonp/miniconda3/lib/site-packages/sklearn/tree/_classes.py?line=1320'>1321</a>\u001b[0m     )\n\u001b[0;32m   <a href='file:///c%3A/Users/jhonp/miniconda3/lib/site-packages/sklearn/tree/_classes.py?line=1321'>1322</a>\u001b[0m     \u001b[39mreturn\u001b[39;00m \u001b[39mself\u001b[39m\n",
      "File \u001b[1;32m~\\miniconda3\\lib\\site-packages\\sklearn\\tree\\_classes.py:420\u001b[0m, in \u001b[0;36mBaseDecisionTree.fit\u001b[1;34m(self, X, y, sample_weight, check_input, X_idx_sorted)\u001b[0m\n\u001b[0;32m    <a href='file:///c%3A/Users/jhonp/miniconda3/lib/site-packages/sklearn/tree/_classes.py?line=408'>409</a>\u001b[0m \u001b[39melse\u001b[39;00m:\n\u001b[0;32m    <a href='file:///c%3A/Users/jhonp/miniconda3/lib/site-packages/sklearn/tree/_classes.py?line=409'>410</a>\u001b[0m     builder \u001b[39m=\u001b[39m BestFirstTreeBuilder(\n\u001b[0;32m    <a href='file:///c%3A/Users/jhonp/miniconda3/lib/site-packages/sklearn/tree/_classes.py?line=410'>411</a>\u001b[0m         splitter,\n\u001b[0;32m    <a href='file:///c%3A/Users/jhonp/miniconda3/lib/site-packages/sklearn/tree/_classes.py?line=411'>412</a>\u001b[0m         min_samples_split,\n\u001b[1;32m   (...)\u001b[0m\n\u001b[0;32m    <a href='file:///c%3A/Users/jhonp/miniconda3/lib/site-packages/sklearn/tree/_classes.py?line=416'>417</a>\u001b[0m         \u001b[39mself\u001b[39m\u001b[39m.\u001b[39mmin_impurity_decrease,\n\u001b[0;32m    <a href='file:///c%3A/Users/jhonp/miniconda3/lib/site-packages/sklearn/tree/_classes.py?line=417'>418</a>\u001b[0m     )\n\u001b[1;32m--> <a href='file:///c%3A/Users/jhonp/miniconda3/lib/site-packages/sklearn/tree/_classes.py?line=419'>420</a>\u001b[0m builder\u001b[39m.\u001b[39;49mbuild(\u001b[39mself\u001b[39;49m\u001b[39m.\u001b[39;49mtree_, X, y, sample_weight)\n\u001b[0;32m    <a href='file:///c%3A/Users/jhonp/miniconda3/lib/site-packages/sklearn/tree/_classes.py?line=421'>422</a>\u001b[0m \u001b[39mif\u001b[39;00m \u001b[39mself\u001b[39m\u001b[39m.\u001b[39mn_outputs_ \u001b[39m==\u001b[39m \u001b[39m1\u001b[39m \u001b[39mand\u001b[39;00m is_classifier(\u001b[39mself\u001b[39m):\n\u001b[0;32m    <a href='file:///c%3A/Users/jhonp/miniconda3/lib/site-packages/sklearn/tree/_classes.py?line=422'>423</a>\u001b[0m     \u001b[39mself\u001b[39m\u001b[39m.\u001b[39mn_classes_ \u001b[39m=\u001b[39m \u001b[39mself\u001b[39m\u001b[39m.\u001b[39mn_classes_[\u001b[39m0\u001b[39m]\n",
      "\u001b[1;31mKeyboardInterrupt\u001b[0m: "
     ]
    }
   ],
   "source": [
    "xgb.fit(X_train,Y_train.ravel())"
   ]
  },
  {
   "cell_type": "code",
   "execution_count": 7,
   "metadata": {},
   "outputs": [
    {
     "name": "stdout",
     "output_type": "stream",
     "text": [
      "Fitting 5 folds for each of 3 candidates, totalling 15 fits\n",
      "[Pipeline] ........... (step 1 of 3) Processing cleaner, total=   0.1s\n",
      "[Pipeline] ............... (step 2 of 3) Processing pca, total=   0.1s\n",
      "[Pipeline] ........... (step 1 of 3) Processing cleaner, total=   0.1s\n",
      "[Pipeline] ............... (step 2 of 3) Processing pca, total=   0.1s\n",
      "[Pipeline] ........... (step 1 of 3) Processing cleaner, total=   0.1s\n",
      "[Pipeline] ............... (step 2 of 3) Processing pca, total=   0.1s\n",
      "[Pipeline] ........... (step 1 of 3) Processing cleaner, total=   0.1s\n",
      "[Pipeline] ............... (step 2 of 3) Processing pca, total=   0.1s\n",
      "[Pipeline] ........... (step 1 of 3) Processing cleaner, total=   0.1s\n",
      "[Pipeline] ............... (step 2 of 3) Processing pca, total=   0.1s\n",
      "[Pipeline] ........... (step 1 of 3) Processing cleaner, total=   0.1s\n",
      "[Pipeline] ............... (step 2 of 3) Processing pca, total=   0.1s\n",
      "[Pipeline] ........... (step 1 of 3) Processing cleaner, total=   0.1s\n",
      "[Pipeline] ............... (step 2 of 3) Processing pca, total=   0.1s\n",
      "[Pipeline] ........... (step 1 of 3) Processing cleaner, total=   0.1s\n",
      "[Pipeline] ............... (step 2 of 3) Processing pca, total=   0.1s\n",
      "[Pipeline] ........... (step 1 of 3) Processing cleaner, total=   0.1s\n",
      "[Pipeline] ............... (step 2 of 3) Processing pca, total=   0.1s\n",
      "[Pipeline] ........... (step 1 of 3) Processing cleaner, total=   0.1s\n",
      "[Pipeline] ............... (step 2 of 3) Processing pca, total=   0.1s\n",
      "[Pipeline] ........... (step 1 of 3) Processing cleaner, total=   0.1s\n",
      "[Pipeline] ............... (step 2 of 3) Processing pca, total=   0.1s\n",
      "[Pipeline] ........... (step 1 of 3) Processing cleaner, total=   0.1s\n",
      "[Pipeline] ............... (step 2 of 3) Processing pca, total=   0.1s\n",
      "[Pipeline] ........... (step 1 of 3) Processing cleaner, total=   0.1s\n",
      "[Pipeline] ............... (step 2 of 3) Processing pca, total=   0.1s\n",
      "[Pipeline] ........... (step 1 of 3) Processing cleaner, total=   0.1s\n",
      "[Pipeline] ............... (step 2 of 3) Processing pca, total=   0.2s\n",
      "[Pipeline] ........... (step 1 of 3) Processing cleaner, total=   0.1s\n",
      "[Pipeline] ............... (step 2 of 3) Processing pca, total=   0.1s\n"
     ]
    },
    {
     "name": "stderr",
     "output_type": "stream",
     "text": [
      "C:\\Users\\jhonp\\miniconda3\\lib\\site-packages\\sklearn\\model_selection\\_validation.py:372: FitFailedWarning: \n",
      "15 fits failed out of a total of 15.\n",
      "The score on these train-test partitions for these parameters will be set to nan.\n",
      "If these failures are not expected, you can try to debug them by setting error_score='raise'.\n",
      "\n",
      "Below are more details about the failures:\n",
      "--------------------------------------------------------------------------------\n",
      "15 fits failed with the following error:\n",
      "Traceback (most recent call last):\n",
      "  File \"C:\\Users\\jhonp\\miniconda3\\lib\\site-packages\\sklearn\\model_selection\\_validation.py\", line 680, in _fit_and_score\n",
      "    estimator.fit(X_train, y_train, **fit_params)\n",
      "  File \"C:\\Users\\jhonp\\miniconda3\\lib\\site-packages\\sklearn\\pipeline.py\", line 394, in fit\n",
      "    self._final_estimator.fit(Xt, y, **fit_params_last_step)\n",
      "  File \"C:\\Users\\jhonp\\miniconda3\\lib\\site-packages\\sklearn\\linear_model\\_logistic.py\", line 1471, in fit\n",
      "    raise ValueError(\n",
      "ValueError: l1_ratio must be between 0 and 1; got (l1_ratio=None)\n",
      "\n",
      "  warnings.warn(some_fits_failed_message, FitFailedWarning)\n",
      "C:\\Users\\jhonp\\miniconda3\\lib\\site-packages\\sklearn\\model_selection\\_search.py:969: UserWarning: One or more of the test scores are non-finite: [nan nan nan]\n",
      "  warnings.warn(\n"
     ]
    },
    {
     "name": "stdout",
     "output_type": "stream",
     "text": [
      "[Pipeline] ........... (step 1 of 3) Processing cleaner, total=   0.1s\n",
      "[Pipeline] ............... (step 2 of 3) Processing pca, total=   0.1s\n"
     ]
    },
    {
     "ename": "ValueError",
     "evalue": "l1_ratio must be between 0 and 1; got (l1_ratio=None)",
     "output_type": "error",
     "traceback": [
      "\u001b[1;31m---------------------------------------------------------------------------\u001b[0m",
      "\u001b[1;31mValueError\u001b[0m                                Traceback (most recent call last)",
      "\u001b[1;32md:\\consultorias\\previsora\\churn-pv-mvp\\03-Entrenamiento-modelo.ipynb Cell 10'\u001b[0m in \u001b[0;36m<cell line: 1>\u001b[1;34m()\u001b[0m\n\u001b[1;32m----> <a href='vscode-notebook-cell:/d%3A/consultorias/previsora/churn-pv-mvp/03-Entrenamiento-modelo.ipynb#ch0000029?line=0'>1</a>\u001b[0m logistic\u001b[39m.\u001b[39;49mfit(X_train,Y_train\u001b[39m.\u001b[39;49mravel())\n",
      "File \u001b[1;32m~\\miniconda3\\lib\\site-packages\\sklearn\\model_selection\\_search.py:926\u001b[0m, in \u001b[0;36mBaseSearchCV.fit\u001b[1;34m(self, X, y, groups, **fit_params)\u001b[0m\n\u001b[0;32m    <a href='file:///c%3A/Users/jhonp/miniconda3/lib/site-packages/sklearn/model_selection/_search.py?line=923'>924</a>\u001b[0m refit_start_time \u001b[39m=\u001b[39m time\u001b[39m.\u001b[39mtime()\n\u001b[0;32m    <a href='file:///c%3A/Users/jhonp/miniconda3/lib/site-packages/sklearn/model_selection/_search.py?line=924'>925</a>\u001b[0m \u001b[39mif\u001b[39;00m y \u001b[39mis\u001b[39;00m \u001b[39mnot\u001b[39;00m \u001b[39mNone\u001b[39;00m:\n\u001b[1;32m--> <a href='file:///c%3A/Users/jhonp/miniconda3/lib/site-packages/sklearn/model_selection/_search.py?line=925'>926</a>\u001b[0m     \u001b[39mself\u001b[39m\u001b[39m.\u001b[39mbest_estimator_\u001b[39m.\u001b[39mfit(X, y, \u001b[39m*\u001b[39m\u001b[39m*\u001b[39mfit_params)\n\u001b[0;32m    <a href='file:///c%3A/Users/jhonp/miniconda3/lib/site-packages/sklearn/model_selection/_search.py?line=926'>927</a>\u001b[0m \u001b[39melse\u001b[39;00m:\n\u001b[0;32m    <a href='file:///c%3A/Users/jhonp/miniconda3/lib/site-packages/sklearn/model_selection/_search.py?line=927'>928</a>\u001b[0m     \u001b[39mself\u001b[39m\u001b[39m.\u001b[39mbest_estimator_\u001b[39m.\u001b[39mfit(X, \u001b[39m*\u001b[39m\u001b[39m*\u001b[39mfit_params)\n",
      "File \u001b[1;32m~\\miniconda3\\lib\\site-packages\\sklearn\\pipeline.py:394\u001b[0m, in \u001b[0;36mPipeline.fit\u001b[1;34m(self, X, y, **fit_params)\u001b[0m\n\u001b[0;32m    <a href='file:///c%3A/Users/jhonp/miniconda3/lib/site-packages/sklearn/pipeline.py?line=391'>392</a>\u001b[0m     \u001b[39mif\u001b[39;00m \u001b[39mself\u001b[39m\u001b[39m.\u001b[39m_final_estimator \u001b[39m!=\u001b[39m \u001b[39m\"\u001b[39m\u001b[39mpassthrough\u001b[39m\u001b[39m\"\u001b[39m:\n\u001b[0;32m    <a href='file:///c%3A/Users/jhonp/miniconda3/lib/site-packages/sklearn/pipeline.py?line=392'>393</a>\u001b[0m         fit_params_last_step \u001b[39m=\u001b[39m fit_params_steps[\u001b[39mself\u001b[39m\u001b[39m.\u001b[39msteps[\u001b[39m-\u001b[39m\u001b[39m1\u001b[39m][\u001b[39m0\u001b[39m]]\n\u001b[1;32m--> <a href='file:///c%3A/Users/jhonp/miniconda3/lib/site-packages/sklearn/pipeline.py?line=393'>394</a>\u001b[0m         \u001b[39mself\u001b[39m\u001b[39m.\u001b[39m_final_estimator\u001b[39m.\u001b[39mfit(Xt, y, \u001b[39m*\u001b[39m\u001b[39m*\u001b[39mfit_params_last_step)\n\u001b[0;32m    <a href='file:///c%3A/Users/jhonp/miniconda3/lib/site-packages/sklearn/pipeline.py?line=395'>396</a>\u001b[0m \u001b[39mreturn\u001b[39;00m \u001b[39mself\u001b[39m\n",
      "File \u001b[1;32m~\\miniconda3\\lib\\site-packages\\sklearn\\linear_model\\_logistic.py:1471\u001b[0m, in \u001b[0;36mLogisticRegression.fit\u001b[1;34m(self, X, y, sample_weight)\u001b[0m\n\u001b[0;32m   <a href='file:///c%3A/Users/jhonp/miniconda3/lib/site-packages/sklearn/linear_model/_logistic.py?line=1464'>1465</a>\u001b[0m \u001b[39mif\u001b[39;00m \u001b[39mself\u001b[39m\u001b[39m.\u001b[39mpenalty \u001b[39m==\u001b[39m \u001b[39m\"\u001b[39m\u001b[39melasticnet\u001b[39m\u001b[39m\"\u001b[39m:\n\u001b[0;32m   <a href='file:///c%3A/Users/jhonp/miniconda3/lib/site-packages/sklearn/linear_model/_logistic.py?line=1465'>1466</a>\u001b[0m     \u001b[39mif\u001b[39;00m (\n\u001b[0;32m   <a href='file:///c%3A/Users/jhonp/miniconda3/lib/site-packages/sklearn/linear_model/_logistic.py?line=1466'>1467</a>\u001b[0m         \u001b[39mnot\u001b[39;00m \u001b[39misinstance\u001b[39m(\u001b[39mself\u001b[39m\u001b[39m.\u001b[39ml1_ratio, numbers\u001b[39m.\u001b[39mNumber)\n\u001b[0;32m   <a href='file:///c%3A/Users/jhonp/miniconda3/lib/site-packages/sklearn/linear_model/_logistic.py?line=1467'>1468</a>\u001b[0m         \u001b[39mor\u001b[39;00m \u001b[39mself\u001b[39m\u001b[39m.\u001b[39ml1_ratio \u001b[39m<\u001b[39m \u001b[39m0\u001b[39m\n\u001b[0;32m   <a href='file:///c%3A/Users/jhonp/miniconda3/lib/site-packages/sklearn/linear_model/_logistic.py?line=1468'>1469</a>\u001b[0m         \u001b[39mor\u001b[39;00m \u001b[39mself\u001b[39m\u001b[39m.\u001b[39ml1_ratio \u001b[39m>\u001b[39m \u001b[39m1\u001b[39m\n\u001b[0;32m   <a href='file:///c%3A/Users/jhonp/miniconda3/lib/site-packages/sklearn/linear_model/_logistic.py?line=1469'>1470</a>\u001b[0m     ):\n\u001b[1;32m-> <a href='file:///c%3A/Users/jhonp/miniconda3/lib/site-packages/sklearn/linear_model/_logistic.py?line=1470'>1471</a>\u001b[0m         \u001b[39mraise\u001b[39;00m \u001b[39mValueError\u001b[39;00m(\n\u001b[0;32m   <a href='file:///c%3A/Users/jhonp/miniconda3/lib/site-packages/sklearn/linear_model/_logistic.py?line=1471'>1472</a>\u001b[0m             \u001b[39m\"\u001b[39m\u001b[39ml1_ratio must be between 0 and 1; got (l1_ratio=\u001b[39m\u001b[39m%r\u001b[39;00m\u001b[39m)\u001b[39m\u001b[39m\"\u001b[39m\n\u001b[0;32m   <a href='file:///c%3A/Users/jhonp/miniconda3/lib/site-packages/sklearn/linear_model/_logistic.py?line=1472'>1473</a>\u001b[0m             \u001b[39m%\u001b[39m \u001b[39mself\u001b[39m\u001b[39m.\u001b[39ml1_ratio\n\u001b[0;32m   <a href='file:///c%3A/Users/jhonp/miniconda3/lib/site-packages/sklearn/linear_model/_logistic.py?line=1473'>1474</a>\u001b[0m         )\n\u001b[0;32m   <a href='file:///c%3A/Users/jhonp/miniconda3/lib/site-packages/sklearn/linear_model/_logistic.py?line=1474'>1475</a>\u001b[0m \u001b[39melif\u001b[39;00m \u001b[39mself\u001b[39m\u001b[39m.\u001b[39ml1_ratio \u001b[39mis\u001b[39;00m \u001b[39mnot\u001b[39;00m \u001b[39mNone\u001b[39;00m:\n\u001b[0;32m   <a href='file:///c%3A/Users/jhonp/miniconda3/lib/site-packages/sklearn/linear_model/_logistic.py?line=1475'>1476</a>\u001b[0m     warnings\u001b[39m.\u001b[39mwarn(\n\u001b[0;32m   <a href='file:///c%3A/Users/jhonp/miniconda3/lib/site-packages/sklearn/linear_model/_logistic.py?line=1476'>1477</a>\u001b[0m         \u001b[39m\"\u001b[39m\u001b[39ml1_ratio parameter is only used when penalty is \u001b[39m\u001b[39m\"\u001b[39m\n\u001b[0;32m   <a href='file:///c%3A/Users/jhonp/miniconda3/lib/site-packages/sklearn/linear_model/_logistic.py?line=1477'>1478</a>\u001b[0m         \u001b[39m\"\u001b[39m\u001b[39m'\u001b[39m\u001b[39melasticnet\u001b[39m\u001b[39m'\u001b[39m\u001b[39m. Got \u001b[39m\u001b[39m\"\u001b[39m\n\u001b[0;32m   <a href='file:///c%3A/Users/jhonp/miniconda3/lib/site-packages/sklearn/linear_model/_logistic.py?line=1478'>1479</a>\u001b[0m         \u001b[39m\"\u001b[39m\u001b[39m(penalty=\u001b[39m\u001b[39m{}\u001b[39;00m\u001b[39m)\u001b[39m\u001b[39m\"\u001b[39m\u001b[39m.\u001b[39mformat(\u001b[39mself\u001b[39m\u001b[39m.\u001b[39mpenalty)\n\u001b[0;32m   <a href='file:///c%3A/Users/jhonp/miniconda3/lib/site-packages/sklearn/linear_model/_logistic.py?line=1479'>1480</a>\u001b[0m     )\n",
      "\u001b[1;31mValueError\u001b[0m: l1_ratio must be between 0 and 1; got (l1_ratio=None)"
     ]
    }
   ],
   "source": [
    "logistic.fit(X_train,Y_train.ravel())"
   ]
  },
  {
   "cell_type": "code",
   "execution_count": 15,
   "metadata": {},
   "outputs": [
    {
     "name": "stdout",
     "output_type": "stream",
     "text": [
      "Fitting 5 folds for each of 1 candidates, totalling 5 fits\n",
      "[Pipeline] ........... (step 1 of 2) Processing cleaner, total=   0.1s\n",
      "[Pipeline] ............. (step 2 of 2) Processing model, total=   0.2s\n",
      "[Pipeline] ........... (step 1 of 2) Processing cleaner, total=   0.1s\n",
      "[Pipeline] ............. (step 2 of 2) Processing model, total=   0.2s\n",
      "[Pipeline] ........... (step 1 of 2) Processing cleaner, total=   0.1s\n",
      "[Pipeline] ............. (step 2 of 2) Processing model, total=   0.2s\n",
      "[Pipeline] ........... (step 1 of 2) Processing cleaner, total=   0.1s\n",
      "[Pipeline] ............. (step 2 of 2) Processing model, total=   0.2s\n",
      "[Pipeline] ........... (step 1 of 2) Processing cleaner, total=   0.1s\n",
      "[Pipeline] ............. (step 2 of 2) Processing model, total=   0.2s\n",
      "[Pipeline] ........... (step 1 of 2) Processing cleaner, total=   0.1s\n",
      "[Pipeline] ............. (step 2 of 2) Processing model, total=   0.3s\n"
     ]
    },
    {
     "data": {
      "text/html": [
       "<style>#sk-1bea8421-8f50-402a-8eea-b9889e319d55 {color: black;background-color: white;}#sk-1bea8421-8f50-402a-8eea-b9889e319d55 pre{padding: 0;}#sk-1bea8421-8f50-402a-8eea-b9889e319d55 div.sk-toggleable {background-color: white;}#sk-1bea8421-8f50-402a-8eea-b9889e319d55 label.sk-toggleable__label {cursor: pointer;display: block;width: 100%;margin-bottom: 0;padding: 0.3em;box-sizing: border-box;text-align: center;}#sk-1bea8421-8f50-402a-8eea-b9889e319d55 label.sk-toggleable__label-arrow:before {content: \"▸\";float: left;margin-right: 0.25em;color: #696969;}#sk-1bea8421-8f50-402a-8eea-b9889e319d55 label.sk-toggleable__label-arrow:hover:before {color: black;}#sk-1bea8421-8f50-402a-8eea-b9889e319d55 div.sk-estimator:hover label.sk-toggleable__label-arrow:before {color: black;}#sk-1bea8421-8f50-402a-8eea-b9889e319d55 div.sk-toggleable__content {max-height: 0;max-width: 0;overflow: hidden;text-align: left;background-color: #f0f8ff;}#sk-1bea8421-8f50-402a-8eea-b9889e319d55 div.sk-toggleable__content pre {margin: 0.2em;color: black;border-radius: 0.25em;background-color: #f0f8ff;}#sk-1bea8421-8f50-402a-8eea-b9889e319d55 input.sk-toggleable__control:checked~div.sk-toggleable__content {max-height: 200px;max-width: 100%;overflow: auto;}#sk-1bea8421-8f50-402a-8eea-b9889e319d55 input.sk-toggleable__control:checked~label.sk-toggleable__label-arrow:before {content: \"▾\";}#sk-1bea8421-8f50-402a-8eea-b9889e319d55 div.sk-estimator input.sk-toggleable__control:checked~label.sk-toggleable__label {background-color: #d4ebff;}#sk-1bea8421-8f50-402a-8eea-b9889e319d55 div.sk-label input.sk-toggleable__control:checked~label.sk-toggleable__label {background-color: #d4ebff;}#sk-1bea8421-8f50-402a-8eea-b9889e319d55 input.sk-hidden--visually {border: 0;clip: rect(1px 1px 1px 1px);clip: rect(1px, 1px, 1px, 1px);height: 1px;margin: -1px;overflow: hidden;padding: 0;position: absolute;width: 1px;}#sk-1bea8421-8f50-402a-8eea-b9889e319d55 div.sk-estimator {font-family: monospace;background-color: #f0f8ff;border: 1px dotted black;border-radius: 0.25em;box-sizing: border-box;margin-bottom: 0.5em;}#sk-1bea8421-8f50-402a-8eea-b9889e319d55 div.sk-estimator:hover {background-color: #d4ebff;}#sk-1bea8421-8f50-402a-8eea-b9889e319d55 div.sk-parallel-item::after {content: \"\";width: 100%;border-bottom: 1px solid gray;flex-grow: 1;}#sk-1bea8421-8f50-402a-8eea-b9889e319d55 div.sk-label:hover label.sk-toggleable__label {background-color: #d4ebff;}#sk-1bea8421-8f50-402a-8eea-b9889e319d55 div.sk-serial::before {content: \"\";position: absolute;border-left: 1px solid gray;box-sizing: border-box;top: 2em;bottom: 0;left: 50%;}#sk-1bea8421-8f50-402a-8eea-b9889e319d55 div.sk-serial {display: flex;flex-direction: column;align-items: center;background-color: white;padding-right: 0.2em;padding-left: 0.2em;}#sk-1bea8421-8f50-402a-8eea-b9889e319d55 div.sk-item {z-index: 1;}#sk-1bea8421-8f50-402a-8eea-b9889e319d55 div.sk-parallel {display: flex;align-items: stretch;justify-content: center;background-color: white;}#sk-1bea8421-8f50-402a-8eea-b9889e319d55 div.sk-parallel::before {content: \"\";position: absolute;border-left: 1px solid gray;box-sizing: border-box;top: 2em;bottom: 0;left: 50%;}#sk-1bea8421-8f50-402a-8eea-b9889e319d55 div.sk-parallel-item {display: flex;flex-direction: column;position: relative;background-color: white;}#sk-1bea8421-8f50-402a-8eea-b9889e319d55 div.sk-parallel-item:first-child::after {align-self: flex-end;width: 50%;}#sk-1bea8421-8f50-402a-8eea-b9889e319d55 div.sk-parallel-item:last-child::after {align-self: flex-start;width: 50%;}#sk-1bea8421-8f50-402a-8eea-b9889e319d55 div.sk-parallel-item:only-child::after {width: 0;}#sk-1bea8421-8f50-402a-8eea-b9889e319d55 div.sk-dashed-wrapped {border: 1px dashed gray;margin: 0 0.4em 0.5em 0.4em;box-sizing: border-box;padding-bottom: 0.4em;background-color: white;position: relative;}#sk-1bea8421-8f50-402a-8eea-b9889e319d55 div.sk-label label {font-family: monospace;font-weight: bold;background-color: white;display: inline-block;line-height: 1.2em;}#sk-1bea8421-8f50-402a-8eea-b9889e319d55 div.sk-label-container {position: relative;z-index: 2;text-align: center;}#sk-1bea8421-8f50-402a-8eea-b9889e319d55 div.sk-container {/* jupyter's `normalize.less` sets `[hidden] { display: none; }` but bootstrap.min.css set `[hidden] { display: none !important; }` so we also need the `!important` here to be able to override the default hidden behavior on the sphinx rendered scikit-learn.org. See: https://github.com/scikit-learn/scikit-learn/issues/21755 */display: inline-block !important;position: relative;}#sk-1bea8421-8f50-402a-8eea-b9889e319d55 div.sk-text-repr-fallback {display: none;}</style><div id=\"sk-1bea8421-8f50-402a-8eea-b9889e319d55\" class=\"sk-top-container\"><div class=\"sk-text-repr-fallback\"><pre>GridSearchCV(cv=5,\n",
       "             estimator=Pipeline(steps=[(&#x27;cleaner&#x27;,\n",
       "                                        ColumnTransformer(transformers=[(&#x27;num&#x27;,\n",
       "                                                                         Pipeline(steps=[(&#x27;imputer&#x27;,\n",
       "                                                                                          SimpleImputer(fill_value=0,\n",
       "                                                                                                        strategy=&#x27;constant&#x27;)),\n",
       "                                                                                         (&#x27;scaler&#x27;,\n",
       "                                                                                          StandardScaler())]),\n",
       "                                                                         [&#x27;n_prod_prev&#x27;,\n",
       "                                                                          &#x27;total_siniestros&#x27;,\n",
       "                                                                          &#x27;total_pagado_smmlv&#x27;,\n",
       "                                                                          &#x27;anios_ultimo_siniestro&#x27;,\n",
       "                                                                          &#x27;Activos__c&#x27;,\n",
       "                                                                          &#x27;AnnualRevenue&#x27;,\n",
       "                                                                          &#x27;MontoAnual__c&#x27;,\n",
       "                                                                          &#x27;OtrosIngresos__c&#x27;,\n",
       "                                                                          &#x27;Egres...\n",
       "                                                                          &#x27;EstadoCivil__pc&#x27;,\n",
       "                                                                          &#x27;Genero__pc&#x27;])])),\n",
       "                                       (&#x27;model&#x27;, LGBMClassifier())],\n",
       "                                verbose=True),\n",
       "             param_grid={&#x27;model__colsample_bytree&#x27;: [0.8],\n",
       "                         &#x27;model__max_depth&#x27;: [15],\n",
       "                         &#x27;model__min_split_gain&#x27;: [0.3],\n",
       "                         &#x27;model__n_estimators&#x27;: [100],\n",
       "                         &#x27;model__num_leaves&#x27;: [50], &#x27;model__reg_alpha&#x27;: [1.1],\n",
       "                         &#x27;model__reg_lambda&#x27;: [1.1], &#x27;model__subsample&#x27;: [0.9],\n",
       "                         &#x27;model__subsample_freq&#x27;: [20]},\n",
       "             scoring=&#x27;roc_auc&#x27;, verbose=True)</pre><b>Please rerun this cell to show the HTML repr or trust the notebook.</b></div><div class=\"sk-container\" hidden><div class=\"sk-item sk-dashed-wrapped\"><div class=\"sk-label-container\"><div class=\"sk-label sk-toggleable\"><input class=\"sk-toggleable__control sk-hidden--visually\" id=\"4a0fd0f4-de30-4fe7-bfdd-5230ff62ad7f\" type=\"checkbox\" ><label for=\"4a0fd0f4-de30-4fe7-bfdd-5230ff62ad7f\" class=\"sk-toggleable__label sk-toggleable__label-arrow\">GridSearchCV</label><div class=\"sk-toggleable__content\"><pre>GridSearchCV(cv=5,\n",
       "             estimator=Pipeline(steps=[(&#x27;cleaner&#x27;,\n",
       "                                        ColumnTransformer(transformers=[(&#x27;num&#x27;,\n",
       "                                                                         Pipeline(steps=[(&#x27;imputer&#x27;,\n",
       "                                                                                          SimpleImputer(fill_value=0,\n",
       "                                                                                                        strategy=&#x27;constant&#x27;)),\n",
       "                                                                                         (&#x27;scaler&#x27;,\n",
       "                                                                                          StandardScaler())]),\n",
       "                                                                         [&#x27;n_prod_prev&#x27;,\n",
       "                                                                          &#x27;total_siniestros&#x27;,\n",
       "                                                                          &#x27;total_pagado_smmlv&#x27;,\n",
       "                                                                          &#x27;anios_ultimo_siniestro&#x27;,\n",
       "                                                                          &#x27;Activos__c&#x27;,\n",
       "                                                                          &#x27;AnnualRevenue&#x27;,\n",
       "                                                                          &#x27;MontoAnual__c&#x27;,\n",
       "                                                                          &#x27;OtrosIngresos__c&#x27;,\n",
       "                                                                          &#x27;Egres...\n",
       "                                                                          &#x27;EstadoCivil__pc&#x27;,\n",
       "                                                                          &#x27;Genero__pc&#x27;])])),\n",
       "                                       (&#x27;model&#x27;, LGBMClassifier())],\n",
       "                                verbose=True),\n",
       "             param_grid={&#x27;model__colsample_bytree&#x27;: [0.8],\n",
       "                         &#x27;model__max_depth&#x27;: [15],\n",
       "                         &#x27;model__min_split_gain&#x27;: [0.3],\n",
       "                         &#x27;model__n_estimators&#x27;: [100],\n",
       "                         &#x27;model__num_leaves&#x27;: [50], &#x27;model__reg_alpha&#x27;: [1.1],\n",
       "                         &#x27;model__reg_lambda&#x27;: [1.1], &#x27;model__subsample&#x27;: [0.9],\n",
       "                         &#x27;model__subsample_freq&#x27;: [20]},\n",
       "             scoring=&#x27;roc_auc&#x27;, verbose=True)</pre></div></div></div><div class=\"sk-parallel\"><div class=\"sk-parallel-item\"><div class=\"sk-item\"><div class=\"sk-serial\"><div class=\"sk-item\"><div class=\"sk-serial\"><div class=\"sk-item sk-dashed-wrapped\"><div class=\"sk-label-container\"><div class=\"sk-label sk-toggleable\"><input class=\"sk-toggleable__control sk-hidden--visually\" id=\"400df6c2-387a-4151-ba7b-6ec785cea95e\" type=\"checkbox\" ><label for=\"400df6c2-387a-4151-ba7b-6ec785cea95e\" class=\"sk-toggleable__label sk-toggleable__label-arrow\">cleaner: ColumnTransformer</label><div class=\"sk-toggleable__content\"><pre>ColumnTransformer(transformers=[(&#x27;num&#x27;,\n",
       "                                 Pipeline(steps=[(&#x27;imputer&#x27;,\n",
       "                                                  SimpleImputer(fill_value=0,\n",
       "                                                                strategy=&#x27;constant&#x27;)),\n",
       "                                                 (&#x27;scaler&#x27;, StandardScaler())]),\n",
       "                                 [&#x27;n_prod_prev&#x27;, &#x27;total_siniestros&#x27;,\n",
       "                                  &#x27;total_pagado_smmlv&#x27;,\n",
       "                                  &#x27;anios_ultimo_siniestro&#x27;, &#x27;Activos__c&#x27;,\n",
       "                                  &#x27;AnnualRevenue&#x27;, &#x27;MontoAnual__c&#x27;,\n",
       "                                  &#x27;OtrosIngresos__c&#x27;, &#x27;EgresosAnuales__c&#x27;,\n",
       "                                  &#x27;edad&#x27;]),\n",
       "                                (&#x27;cat&#x27;, OneHotEncoder(),\n",
       "                                 [&#x27;tipo_poliza_name&#x27;, &#x27;tipo_prod_desc&#x27;,\n",
       "                                  &#x27;ClaseVehiculo__c&#x27;, &#x27;TipoVehiculo__c&#x27;,\n",
       "                                  &#x27;EstadoCivil__pc&#x27;, &#x27;Genero__pc&#x27;])])</pre></div></div></div><div class=\"sk-parallel\"><div class=\"sk-parallel-item\"><div class=\"sk-item\"><div class=\"sk-label-container\"><div class=\"sk-label sk-toggleable\"><input class=\"sk-toggleable__control sk-hidden--visually\" id=\"6d3980e0-4dc3-4b20-a67c-06c570812436\" type=\"checkbox\" ><label for=\"6d3980e0-4dc3-4b20-a67c-06c570812436\" class=\"sk-toggleable__label sk-toggleable__label-arrow\">num</label><div class=\"sk-toggleable__content\"><pre>[&#x27;n_prod_prev&#x27;, &#x27;total_siniestros&#x27;, &#x27;total_pagado_smmlv&#x27;, &#x27;anios_ultimo_siniestro&#x27;, &#x27;Activos__c&#x27;, &#x27;AnnualRevenue&#x27;, &#x27;MontoAnual__c&#x27;, &#x27;OtrosIngresos__c&#x27;, &#x27;EgresosAnuales__c&#x27;, &#x27;edad&#x27;]</pre></div></div></div><div class=\"sk-serial\"><div class=\"sk-item\"><div class=\"sk-serial\"><div class=\"sk-item\"><div class=\"sk-estimator sk-toggleable\"><input class=\"sk-toggleable__control sk-hidden--visually\" id=\"7e13528e-69b0-4ab6-a029-eba6aa501f54\" type=\"checkbox\" ><label for=\"7e13528e-69b0-4ab6-a029-eba6aa501f54\" class=\"sk-toggleable__label sk-toggleable__label-arrow\">SimpleImputer</label><div class=\"sk-toggleable__content\"><pre>SimpleImputer(fill_value=0, strategy=&#x27;constant&#x27;)</pre></div></div></div><div class=\"sk-item\"><div class=\"sk-estimator sk-toggleable\"><input class=\"sk-toggleable__control sk-hidden--visually\" id=\"aadcf735-4fe4-49d4-b941-4127d4bf901c\" type=\"checkbox\" ><label for=\"aadcf735-4fe4-49d4-b941-4127d4bf901c\" class=\"sk-toggleable__label sk-toggleable__label-arrow\">StandardScaler</label><div class=\"sk-toggleable__content\"><pre>StandardScaler()</pre></div></div></div></div></div></div></div></div><div class=\"sk-parallel-item\"><div class=\"sk-item\"><div class=\"sk-label-container\"><div class=\"sk-label sk-toggleable\"><input class=\"sk-toggleable__control sk-hidden--visually\" id=\"1f646210-6202-4082-9550-1fef3923ae0c\" type=\"checkbox\" ><label for=\"1f646210-6202-4082-9550-1fef3923ae0c\" class=\"sk-toggleable__label sk-toggleable__label-arrow\">cat</label><div class=\"sk-toggleable__content\"><pre>[&#x27;tipo_poliza_name&#x27;, &#x27;tipo_prod_desc&#x27;, &#x27;ClaseVehiculo__c&#x27;, &#x27;TipoVehiculo__c&#x27;, &#x27;EstadoCivil__pc&#x27;, &#x27;Genero__pc&#x27;]</pre></div></div></div><div class=\"sk-serial\"><div class=\"sk-item\"><div class=\"sk-estimator sk-toggleable\"><input class=\"sk-toggleable__control sk-hidden--visually\" id=\"02eff2d8-e037-48e8-8b18-cbbabaa45f20\" type=\"checkbox\" ><label for=\"02eff2d8-e037-48e8-8b18-cbbabaa45f20\" class=\"sk-toggleable__label sk-toggleable__label-arrow\">OneHotEncoder</label><div class=\"sk-toggleable__content\"><pre>OneHotEncoder()</pre></div></div></div></div></div></div></div></div><div class=\"sk-item\"><div class=\"sk-estimator sk-toggleable\"><input class=\"sk-toggleable__control sk-hidden--visually\" id=\"06ea3a43-f65e-445e-9742-7b91274fd524\" type=\"checkbox\" ><label for=\"06ea3a43-f65e-445e-9742-7b91274fd524\" class=\"sk-toggleable__label sk-toggleable__label-arrow\">LGBMClassifier</label><div class=\"sk-toggleable__content\"><pre>LGBMClassifier()</pre></div></div></div></div></div></div></div></div></div></div></div></div>"
      ],
      "text/plain": [
       "GridSearchCV(cv=5,\n",
       "             estimator=Pipeline(steps=[('cleaner',\n",
       "                                        ColumnTransformer(transformers=[('num',\n",
       "                                                                         Pipeline(steps=[('imputer',\n",
       "                                                                                          SimpleImputer(fill_value=0,\n",
       "                                                                                                        strategy='constant')),\n",
       "                                                                                         ('scaler',\n",
       "                                                                                          StandardScaler())]),\n",
       "                                                                         ['n_prod_prev',\n",
       "                                                                          'total_siniestros',\n",
       "                                                                          'total_pagado_smmlv',\n",
       "                                                                          'anios_ultimo_siniestro',\n",
       "                                                                          'Activos__c',\n",
       "                                                                          'AnnualRevenue',\n",
       "                                                                          'MontoAnual__c',\n",
       "                                                                          'OtrosIngresos__c',\n",
       "                                                                          'Egres...\n",
       "                                                                          'EstadoCivil__pc',\n",
       "                                                                          'Genero__pc'])])),\n",
       "                                       ('model', LGBMClassifier())],\n",
       "                                verbose=True),\n",
       "             param_grid={'model__colsample_bytree': [0.8],\n",
       "                         'model__max_depth': [15],\n",
       "                         'model__min_split_gain': [0.3],\n",
       "                         'model__n_estimators': [100],\n",
       "                         'model__num_leaves': [50], 'model__reg_alpha': [1.1],\n",
       "                         'model__reg_lambda': [1.1], 'model__subsample': [0.9],\n",
       "                         'model__subsample_freq': [20]},\n",
       "             scoring='roc_auc', verbose=True)"
      ]
     },
     "execution_count": 15,
     "metadata": {},
     "output_type": "execute_result"
    }
   ],
   "source": [
    "lightgbm.fit(X_train,Y_train.ravel())\n"
   ]
  },
  {
   "cell_type": "code",
   "execution_count": 74,
   "metadata": {},
   "outputs": [
    {
     "data": {
      "text/html": [
       "<style>#sk-37f81734-ae92-4cc0-afb0-54da81068519 {color: black;background-color: white;}#sk-37f81734-ae92-4cc0-afb0-54da81068519 pre{padding: 0;}#sk-37f81734-ae92-4cc0-afb0-54da81068519 div.sk-toggleable {background-color: white;}#sk-37f81734-ae92-4cc0-afb0-54da81068519 label.sk-toggleable__label {cursor: pointer;display: block;width: 100%;margin-bottom: 0;padding: 0.3em;box-sizing: border-box;text-align: center;}#sk-37f81734-ae92-4cc0-afb0-54da81068519 label.sk-toggleable__label-arrow:before {content: \"▸\";float: left;margin-right: 0.25em;color: #696969;}#sk-37f81734-ae92-4cc0-afb0-54da81068519 label.sk-toggleable__label-arrow:hover:before {color: black;}#sk-37f81734-ae92-4cc0-afb0-54da81068519 div.sk-estimator:hover label.sk-toggleable__label-arrow:before {color: black;}#sk-37f81734-ae92-4cc0-afb0-54da81068519 div.sk-toggleable__content {max-height: 0;max-width: 0;overflow: hidden;text-align: left;background-color: #f0f8ff;}#sk-37f81734-ae92-4cc0-afb0-54da81068519 div.sk-toggleable__content pre {margin: 0.2em;color: black;border-radius: 0.25em;background-color: #f0f8ff;}#sk-37f81734-ae92-4cc0-afb0-54da81068519 input.sk-toggleable__control:checked~div.sk-toggleable__content {max-height: 200px;max-width: 100%;overflow: auto;}#sk-37f81734-ae92-4cc0-afb0-54da81068519 input.sk-toggleable__control:checked~label.sk-toggleable__label-arrow:before {content: \"▾\";}#sk-37f81734-ae92-4cc0-afb0-54da81068519 div.sk-estimator input.sk-toggleable__control:checked~label.sk-toggleable__label {background-color: #d4ebff;}#sk-37f81734-ae92-4cc0-afb0-54da81068519 div.sk-label input.sk-toggleable__control:checked~label.sk-toggleable__label {background-color: #d4ebff;}#sk-37f81734-ae92-4cc0-afb0-54da81068519 input.sk-hidden--visually {border: 0;clip: rect(1px 1px 1px 1px);clip: rect(1px, 1px, 1px, 1px);height: 1px;margin: -1px;overflow: hidden;padding: 0;position: absolute;width: 1px;}#sk-37f81734-ae92-4cc0-afb0-54da81068519 div.sk-estimator {font-family: monospace;background-color: #f0f8ff;border: 1px dotted black;border-radius: 0.25em;box-sizing: border-box;margin-bottom: 0.5em;}#sk-37f81734-ae92-4cc0-afb0-54da81068519 div.sk-estimator:hover {background-color: #d4ebff;}#sk-37f81734-ae92-4cc0-afb0-54da81068519 div.sk-parallel-item::after {content: \"\";width: 100%;border-bottom: 1px solid gray;flex-grow: 1;}#sk-37f81734-ae92-4cc0-afb0-54da81068519 div.sk-label:hover label.sk-toggleable__label {background-color: #d4ebff;}#sk-37f81734-ae92-4cc0-afb0-54da81068519 div.sk-serial::before {content: \"\";position: absolute;border-left: 1px solid gray;box-sizing: border-box;top: 2em;bottom: 0;left: 50%;}#sk-37f81734-ae92-4cc0-afb0-54da81068519 div.sk-serial {display: flex;flex-direction: column;align-items: center;background-color: white;padding-right: 0.2em;padding-left: 0.2em;}#sk-37f81734-ae92-4cc0-afb0-54da81068519 div.sk-item {z-index: 1;}#sk-37f81734-ae92-4cc0-afb0-54da81068519 div.sk-parallel {display: flex;align-items: stretch;justify-content: center;background-color: white;}#sk-37f81734-ae92-4cc0-afb0-54da81068519 div.sk-parallel::before {content: \"\";position: absolute;border-left: 1px solid gray;box-sizing: border-box;top: 2em;bottom: 0;left: 50%;}#sk-37f81734-ae92-4cc0-afb0-54da81068519 div.sk-parallel-item {display: flex;flex-direction: column;position: relative;background-color: white;}#sk-37f81734-ae92-4cc0-afb0-54da81068519 div.sk-parallel-item:first-child::after {align-self: flex-end;width: 50%;}#sk-37f81734-ae92-4cc0-afb0-54da81068519 div.sk-parallel-item:last-child::after {align-self: flex-start;width: 50%;}#sk-37f81734-ae92-4cc0-afb0-54da81068519 div.sk-parallel-item:only-child::after {width: 0;}#sk-37f81734-ae92-4cc0-afb0-54da81068519 div.sk-dashed-wrapped {border: 1px dashed gray;margin: 0 0.4em 0.5em 0.4em;box-sizing: border-box;padding-bottom: 0.4em;background-color: white;position: relative;}#sk-37f81734-ae92-4cc0-afb0-54da81068519 div.sk-label label {font-family: monospace;font-weight: bold;background-color: white;display: inline-block;line-height: 1.2em;}#sk-37f81734-ae92-4cc0-afb0-54da81068519 div.sk-label-container {position: relative;z-index: 2;text-align: center;}#sk-37f81734-ae92-4cc0-afb0-54da81068519 div.sk-container {/* jupyter's `normalize.less` sets `[hidden] { display: none; }` but bootstrap.min.css set `[hidden] { display: none !important; }` so we also need the `!important` here to be able to override the default hidden behavior on the sphinx rendered scikit-learn.org. See: https://github.com/scikit-learn/scikit-learn/issues/21755 */display: inline-block !important;position: relative;}#sk-37f81734-ae92-4cc0-afb0-54da81068519 div.sk-text-repr-fallback {display: none;}</style><div id=\"sk-37f81734-ae92-4cc0-afb0-54da81068519\" class=\"sk-top-container\"><div class=\"sk-text-repr-fallback\"><pre>Pipeline(steps=[(&#x27;cleaner&#x27;,\n",
       "                 ColumnTransformer(transformers=[(&#x27;num&#x27;,\n",
       "                                                  Pipeline(steps=[(&#x27;imputer&#x27;,\n",
       "                                                                   SimpleImputer(fill_value=0,\n",
       "                                                                                 strategy=&#x27;constant&#x27;)),\n",
       "                                                                  (&#x27;scaler&#x27;,\n",
       "                                                                   StandardScaler())]),\n",
       "                                                  [&#x27;n_prod_prev&#x27;,\n",
       "                                                   &#x27;total_siniestros&#x27;,\n",
       "                                                   &#x27;total_pagado_smmlv&#x27;,\n",
       "                                                   &#x27;anios_ultimo_siniestro&#x27;,\n",
       "                                                   &#x27;Activos__c&#x27;,\n",
       "                                                   &#x27;AnnualRevenue&#x27;,\n",
       "                                                   &#x27;MontoAnual__c&#x27;,\n",
       "                                                   &#x27;OtrosIngresos__c&#x27;,\n",
       "                                                   &#x27;EgresosAnuales__c&#x27;,\n",
       "                                                   &#x27;edad&#x27;]),\n",
       "                                                 (&#x27;cat&#x27;,\n",
       "                                                  OneHotEncoder(handle_unknown=&#x27;ignore&#x27;),\n",
       "                                                  [&#x27;tipo_poliza_name&#x27;,\n",
       "                                                   &#x27;tipo_prod_desc&#x27;,\n",
       "                                                   &#x27;ClaseVehiculo__c&#x27;,\n",
       "                                                   &#x27;TipoVehiculo__c&#x27;,\n",
       "                                                   &#x27;EstadoCivil__pc&#x27;,\n",
       "                                                   &#x27;Genero__pc&#x27;])])),\n",
       "                (&#x27;model&#x27;, GradientBoostingClassifier())],\n",
       "         verbose=True)</pre><b>Please rerun this cell to show the HTML repr or trust the notebook.</b></div><div class=\"sk-container\" hidden><div class=\"sk-item sk-dashed-wrapped\"><div class=\"sk-label-container\"><div class=\"sk-label sk-toggleable\"><input class=\"sk-toggleable__control sk-hidden--visually\" id=\"92b93c1c-35b1-4eac-bc7e-5dc2f74e0925\" type=\"checkbox\" ><label for=\"92b93c1c-35b1-4eac-bc7e-5dc2f74e0925\" class=\"sk-toggleable__label sk-toggleable__label-arrow\">Pipeline</label><div class=\"sk-toggleable__content\"><pre>Pipeline(steps=[(&#x27;cleaner&#x27;,\n",
       "                 ColumnTransformer(transformers=[(&#x27;num&#x27;,\n",
       "                                                  Pipeline(steps=[(&#x27;imputer&#x27;,\n",
       "                                                                   SimpleImputer(fill_value=0,\n",
       "                                                                                 strategy=&#x27;constant&#x27;)),\n",
       "                                                                  (&#x27;scaler&#x27;,\n",
       "                                                                   StandardScaler())]),\n",
       "                                                  [&#x27;n_prod_prev&#x27;,\n",
       "                                                   &#x27;total_siniestros&#x27;,\n",
       "                                                   &#x27;total_pagado_smmlv&#x27;,\n",
       "                                                   &#x27;anios_ultimo_siniestro&#x27;,\n",
       "                                                   &#x27;Activos__c&#x27;,\n",
       "                                                   &#x27;AnnualRevenue&#x27;,\n",
       "                                                   &#x27;MontoAnual__c&#x27;,\n",
       "                                                   &#x27;OtrosIngresos__c&#x27;,\n",
       "                                                   &#x27;EgresosAnuales__c&#x27;,\n",
       "                                                   &#x27;edad&#x27;]),\n",
       "                                                 (&#x27;cat&#x27;,\n",
       "                                                  OneHotEncoder(handle_unknown=&#x27;ignore&#x27;),\n",
       "                                                  [&#x27;tipo_poliza_name&#x27;,\n",
       "                                                   &#x27;tipo_prod_desc&#x27;,\n",
       "                                                   &#x27;ClaseVehiculo__c&#x27;,\n",
       "                                                   &#x27;TipoVehiculo__c&#x27;,\n",
       "                                                   &#x27;EstadoCivil__pc&#x27;,\n",
       "                                                   &#x27;Genero__pc&#x27;])])),\n",
       "                (&#x27;model&#x27;, GradientBoostingClassifier())],\n",
       "         verbose=True)</pre></div></div></div><div class=\"sk-serial\"><div class=\"sk-item sk-dashed-wrapped\"><div class=\"sk-label-container\"><div class=\"sk-label sk-toggleable\"><input class=\"sk-toggleable__control sk-hidden--visually\" id=\"26f8889c-c9d6-4a2a-96e7-19f2f7b2e4c6\" type=\"checkbox\" ><label for=\"26f8889c-c9d6-4a2a-96e7-19f2f7b2e4c6\" class=\"sk-toggleable__label sk-toggleable__label-arrow\">cleaner: ColumnTransformer</label><div class=\"sk-toggleable__content\"><pre>ColumnTransformer(transformers=[(&#x27;num&#x27;,\n",
       "                                 Pipeline(steps=[(&#x27;imputer&#x27;,\n",
       "                                                  SimpleImputer(fill_value=0,\n",
       "                                                                strategy=&#x27;constant&#x27;)),\n",
       "                                                 (&#x27;scaler&#x27;, StandardScaler())]),\n",
       "                                 [&#x27;n_prod_prev&#x27;, &#x27;total_siniestros&#x27;,\n",
       "                                  &#x27;total_pagado_smmlv&#x27;,\n",
       "                                  &#x27;anios_ultimo_siniestro&#x27;, &#x27;Activos__c&#x27;,\n",
       "                                  &#x27;AnnualRevenue&#x27;, &#x27;MontoAnual__c&#x27;,\n",
       "                                  &#x27;OtrosIngresos__c&#x27;, &#x27;EgresosAnuales__c&#x27;,\n",
       "                                  &#x27;edad&#x27;]),\n",
       "                                (&#x27;cat&#x27;, OneHotEncoder(handle_unknown=&#x27;ignore&#x27;),\n",
       "                                 [&#x27;tipo_poliza_name&#x27;, &#x27;tipo_prod_desc&#x27;,\n",
       "                                  &#x27;ClaseVehiculo__c&#x27;, &#x27;TipoVehiculo__c&#x27;,\n",
       "                                  &#x27;EstadoCivil__pc&#x27;, &#x27;Genero__pc&#x27;])])</pre></div></div></div><div class=\"sk-parallel\"><div class=\"sk-parallel-item\"><div class=\"sk-item\"><div class=\"sk-label-container\"><div class=\"sk-label sk-toggleable\"><input class=\"sk-toggleable__control sk-hidden--visually\" id=\"68b3b071-14b8-4ce3-9717-2a382dd984d6\" type=\"checkbox\" ><label for=\"68b3b071-14b8-4ce3-9717-2a382dd984d6\" class=\"sk-toggleable__label sk-toggleable__label-arrow\">num</label><div class=\"sk-toggleable__content\"><pre>[&#x27;n_prod_prev&#x27;, &#x27;total_siniestros&#x27;, &#x27;total_pagado_smmlv&#x27;, &#x27;anios_ultimo_siniestro&#x27;, &#x27;Activos__c&#x27;, &#x27;AnnualRevenue&#x27;, &#x27;MontoAnual__c&#x27;, &#x27;OtrosIngresos__c&#x27;, &#x27;EgresosAnuales__c&#x27;, &#x27;edad&#x27;]</pre></div></div></div><div class=\"sk-serial\"><div class=\"sk-item\"><div class=\"sk-serial\"><div class=\"sk-item\"><div class=\"sk-estimator sk-toggleable\"><input class=\"sk-toggleable__control sk-hidden--visually\" id=\"d37ae408-4d83-459f-b650-b56d62202ab0\" type=\"checkbox\" ><label for=\"d37ae408-4d83-459f-b650-b56d62202ab0\" class=\"sk-toggleable__label sk-toggleable__label-arrow\">SimpleImputer</label><div class=\"sk-toggleable__content\"><pre>SimpleImputer(fill_value=0, strategy=&#x27;constant&#x27;)</pre></div></div></div><div class=\"sk-item\"><div class=\"sk-estimator sk-toggleable\"><input class=\"sk-toggleable__control sk-hidden--visually\" id=\"c88674ed-2910-4a74-85e9-9ba387084fa5\" type=\"checkbox\" ><label for=\"c88674ed-2910-4a74-85e9-9ba387084fa5\" class=\"sk-toggleable__label sk-toggleable__label-arrow\">StandardScaler</label><div class=\"sk-toggleable__content\"><pre>StandardScaler()</pre></div></div></div></div></div></div></div></div><div class=\"sk-parallel-item\"><div class=\"sk-item\"><div class=\"sk-label-container\"><div class=\"sk-label sk-toggleable\"><input class=\"sk-toggleable__control sk-hidden--visually\" id=\"4848dbca-5be8-4941-a0d3-8458c3bcf722\" type=\"checkbox\" ><label for=\"4848dbca-5be8-4941-a0d3-8458c3bcf722\" class=\"sk-toggleable__label sk-toggleable__label-arrow\">cat</label><div class=\"sk-toggleable__content\"><pre>[&#x27;tipo_poliza_name&#x27;, &#x27;tipo_prod_desc&#x27;, &#x27;ClaseVehiculo__c&#x27;, &#x27;TipoVehiculo__c&#x27;, &#x27;EstadoCivil__pc&#x27;, &#x27;Genero__pc&#x27;]</pre></div></div></div><div class=\"sk-serial\"><div class=\"sk-item\"><div class=\"sk-estimator sk-toggleable\"><input class=\"sk-toggleable__control sk-hidden--visually\" id=\"548d16f0-b920-4a40-b120-891617351cdf\" type=\"checkbox\" ><label for=\"548d16f0-b920-4a40-b120-891617351cdf\" class=\"sk-toggleable__label sk-toggleable__label-arrow\">OneHotEncoder</label><div class=\"sk-toggleable__content\"><pre>OneHotEncoder(handle_unknown=&#x27;ignore&#x27;)</pre></div></div></div></div></div></div></div></div><div class=\"sk-item\"><div class=\"sk-estimator sk-toggleable\"><input class=\"sk-toggleable__control sk-hidden--visually\" id=\"33d52d0c-6ef9-47ef-bf13-7cc5713b12e9\" type=\"checkbox\" ><label for=\"33d52d0c-6ef9-47ef-bf13-7cc5713b12e9\" class=\"sk-toggleable__label sk-toggleable__label-arrow\">GradientBoostingClassifier</label><div class=\"sk-toggleable__content\"><pre>GradientBoostingClassifier()</pre></div></div></div></div></div></div></div>"
      ],
      "text/plain": [
       "Pipeline(steps=[('cleaner',\n",
       "                 ColumnTransformer(transformers=[('num',\n",
       "                                                  Pipeline(steps=[('imputer',\n",
       "                                                                   SimpleImputer(fill_value=0,\n",
       "                                                                                 strategy='constant')),\n",
       "                                                                  ('scaler',\n",
       "                                                                   StandardScaler())]),\n",
       "                                                  ['n_prod_prev',\n",
       "                                                   'total_siniestros',\n",
       "                                                   'total_pagado_smmlv',\n",
       "                                                   'anios_ultimo_siniestro',\n",
       "                                                   'Activos__c',\n",
       "                                                   'AnnualRevenue',\n",
       "                                                   'MontoAnual__c',\n",
       "                                                   'OtrosIngresos__c',\n",
       "                                                   'EgresosAnuales__c',\n",
       "                                                   'edad']),\n",
       "                                                 ('cat',\n",
       "                                                  OneHotEncoder(handle_unknown='ignore'),\n",
       "                                                  ['tipo_poliza_name',\n",
       "                                                   'tipo_prod_desc',\n",
       "                                                   'ClaseVehiculo__c',\n",
       "                                                   'TipoVehiculo__c',\n",
       "                                                   'EstadoCivil__pc',\n",
       "                                                   'Genero__pc'])])),\n",
       "                ('model', GradientBoostingClassifier())],\n",
       "         verbose=True)"
      ]
     },
     "metadata": {},
     "output_type": "display_data"
    }
   ],
   "source": [
    "display(pipe)"
   ]
  },
  {
   "cell_type": "code",
   "execution_count": 19,
   "metadata": {},
   "outputs": [
    {
     "data": {
      "text/plain": [
       "array([1, 1, 0, ..., 1, 0, 0])"
      ]
     },
     "execution_count": 19,
     "metadata": {},
     "output_type": "execute_result"
    }
   ],
   "source": [
    "test['churn'].values.ravel()"
   ]
  },
  {
   "cell_type": "code",
   "execution_count": 18,
   "metadata": {},
   "outputs": [
    {
     "name": "stdout",
     "output_type": "stream",
     "text": [
      " Accuracy:0.8404 \n",
      " Precision: 0.0000 \n",
      " Recall: 0.0000 \n",
      " Kappa: 0.0000 \n",
      " F1-Score: 0.0000 \n"
     ]
    },
    {
     "name": "stderr",
     "output_type": "stream",
     "text": [
      "C:\\Users\\jhonp\\miniconda3\\lib\\site-packages\\sklearn\\metrics\\_classification.py:1318: UndefinedMetricWarning: Precision is ill-defined and being set to 0.0 due to no predicted samples. Use `zero_division` parameter to control this behavior.\n",
      "  _warn_prf(average, modifier, msg_start, len(result))\n"
     ]
    },
    {
     "data": {
      "text/plain": [
       "{'kappa': 0.0,\n",
       " 'accuracy': 0.84039745381152,\n",
       " 'f1': 0.0,\n",
       " 'prec': 0.0,\n",
       " 'recall': 0.0}"
      ]
     },
     "execution_count": 18,
     "metadata": {},
     "output_type": "execute_result"
    }
   ],
   "source": [
    "metrics(test['churn'].values.ravel(),xgb.predict(test.drop(columns=\"churn\")))"
   ]
  },
  {
   "cell_type": "code",
   "execution_count": 29,
   "metadata": {},
   "outputs": [
    {
     "name": "stdout",
     "output_type": "stream",
     "text": [
      "===Métricas para XGboost===\n",
      "\n",
      "\n",
      "\t Training\n",
      "\n",
      " Accuracy:0.8392 \n",
      " Precision: 0.0000 \n",
      " Recall: 0.0000 \n",
      " Kappa: 0.0000 \n",
      " F1-Score: 0.0000 \n",
      "\n",
      "\t Test \n",
      "\n",
      " Accuracy:0.8404 \n",
      " Precision: 0.0000 \n",
      " Recall: 0.0000 \n",
      " Kappa: 0.0000 \n",
      " F1-Score: 0.0000 \n"
     ]
    },
    {
     "name": "stderr",
     "output_type": "stream",
     "text": [
      "C:\\Users\\jhonp\\miniconda3\\lib\\site-packages\\sklearn\\metrics\\_classification.py:1318: UndefinedMetricWarning: Precision is ill-defined and being set to 0.0 due to no predicted samples. Use `zero_division` parameter to control this behavior.\n",
      "  _warn_prf(average, modifier, msg_start, len(result))\n",
      "C:\\Users\\jhonp\\miniconda3\\lib\\site-packages\\sklearn\\metrics\\_classification.py:1318: UndefinedMetricWarning: Precision is ill-defined and being set to 0.0 due to no predicted samples. Use `zero_division` parameter to control this behavior.\n",
      "  _warn_prf(average, modifier, msg_start, len(result))\n"
     ]
    }
   ],
   "source": [
    "from utils import metrics\n",
    "\n",
    "print(\"===Métricas para XGboost===\\n\")\n",
    "print(\"\\n\\t Training\\n\")\n",
    "_=metrics(Y_train.ravel(),xgb.predict(X_train))\n",
    "print(\"\\n\\t Test \\n\")\n",
    "_=metrics(test['churn'].values.ravel(),xgb.predict(test.drop(columns=\"churn\")))\n",
    "\n"
   ]
  }
 ],
 "metadata": {
  "interpreter": {
   "hash": "94f342b5774f3b0269f7de90f71f08146fbd0694077eadaf6e909336ed9c3d31"
  },
  "kernelspec": {
   "display_name": "Python 3.9.7 ('base')",
   "language": "python",
   "name": "python3"
  },
  "language_info": {
   "codemirror_mode": {
    "name": "ipython",
    "version": 3
   },
   "file_extension": ".py",
   "mimetype": "text/x-python",
   "name": "python",
   "nbconvert_exporter": "python",
   "pygments_lexer": "ipython3",
   "version": "3.9.7"
  },
  "orig_nbformat": 4
 },
 "nbformat": 4,
 "nbformat_minor": 2
}
